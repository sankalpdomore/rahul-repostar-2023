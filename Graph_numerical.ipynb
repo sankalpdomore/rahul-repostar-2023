{
 "cells": [
  {
   "cell_type": "code",
   "execution_count": 1,
   "id": "79367d91-3081-4786-ae72-b7453c276457",
   "metadata": {},
   "outputs": [],
   "source": [
    "import pandas as pd\n",
    "import numpy as np\n",
    "import os\n",
    "import umap\n",
    "import json\n",
    "\n",
    "import networkx as nx\n",
    "from gensim.models import KeyedVectors\n",
    "from nodevectors import Node2Vec, GGVec\n",
    "\n",
    "import plotly.express as px"
   ]
  },
  {
   "cell_type": "code",
   "execution_count": 2,
   "id": "88ccf3c4-1e6c-4a39-b1e5-cfed93955c31",
   "metadata": {},
   "outputs": [],
   "source": [
    "# Shape (2931112, 23)\n",
    "users  = pd.read_csv('SocialTalk 2023/accounts.csv', on_bad_lines='skip', low_memory=False) #We are encoutering some bad lines creating some error so we skip over them\n",
    "users = users[:10000]\n",
    "users['label'] = users['Id'].apply(lambda x: f'Account:{x}') #adding label here\n",
    "users['Social network'] = users['Social network'].replace(['None'],np.nan) # replacing 'None' in Social network with np.nan"
   ]
  },
  {
   "cell_type": "code",
   "execution_count": 3,
   "id": "01ec5308-8a74-48d0-bf9b-6a28ac8d2e09",
   "metadata": {},
   "outputs": [],
   "source": [
    "# Slicing the data frame\n",
    "clean_df = users[['Id','City id','Gender','Social network','Followers',\"Estimated reach\",\"Avg. views per video\"]]"
   ]
  },
  {
   "cell_type": "code",
   "execution_count": 4,
   "id": "4ddf3f99-875c-4c3f-82cf-feda5c16c747",
   "metadata": {},
   "outputs": [
    {
     "name": "stderr",
     "output_type": "stream",
     "text": [
      "/opt/conda/lib/python3.7/site-packages/ipykernel_launcher.py:1: SettingWithCopyWarning: \n",
      "A value is trying to be set on a copy of a slice from a DataFrame.\n",
      "Try using .loc[row_indexer,col_indexer] = value instead\n",
      "\n",
      "See the caveats in the documentation: https://pandas.pydata.org/pandas-docs/stable/user_guide/indexing.html#returning-a-view-versus-a-copy\n",
      "  \"\"\"Entry point for launching an IPython kernel.\n"
     ]
    }
   ],
   "source": [
    "clean_df['Id'] = clean_df['Id'].apply(lambda x: f'Account:{x}')\n",
    "clean_df = clean_df.rename(columns={'City id': 'City','Social network':'Social_network',\n",
    "                                    \"Avg. views per video\":\"Avg._views_per_video\",\n",
    "                                    \"Estimated reach\":\"Estimated_reach\"}).set_index('Id')\n",
    "\n",
    "#Country-ID mapping\n",
    "city_ids = pd.read_csv('SocialTalk 2023/cities.csv', low_memory=False) #Shape (7087, 2)\n",
    "\n",
    "clean_df['City'] = clean_df['City'].map(city_ids.set_index('Id')['Name'].to_dict())\n",
    "clean_df['City'] = clean_df['City'].str.replace(\" \",\"_\") #Replace white space by \"_\""
   ]
  },
  {
   "cell_type": "code",
   "execution_count": 5,
   "id": "4d5a954c-0970-432e-b635-beea2e6c153e",
   "metadata": {},
   "outputs": [],
   "source": [
    "## Filling NaN values with UKN\n",
    "clean_df.fillna(\"UKNOWN\",inplace=True)"
   ]
  },
  {
   "cell_type": "code",
   "execution_count": 6,
   "id": "0e683139-48e7-4a6e-aba3-28e36145c48f",
   "metadata": {},
   "outputs": [],
   "source": [
    "## Handling Numerical Columns"
   ]
  },
  {
   "cell_type": "code",
   "execution_count": 7,
   "id": "7d81af8a-b6cd-4eb1-b2c7-5d628251bf38",
   "metadata": {},
   "outputs": [],
   "source": [
    "clean_df[\"Followers\"]=clean_df[\"Followers\"].astype('int64')\n",
    "for i in clean_df.columns[-3:]:\n",
    "    if i !='Avg._views_per_video':\n",
    "        clean_df[i] = pd.qcut(clean_df[i],q=3,labels=[\"low\",\"average\",\"high\"],duplicates='drop')\n",
    "    else:\n",
    "        clean_df[i] = pd.qcut(clean_df[i],q=4,labels=[\"low\",\"average\",\"high\"],duplicates='drop')"
   ]
  },
  {
   "cell_type": "code",
   "execution_count": 8,
   "id": "b23f17b2-61cb-4449-ae29-d019afbf2211",
   "metadata": {},
   "outputs": [],
   "source": [
    "## creating edges from users data\n",
    "edges = []\n",
    "for column in clean_df.columns:\n",
    "    series_tuples = [\n",
    "        (account, f'{column}:{value}') for account, value in clean_df[column].items()\n",
    "        ]\n",
    "    edges.extend(series_tuples)"
   ]
  },
  {
   "cell_type": "code",
   "execution_count": 9,
   "id": "a0489be4-ab87-45f8-9db5-7c9380e9ef7d",
   "metadata": {},
   "outputs": [
    {
     "data": {
      "text/plain": [
       "48331"
      ]
     },
     "execution_count": 9,
     "metadata": {},
     "output_type": "execute_result"
    }
   ],
   "source": [
    "## removing all the edges that have value as low (numerical columns)\n",
    "e2 = [i for i in edges if not i[1].endswith('low')]\n",
    "len(e2)"
   ]
  },
  {
   "cell_type": "code",
   "execution_count": 10,
   "id": "9c1da885-fcab-4c9a-92e3-831a5ea7fd63",
   "metadata": {},
   "outputs": [],
   "source": [
    "graph = pd.DataFrame(e2, columns=['source', 'target'])\n",
    "graph.to_csv('edge_list.csv',index=False)"
   ]
  },
  {
   "cell_type": "code",
   "execution_count": null,
   "id": "e5aef6b9-6aa5-43af-a4f5-a1de533c368f",
   "metadata": {},
   "outputs": [],
   "source": []
  },
  {
   "cell_type": "code",
   "execution_count": 11,
   "id": "783ffaf8-379e-411e-9725-a15fe5ca55bc",
   "metadata": {},
   "outputs": [],
   "source": [
    "G = nx.from_pandas_edgelist(graph)"
   ]
  },
  {
   "cell_type": "code",
   "execution_count": null,
   "id": "a1ce0bdc-6831-4105-be6d-1d14d209f82b",
   "metadata": {},
   "outputs": [
    {
     "name": "stdout",
     "output_type": "stream",
     "text": [
      "Making walks... Done, T=4.18\n",
      "Mapping Walk Names... Done, T=1.56\n",
      "Training W2V... WARNING: gensim word2vec version is unoptimizedTry version 3.6 if on windows, versions 3.7 and 3.8 have had issues\n",
      "Done, T=102.49\n"
     ]
    }
   ],
   "source": [
    "g2v = Node2Vec()\n",
    "n2v_embeddings = g2v.fit(G)\n",
    "g2v.save_vectors(\"wheel_model_v2.bin\")"
   ]
  },
  {
   "cell_type": "code",
   "execution_count": null,
   "id": "88fcd6d2-22ef-422d-8e87-e26b9d6f9609",
   "metadata": {},
   "outputs": [
    {
     "data": {
      "text/plain": [
       "'\\nTrying GGvec\\n'"
      ]
     },
     "execution_count": 13,
     "metadata": {},
     "output_type": "execute_result"
    }
   ],
   "source": [
    "'''\n",
    "Trying GGvec\n",
    "'''"
   ]
  },
  {
   "cell_type": "code",
   "execution_count": null,
   "id": "f0b2b113-46da-4ef0-bfc8-6f93788ea537",
   "metadata": {},
   "outputs": [
    {
     "data": {
      "text/plain": [
       "'import csrgraph as cg\\nimport nodevectors\\n\\nG = cg.read_edgelist(\"edge_list.csv\", directed=False, sep=\\',\\')\\nggvec_model = nodevectors.GGVec(verbose=True,max_epoch=50,learning_rate=0.01,order=2) # Learning rate 0.05 produces 0.0015 loss\\nembeddings = ggvec_model.fit_transform(G)\\n#ggvec_model.save(\\'GGmodel\\')'"
      ]
     },
     "execution_count": 14,
     "metadata": {},
     "output_type": "execute_result"
    }
   ],
   "source": [
    "\"\"\"import csrgraph as cg\n",
    "import nodevectors\n",
    "\n",
    "G = cg.read_edgelist(\"edge_list.csv\", directed=False, sep=',')\n",
    "ggvec_model = nodevectors.GGVec(verbose=True,max_epoch=50,learning_rate=0.01,order=2) # Learning rate 0.05 produces 0.0015 loss\n",
    "embeddings = ggvec_model.fit_transform(G)\n",
    "#ggvec_model.save('GGmodel')\"\"\""
   ]
  },
  {
   "cell_type": "code",
   "execution_count": null,
   "id": "96307192-65a4-4b92-92f7-1699951fdf36",
   "metadata": {},
   "outputs": [
    {
     "ename": "AttributeError",
     "evalue": "'Node2Vec' object has no attribute 'accuracy'",
     "output_type": "error",
     "traceback": [
      "\u001b[0;31m---------------------------------------------------------------------------\u001b[0m",
      "\u001b[0;31mAttributeError\u001b[0m                            Traceback (most recent call last)",
      "\u001b[0;32m/var/tmp/ipykernel_7787/3736736478.py\u001b[0m in \u001b[0;36m<module>\u001b[0;34m\u001b[0m\n\u001b[0;32m----> 1\u001b[0;31m \u001b[0mg2v\u001b[0m\u001b[0;34m.\u001b[0m\u001b[0maccuracy\u001b[0m\u001b[0;34m(\u001b[0m\u001b[0;34m)\u001b[0m\u001b[0;34m\u001b[0m\u001b[0;34m\u001b[0m\u001b[0m\n\u001b[0m",
      "\u001b[0;31mAttributeError\u001b[0m: 'Node2Vec' object has no attribute 'accuracy'"
     ]
    }
   ],
   "source": [
    "g2v.accuracy()"
   ]
  }
 ],
 "metadata": {
  "kernelspec": {
   "display_name": "Python 3",
   "language": "python",
   "name": "python3"
  },
  "language_info": {
   "codemirror_mode": {
    "name": "ipython",
    "version": 3
   },
   "file_extension": ".py",
   "mimetype": "text/x-python",
   "name": "python",
   "nbconvert_exporter": "python",
   "pygments_lexer": "ipython3",
   "version": "3.7.12"
  }
 },
 "nbformat": 4,
 "nbformat_minor": 5
}
