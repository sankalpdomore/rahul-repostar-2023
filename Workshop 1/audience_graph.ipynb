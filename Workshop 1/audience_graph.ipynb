{
 "cells": [
  {
   "cell_type": "code",
   "execution_count": null,
   "id": "fd1a2576-b444-4bfc-b34d-7e6bbde0ee31",
   "metadata": {},
   "outputs": [],
   "source": [
    "'''\n",
    "Lets Use Audience data for graph creation\n",
    "\n",
    "REVIEW LATER: Bining criteria\n",
    "\n",
    "TODO: Making graphs for brands, cities, countries, interests\n",
    "\n",
    "'''"
   ]
  },
  {
   "cell_type": "code",
   "execution_count": 2,
   "id": "555b1164-cf8a-484c-b993-06c2047ebdc5",
   "metadata": {},
   "outputs": [],
   "source": [
    "import pandas as pd"
   ]
  },
  {
   "cell_type": "code",
   "execution_count": 3,
   "id": "6999c09d-c998-423f-bc4d-2056c692fa50",
   "metadata": {},
   "outputs": [],
   "source": [
    "users  = pd.read_csv('../SocialTalk 2023/accounts.csv', on_bad_lines='skip', low_memory=False)"
   ]
  },
  {
   "cell_type": "code",
   "execution_count": 4,
   "id": "0b79c188-a227-43e2-ba6a-292b9d496454",
   "metadata": {},
   "outputs": [],
   "source": [
    "audience_ages = pd.read_csv('../SocialTalk 2023/accounts-audience-ages.csv')\n",
    "audience_brands = pd.read_csv('../SocialTalk 2023/accounts-audience-brands.csv')\n",
    "audience_cities = pd.read_csv('../SocialTalk 2023/accounts-audience-cities.csv')\n",
    "audience_countries = pd.read_csv('../SocialTalk 2023/accounts-audience-countries.csv')\n",
    "audience_interests = pd.read_csv('../SocialTalk 2023/accounts-audience-interests.csv')\n",
    "audience_lookalikes = pd.read_csv('../SocialTalk 2023/accounts-audience-lookalikes.csv')\n",
    "audience_genders = pd.read_csv('../SocialTalk 2023/accounts-audience-genders.csv')"
   ]
  },
  {
   "cell_type": "code",
   "execution_count": 5,
   "id": "068160c8-f8f6-4fe8-bc52-ddd19f2d5e0e",
   "metadata": {},
   "outputs": [
    {
     "data": {
      "text/html": [
       "<div>\n",
       "<style scoped>\n",
       "    .dataframe tbody tr th:only-of-type {\n",
       "        vertical-align: middle;\n",
       "    }\n",
       "\n",
       "    .dataframe tbody tr th {\n",
       "        vertical-align: top;\n",
       "    }\n",
       "\n",
       "    .dataframe thead th {\n",
       "        text-align: right;\n",
       "    }\n",
       "</style>\n",
       "<table border=\"1\" class=\"dataframe\">\n",
       "  <thead>\n",
       "    <tr style=\"text-align: right;\">\n",
       "      <th></th>\n",
       "      <th>Account Id</th>\n",
       "      <th>Brand Id</th>\n",
       "      <th>%</th>\n",
       "    </tr>\n",
       "  </thead>\n",
       "  <tbody>\n",
       "    <tr>\n",
       "      <th>count</th>\n",
       "      <td>3.538420e+05</td>\n",
       "      <td>353842.000000</td>\n",
       "      <td>353842.000000</td>\n",
       "    </tr>\n",
       "    <tr>\n",
       "      <th>mean</th>\n",
       "      <td>4.664900e+05</td>\n",
       "      <td>182.990219</td>\n",
       "      <td>0.015616</td>\n",
       "    </tr>\n",
       "    <tr>\n",
       "      <th>std</th>\n",
       "      <td>6.110933e+05</td>\n",
       "      <td>235.203422</td>\n",
       "      <td>0.018101</td>\n",
       "    </tr>\n",
       "    <tr>\n",
       "      <th>min</th>\n",
       "      <td>1.520000e+02</td>\n",
       "      <td>12.000000</td>\n",
       "      <td>0.005000</td>\n",
       "    </tr>\n",
       "    <tr>\n",
       "      <th>25%</th>\n",
       "      <td>1.229740e+05</td>\n",
       "      <td>42.000000</td>\n",
       "      <td>0.006649</td>\n",
       "    </tr>\n",
       "    <tr>\n",
       "      <th>50%</th>\n",
       "      <td>1.919020e+05</td>\n",
       "      <td>87.000000</td>\n",
       "      <td>0.009550</td>\n",
       "    </tr>\n",
       "    <tr>\n",
       "      <th>75%</th>\n",
       "      <td>5.462160e+05</td>\n",
       "      <td>207.000000</td>\n",
       "      <td>0.016401</td>\n",
       "    </tr>\n",
       "    <tr>\n",
       "      <th>max</th>\n",
       "      <td>2.915941e+06</td>\n",
       "      <td>1763.000000</td>\n",
       "      <td>0.607870</td>\n",
       "    </tr>\n",
       "  </tbody>\n",
       "</table>\n",
       "</div>"
      ],
      "text/plain": [
       "         Account Id       Brand Id              %\n",
       "count  3.538420e+05  353842.000000  353842.000000\n",
       "mean   4.664900e+05     182.990219       0.015616\n",
       "std    6.110933e+05     235.203422       0.018101\n",
       "min    1.520000e+02      12.000000       0.005000\n",
       "25%    1.229740e+05      42.000000       0.006649\n",
       "50%    1.919020e+05      87.000000       0.009550\n",
       "75%    5.462160e+05     207.000000       0.016401\n",
       "max    2.915941e+06    1763.000000       0.607870"
      ]
     },
     "execution_count": 5,
     "metadata": {},
     "output_type": "execute_result"
    }
   ],
   "source": [
    "audience_brands.describe()"
   ]
  },
  {
   "cell_type": "code",
   "execution_count": 6,
   "id": "b16dcc97-8624-4644-a321-dd37f82e4344",
   "metadata": {},
   "outputs": [
    {
     "name": "stdout",
     "output_type": "stream",
     "text": [
      "0.006649\n",
      "0.00955\n",
      "0.016401\n"
     ]
    }
   ],
   "source": [
    "print(audience_brands.describe().loc['25%']['%'])\n",
    "print(audience_brands.describe().loc['50%']['%'])\n",
    "print(audience_brands.describe().loc['75%']['%'])"
   ]
  },
  {
   "cell_type": "code",
   "execution_count": null,
   "id": "5a214bfb-47d8-4957-82da-ddb39b7de62e",
   "metadata": {},
   "outputs": [],
   "source": [
    "def BIN(x):\n",
    "    if(x < audience_genders.describe().loc['25%']['MALE %']):\n",
    "        return 'Low'\n",
    "    elif(x >audience_genders.describe().loc['25%']['MALE %'] and x<audience_genders.describe().loc['75%']['MALE %']):\n",
    "        return 'Medium'\n",
    "    elif(x>audience_genders.describe().loc['75%']['MALE %'])\n",
    "        return 'High'"
   ]
  },
  {
   "cell_type": "code",
   "execution_count": null,
   "id": "c3061984-9d80-4d78-a0c2-9dd204fe9f6c",
   "metadata": {},
   "outputs": [],
   "source": [
    "'''\n",
    "Audience Gender: \n",
    "Male : high , medium, low\n",
    "Female : high, medium, low\n",
    "'''"
   ]
  },
  {
   "cell_type": "code",
   "execution_count": 67,
   "id": "e1f25502-2c62-4f62-a8fb-216b4548ca5d",
   "metadata": {},
   "outputs": [],
   "source": [
    "def BIN(x):\n",
    "    if(x < .33):\n",
    "        return 'Low'\n",
    "    elif(x < .66):\n",
    "        return 'Medium'\n",
    "    else:\n",
    "        return 'High'"
   ]
  },
  {
   "cell_type": "code",
   "execution_count": 68,
   "id": "ee4191b9-3186-456b-a5b3-3a48c023008f",
   "metadata": {},
   "outputs": [],
   "source": [
    "audience_genders['MALE %'] = audience_genders['MALE %'].apply(lambda x: BIN(x))\n",
    "audience_genders['FEMALE %'] = audience_genders['FEMALE %'].apply(lambda x: BIN(x))"
   ]
  },
  {
   "cell_type": "code",
   "execution_count": 99,
   "id": "0491b26c-9e53-4fe7-8e98-8ca2c61e1fe3",
   "metadata": {},
   "outputs": [],
   "source": [
    "users = users.merge(audience_genders,how='left' ,left_on='Id',right_on = 'Account Id') #283493 rows which create nan"
   ]
  },
  {
   "cell_type": "code",
   "execution_count": 72,
   "id": "28e2541f-787d-4129-b0a5-b3bb8d5fd9a4",
   "metadata": {},
   "outputs": [
    {
     "data": {
      "text/plain": [
       "MALE %      283493\n",
       "FEMALE %    283493\n",
       "dtype: int64"
      ]
     },
     "execution_count": 72,
     "metadata": {},
     "output_type": "execute_result"
    }
   ],
   "source": [
    "users[['MALE %','FEMALE %']].isna().sum() "
   ]
  },
  {
   "cell_type": "code",
   "execution_count": null,
   "id": "9fa7806f-8536-4fd9-8bb9-f202eebd7428",
   "metadata": {},
   "outputs": [],
   "source": [
    "'''\n",
    "Audience Ages\n",
    "high,medium,low\n",
    "nan -> low\n",
    "'''"
   ]
  },
  {
   "cell_type": "code",
   "execution_count": 88,
   "id": "6ed0810a-6783-4d1a-b283-1f55cae364fa",
   "metadata": {},
   "outputs": [],
   "source": [
    "audience_ages = pd.read_csv('../SocialTalk 2023/accounts-audience-ages.csv')"
   ]
  },
  {
   "cell_type": "code",
   "execution_count": 4,
   "id": "21e2a527-d815-4802-a209-6fffccb1b957",
   "metadata": {},
   "outputs": [],
   "source": [
    "def BIN(x):\n",
    "    if(x < .33):\n",
    "        return 'Low'\n",
    "    elif(x < .66):\n",
    "        return 'Medium'\n",
    "    elif(x <= 1):\n",
    "        return 'High'\n",
    "    else: \n",
    "        return 'Low'"
   ]
  },
  {
   "cell_type": "code",
   "execution_count": 90,
   "id": "e2459a9e-3e32-4192-bef6-8c5d84ed5d7b",
   "metadata": {},
   "outputs": [],
   "source": [
    "for i in audience_ages.columns:\n",
    "    if(i != 'Account Id'):\n",
    "        audience_ages[i] = audience_ages[i].apply(lambda x: BIN(x))\n",
    "        audience_ages.rename(columns = {i:'Audience-Age-' + i.replace(' ','_')}, inplace = True)"
   ]
  },
  {
   "cell_type": "code",
   "execution_count": null,
   "id": "8478328c-bf58-4aa9-8681-0d9e72f80d85",
   "metadata": {},
   "outputs": [],
   "source": []
  },
  {
   "cell_type": "code",
   "execution_count": 106,
   "id": "4c7ec505-32ab-41a9-99b3-eccac5833a42",
   "metadata": {},
   "outputs": [
    {
     "data": {
      "text/html": [
       "<div>\n",
       "<style scoped>\n",
       "    .dataframe tbody tr th:only-of-type {\n",
       "        vertical-align: middle;\n",
       "    }\n",
       "\n",
       "    .dataframe tbody tr th {\n",
       "        vertical-align: top;\n",
       "    }\n",
       "\n",
       "    .dataframe thead th {\n",
       "        text-align: right;\n",
       "    }\n",
       "</style>\n",
       "<table border=\"1\" class=\"dataframe\">\n",
       "  <thead>\n",
       "    <tr style=\"text-align: right;\">\n",
       "      <th></th>\n",
       "      <th>Account Id</th>\n",
       "      <th>Audience-Age-13-17_%</th>\n",
       "      <th>Audience-Age-18-24_%</th>\n",
       "      <th>Audience-Age-25-34_%</th>\n",
       "      <th>Audience-Age-35-44_%</th>\n",
       "      <th>Audience-Age-45-64_%</th>\n",
       "      <th>Audience-Age-65-_%</th>\n",
       "    </tr>\n",
       "  </thead>\n",
       "  <tbody>\n",
       "    <tr>\n",
       "      <th>0</th>\n",
       "      <td>151</td>\n",
       "      <td>Low</td>\n",
       "      <td>Low</td>\n",
       "      <td>Medium</td>\n",
       "      <td>Medium</td>\n",
       "      <td>Low</td>\n",
       "      <td>Low</td>\n",
       "    </tr>\n",
       "    <tr>\n",
       "      <th>1</th>\n",
       "      <td>152</td>\n",
       "      <td>Low</td>\n",
       "      <td>Medium</td>\n",
       "      <td>Medium</td>\n",
       "      <td>Low</td>\n",
       "      <td>Low</td>\n",
       "      <td>Low</td>\n",
       "    </tr>\n",
       "    <tr>\n",
       "      <th>2</th>\n",
       "      <td>153</td>\n",
       "      <td>Low</td>\n",
       "      <td>Medium</td>\n",
       "      <td>Medium</td>\n",
       "      <td>Low</td>\n",
       "      <td>Low</td>\n",
       "      <td>Low</td>\n",
       "    </tr>\n",
       "    <tr>\n",
       "      <th>3</th>\n",
       "      <td>154</td>\n",
       "      <td>Low</td>\n",
       "      <td>Medium</td>\n",
       "      <td>Medium</td>\n",
       "      <td>Low</td>\n",
       "      <td>Low</td>\n",
       "      <td>Low</td>\n",
       "    </tr>\n",
       "    <tr>\n",
       "      <th>4</th>\n",
       "      <td>155</td>\n",
       "      <td>Low</td>\n",
       "      <td>Medium</td>\n",
       "      <td>Low</td>\n",
       "      <td>Low</td>\n",
       "      <td>Low</td>\n",
       "      <td>Low</td>\n",
       "    </tr>\n",
       "    <tr>\n",
       "      <th>...</th>\n",
       "      <td>...</td>\n",
       "      <td>...</td>\n",
       "      <td>...</td>\n",
       "      <td>...</td>\n",
       "      <td>...</td>\n",
       "      <td>...</td>\n",
       "      <td>...</td>\n",
       "    </tr>\n",
       "    <tr>\n",
       "      <th>2657891</th>\n",
       "      <td>2936780</td>\n",
       "      <td>Low</td>\n",
       "      <td>Medium</td>\n",
       "      <td>Medium</td>\n",
       "      <td>Low</td>\n",
       "      <td>Low</td>\n",
       "      <td>Low</td>\n",
       "    </tr>\n",
       "    <tr>\n",
       "      <th>2657892</th>\n",
       "      <td>2936781</td>\n",
       "      <td>Low</td>\n",
       "      <td>Medium</td>\n",
       "      <td>Medium</td>\n",
       "      <td>Low</td>\n",
       "      <td>Low</td>\n",
       "      <td>Low</td>\n",
       "    </tr>\n",
       "    <tr>\n",
       "      <th>2657893</th>\n",
       "      <td>2936782</td>\n",
       "      <td>Low</td>\n",
       "      <td>Low</td>\n",
       "      <td>Medium</td>\n",
       "      <td>Low</td>\n",
       "      <td>Low</td>\n",
       "      <td>Low</td>\n",
       "    </tr>\n",
       "    <tr>\n",
       "      <th>2657894</th>\n",
       "      <td>2936783</td>\n",
       "      <td>Low</td>\n",
       "      <td>Low</td>\n",
       "      <td>Medium</td>\n",
       "      <td>Low</td>\n",
       "      <td>Low</td>\n",
       "      <td>Low</td>\n",
       "    </tr>\n",
       "    <tr>\n",
       "      <th>2657895</th>\n",
       "      <td>2936784</td>\n",
       "      <td>Low</td>\n",
       "      <td>Low</td>\n",
       "      <td>Medium</td>\n",
       "      <td>Low</td>\n",
       "      <td>Low</td>\n",
       "      <td>Low</td>\n",
       "    </tr>\n",
       "  </tbody>\n",
       "</table>\n",
       "<p>2657896 rows × 7 columns</p>\n",
       "</div>"
      ],
      "text/plain": [
       "         Account Id Audience-Age-13-17_% Audience-Age-18-24_%  \\\n",
       "0               151                  Low                  Low   \n",
       "1               152                  Low               Medium   \n",
       "2               153                  Low               Medium   \n",
       "3               154                  Low               Medium   \n",
       "4               155                  Low               Medium   \n",
       "...             ...                  ...                  ...   \n",
       "2657891     2936780                  Low               Medium   \n",
       "2657892     2936781                  Low               Medium   \n",
       "2657893     2936782                  Low                  Low   \n",
       "2657894     2936783                  Low                  Low   \n",
       "2657895     2936784                  Low                  Low   \n",
       "\n",
       "        Audience-Age-25-34_% Audience-Age-35-44_% Audience-Age-45-64_%  \\\n",
       "0                     Medium               Medium                  Low   \n",
       "1                     Medium                  Low                  Low   \n",
       "2                     Medium                  Low                  Low   \n",
       "3                     Medium                  Low                  Low   \n",
       "4                        Low                  Low                  Low   \n",
       "...                      ...                  ...                  ...   \n",
       "2657891               Medium                  Low                  Low   \n",
       "2657892               Medium                  Low                  Low   \n",
       "2657893               Medium                  Low                  Low   \n",
       "2657894               Medium                  Low                  Low   \n",
       "2657895               Medium                  Low                  Low   \n",
       "\n",
       "        Audience-Age-65-_%  \n",
       "0                      Low  \n",
       "1                      Low  \n",
       "2                      Low  \n",
       "3                      Low  \n",
       "4                      Low  \n",
       "...                    ...  \n",
       "2657891                Low  \n",
       "2657892                Low  \n",
       "2657893                Low  \n",
       "2657894                Low  \n",
       "2657895                Low  \n",
       "\n",
       "[2657896 rows x 7 columns]"
      ]
     },
     "execution_count": 106,
     "metadata": {},
     "output_type": "execute_result"
    }
   ],
   "source": [
    "audience_ages"
   ]
  },
  {
   "cell_type": "code",
   "execution_count": 103,
   "id": "fa2bdf16-4106-4881-904f-197beaaf03fd",
   "metadata": {},
   "outputs": [],
   "source": [
    "users.drop(['Account Id'],axis=1,inplace=True)"
   ]
  },
  {
   "cell_type": "code",
   "execution_count": 102,
   "id": "c09e9a98-fceb-4d46-a56e-4a15326b7d87",
   "metadata": {},
   "outputs": [],
   "source": [
    "users = users.merge(audience_ages,how='left' ,left_on='Id',right_on = 'Account Id')"
   ]
  },
  {
   "cell_type": "code",
   "execution_count": 96,
   "id": "1b0158b7-e50c-4e1d-855d-091c8b6c7acc",
   "metadata": {},
   "outputs": [
    {
     "data": {
      "text/plain": [
       "273261"
      ]
     },
     "execution_count": 96,
     "metadata": {},
     "output_type": "execute_result"
    }
   ],
   "source": [
    "users['Audience-Age-18-24_%'].isna().sum()"
   ]
  },
  {
   "cell_type": "code",
   "execution_count": 104,
   "id": "1ee6422f-f647-4710-b186-760b978accf0",
   "metadata": {},
   "outputs": [],
   "source": [
    "audience_countries = pd.read_csv('../SocialTalk 2023/accounts-audience-countries.csv')"
   ]
  },
  {
   "cell_type": "code",
   "execution_count": 108,
   "id": "4cf66a54-e50e-4839-8e3a-0e1ca3ef6e8d",
   "metadata": {},
   "outputs": [
    {
     "data": {
      "text/plain": [
       "Account Id    3344.00000\n",
       "Country Id    6313.00000\n",
       "%                0.72021\n",
       "dtype: float64"
      ]
     },
     "execution_count": 108,
     "metadata": {},
     "output_type": "execute_result"
    }
   ],
   "source": [
    "audience_countries[audience_countries['Account Id'] == 152].sum()"
   ]
  },
  {
   "cell_type": "code",
   "execution_count": 119,
   "id": "595be412-87c7-4a10-a2bb-4af37d833275",
   "metadata": {},
   "outputs": [
    {
     "data": {
      "text/plain": [
       "Account Id\n",
       "152        0.720210\n",
       "153        0.705016\n",
       "154        0.742611\n",
       "155        0.766797\n",
       "156        0.649664\n",
       "             ...   \n",
       "2936780    0.981306\n",
       "2936781    0.955853\n",
       "2936782    0.797619\n",
       "2936783    0.988800\n",
       "2936784    0.975853\n",
       "Name: %, Length: 2668575, dtype: float64"
      ]
     },
     "execution_count": 119,
     "metadata": {},
     "output_type": "execute_result"
    }
   ],
   "source": [
    "audience_countries.groupby('Account Id')['%'].sum()"
   ]
  },
  {
   "cell_type": "code",
   "execution_count": 120,
   "id": "63a8b260-1ac7-4c65-bf15-4e8b6cf90287",
   "metadata": {},
   "outputs": [
    {
     "data": {
      "text/html": [
       "<div>\n",
       "<style scoped>\n",
       "    .dataframe tbody tr th:only-of-type {\n",
       "        vertical-align: middle;\n",
       "    }\n",
       "\n",
       "    .dataframe tbody tr th {\n",
       "        vertical-align: top;\n",
       "    }\n",
       "\n",
       "    .dataframe thead th {\n",
       "        text-align: right;\n",
       "    }\n",
       "</style>\n",
       "<table border=\"1\" class=\"dataframe\">\n",
       "  <thead>\n",
       "    <tr style=\"text-align: right;\">\n",
       "      <th></th>\n",
       "      <th>Account Id</th>\n",
       "      <th>Brand Id</th>\n",
       "      <th>%</th>\n",
       "    </tr>\n",
       "  </thead>\n",
       "  <tbody>\n",
       "    <tr>\n",
       "      <th>0</th>\n",
       "      <td>152</td>\n",
       "      <td>12</td>\n",
       "      <td>0.082833</td>\n",
       "    </tr>\n",
       "    <tr>\n",
       "      <th>1</th>\n",
       "      <td>152</td>\n",
       "      <td>13</td>\n",
       "      <td>0.080032</td>\n",
       "    </tr>\n",
       "    <tr>\n",
       "      <th>2</th>\n",
       "      <td>152</td>\n",
       "      <td>14</td>\n",
       "      <td>0.065626</td>\n",
       "    </tr>\n",
       "    <tr>\n",
       "      <th>3</th>\n",
       "      <td>152</td>\n",
       "      <td>15</td>\n",
       "      <td>0.050020</td>\n",
       "    </tr>\n",
       "    <tr>\n",
       "      <th>4</th>\n",
       "      <td>152</td>\n",
       "      <td>17</td>\n",
       "      <td>0.040816</td>\n",
       "    </tr>\n",
       "    <tr>\n",
       "      <th>...</th>\n",
       "      <td>...</td>\n",
       "      <td>...</td>\n",
       "      <td>...</td>\n",
       "    </tr>\n",
       "    <tr>\n",
       "      <th>353837</th>\n",
       "      <td>2915941</td>\n",
       "      <td>92</td>\n",
       "      <td>0.005268</td>\n",
       "    </tr>\n",
       "    <tr>\n",
       "      <th>353838</th>\n",
       "      <td>2915941</td>\n",
       "      <td>335</td>\n",
       "      <td>0.005268</td>\n",
       "    </tr>\n",
       "    <tr>\n",
       "      <th>353839</th>\n",
       "      <td>2915941</td>\n",
       "      <td>492</td>\n",
       "      <td>0.005268</td>\n",
       "    </tr>\n",
       "    <tr>\n",
       "      <th>353840</th>\n",
       "      <td>2915941</td>\n",
       "      <td>188</td>\n",
       "      <td>0.005268</td>\n",
       "    </tr>\n",
       "    <tr>\n",
       "      <th>353841</th>\n",
       "      <td>2915941</td>\n",
       "      <td>85</td>\n",
       "      <td>0.005268</td>\n",
       "    </tr>\n",
       "  </tbody>\n",
       "</table>\n",
       "<p>353842 rows × 3 columns</p>\n",
       "</div>"
      ],
      "text/plain": [
       "        Account Id  Brand Id         %\n",
       "0              152        12  0.082833\n",
       "1              152        13  0.080032\n",
       "2              152        14  0.065626\n",
       "3              152        15  0.050020\n",
       "4              152        17  0.040816\n",
       "...            ...       ...       ...\n",
       "353837     2915941        92  0.005268\n",
       "353838     2915941       335  0.005268\n",
       "353839     2915941       492  0.005268\n",
       "353840     2915941       188  0.005268\n",
       "353841     2915941        85  0.005268\n",
       "\n",
       "[353842 rows x 3 columns]"
      ]
     },
     "execution_count": 120,
     "metadata": {},
     "output_type": "execute_result"
    }
   ],
   "source": [
    "audience_brands"
   ]
  },
  {
   "cell_type": "code",
   "execution_count": 3,
   "id": "8b63dbc2-aff2-461f-a427-57faf492c1f6",
   "metadata": {},
   "outputs": [],
   "source": [
    "audience_interests = pd.read_csv('../SocialTalk 2023/accounts-audience-interests.csv', low_memory=False)"
   ]
  },
  {
   "cell_type": "code",
   "execution_count": 4,
   "id": "31250249-1d30-4e12-b34c-7b7b5286e1df",
   "metadata": {},
   "outputs": [
    {
     "data": {
      "text/plain": [
       "Account Id\n",
       "152        4.492996\n",
       "153        3.975120\n",
       "154        3.578262\n",
       "155        2.845544\n",
       "156        3.721348\n",
       "             ...   \n",
       "2936780    1.531316\n",
       "2936781    1.893155\n",
       "2936782    1.608948\n",
       "2936783    1.992295\n",
       "2936784    2.471721\n",
       "Name: %, Length: 2338474, dtype: float64"
      ]
     },
     "execution_count": 4,
     "metadata": {},
     "output_type": "execute_result"
    }
   ],
   "source": [
    "audience_interests.groupby('Account Id')['%'].sum()"
   ]
  },
  {
   "cell_type": "code",
   "execution_count": null,
   "id": "96b84724-cdfc-4f09-890f-93d97cd749f8",
   "metadata": {},
   "outputs": [],
   "source": [
    "'''\n",
    "Audience_interests grouped by account_id and sumed up give value greater than 1\n",
    "which indicated and audience have overlapping interests\n",
    "'''"
   ]
  },
  {
   "cell_type": "code",
   "execution_count": 5,
   "id": "bca071bc-85e1-4d60-b086-4884f430c5cc",
   "metadata": {},
   "outputs": [],
   "source": [
    "audience_interests['%'] = audience_interests['%'].apply(lambda x: BIN(x))"
   ]
  },
  {
   "cell_type": "code",
   "execution_count": 24,
   "id": "a80f605b-178d-4ecb-9e37-3949309a7fb0",
   "metadata": {},
   "outputs": [],
   "source": [
    "audience_interests = audience_interests[audience_interests['%'] != 'Low']"
   ]
  },
  {
   "cell_type": "code",
   "execution_count": 6,
   "id": "2f6e21c9-3b06-4ab6-978a-1a5030f76f35",
   "metadata": {},
   "outputs": [
    {
     "data": {
      "text/plain": [
       "Low       34835775\n",
       "Medium     4835058\n",
       "High        164844\n",
       "Name: %, dtype: int64"
      ]
     },
     "execution_count": 6,
     "metadata": {},
     "output_type": "execute_result"
    }
   ],
   "source": [
    "audience_interests['%'].value_counts()"
   ]
  },
  {
   "cell_type": "code",
   "execution_count": 7,
   "id": "d44404ee-90e3-4fd4-a6c7-164e98c2860d",
   "metadata": {},
   "outputs": [],
   "source": [
    "brand_ids = pd.read_csv('../SocialTalk 2023/brands.csv', low_memory=False) # Shape (3792, 2)\n",
    "interest_ids = pd.read_csv('../SocialTalk 2023/interests.csv', low_memory=False) # Shape (60, 2)"
   ]
  },
  {
   "cell_type": "code",
   "execution_count": 8,
   "id": "3029c9fb-d5a9-4cde-8915-1040f4465c22",
   "metadata": {},
   "outputs": [],
   "source": [
    "interest_ids['Name'] = interest_ids['Name'].str.replace(\" \",\"_\")\n",
    "audience_interests['Interest'] = audience_interests['Interest Id'].map(interest_ids.set_index('Id')['Name'].to_dict())"
   ]
  },
  {
   "cell_type": "code",
   "execution_count": 9,
   "id": "d7e15e20-3ded-41cb-9bc6-0914f36f89c8",
   "metadata": {},
   "outputs": [],
   "source": [
    "audience_interests['Interest'] = 'Audience_interest=' + audience_interests['Interest'].astype(str) + ':'"
   ]
  },
  {
   "cell_type": "code",
   "execution_count": 25,
   "id": "218d3607-dc8b-4a7c-8749-4afdc6a68beb",
   "metadata": {},
   "outputs": [],
   "source": [
    "audience_interests['label'] = audience_interests['Interest'] + audience_interests['%']"
   ]
  },
  {
   "cell_type": "code",
   "execution_count": 26,
   "id": "24ee25ef-8f59-45d1-bc3e-d6f2683601b0",
   "metadata": {},
   "outputs": [
    {
     "data": {
      "text/plain": [
       "Audience_interest=Friends,_Family_&_Relationships:Medium           1199908\n",
       "Audience_interest=Camera_&_Photography:Medium                       751107\n",
       "Audience_interest=Travel,_Tourism_&_Aviation:Medium                 719716\n",
       "Audience_interest=Restaurants,_Food_&_Grocery:Medium                649946\n",
       "Audience_interest=Toys,_Children_&_Baby:Medium                      348877\n",
       "Audience_interest=Art_&_Design:Medium                               287190\n",
       "Audience_interest=Sports:Medium                                     218374\n",
       "Audience_interest=Beauty_&_Cosmetics:Medium                         216778\n",
       "Audience_interest=Pets:Medium                                       145429\n",
       "Audience_interest=Healthy_Lifestyle:Medium                           91971\n",
       "Audience_interest=Electronics_&_Computers:Medium                     65367\n",
       "Audience_interest=Shopping_&_Retail:Medium                           59431\n",
       "Audience_interest=Beer,_Wine_&_Spirits:Medium                        35998\n",
       "Audience_interest=Restaurants,_Food_&_Grocery:High                   33112\n",
       "Audience_interest=Coffee,_Tea_&_Beverages:Medium                     30335\n",
       "Audience_interest=Camera_&_Photography:High                          24812\n",
       "Audience_interest=Art_&_Design:High                                  22843\n",
       "Audience_interest=Pets:High                                          18876\n",
       "Audience_interest=Beauty_&_Cosmetics:High                            13652\n",
       "Audience_interest=Travel,_Tourism_&_Aviation:High                    13124\n",
       "Audience_interest=Friends,_Family_&_Relationships:High               11127\n",
       "Audience_interest=Toys,_Children_&_Baby:High                         11038\n",
       "Audience_interest=Business_&_Careers:Medium                           8330\n",
       "Audience_interest=Sports:High                                         7950\n",
       "Audience_interest=Beer,_Wine_&_Spirits:High                           4286\n",
       "Audience_interest=Jewellery_&_Watches:Medium                          3239\n",
       "Audience_interest=Healthy_Lifestyle:High                              1989\n",
       "Audience_interest=Clothes,_Shoes,_Handbags_&_Accessories:Medium       1678\n",
       "Audience_interest=Shopping_&_Retail:High                               812\n",
       "Audience_interest=Healthcare_&_Medicine:Medium                         721\n",
       "Audience_interest=Coffee,_Tea_&_Beverages:High                         460\n",
       "Audience_interest=Jewellery_&_Watches:High                             388\n",
       "Audience_interest=Electronics_&_Computers:High                         250\n",
       "Audience_interest=Television_&_Film:Medium                             156\n",
       "Audience_interest=Gaming:Medium                                        132\n",
       "Audience_interest=Fitness_&_Yoga:Medium                                103\n",
       "Audience_interest=Activewear:Medium                                    100\n",
       "Audience_interest=Music:Medium                                          88\n",
       "Audience_interest=Business_&_Careers:High                               86\n",
       "Audience_interest=Cars_&_Motorbikes:Medium                              48\n",
       "Audience_interest=Clothes,_Shoes,_Handbags_&_Accessories:High           19\n",
       "Audience_interest=Wedding:Medium                                        15\n",
       "Audience_interest=Luxury_Goods:Medium                                   14\n",
       "Audience_interest=Gaming:High                                            7\n",
       "Audience_interest=Home_Decor,_Furniture_&_Garden:Medium                  6\n",
       "Audience_interest=Healthcare_&_Medicine:High                             6\n",
       "Audience_interest=Cars_&_Motorbikes:High                                 4\n",
       "Audience_interest=Fitness_&_Yoga:High                                    2\n",
       "Audience_interest=Tobacco_&_Smoking:Medium                               1\n",
       "Audience_interest=Tobacco_&_Smoking:High                                 1\n",
       "Name: label, dtype: int64"
      ]
     },
     "execution_count": 26,
     "metadata": {},
     "output_type": "execute_result"
    }
   ],
   "source": [
    "audience_interests['label'].value_counts()"
   ]
  },
  {
   "cell_type": "code",
   "execution_count": null,
   "id": "37021a41-4b6f-4c9a-950f-6fed09d72c06",
   "metadata": {},
   "outputs": [],
   "source": []
  }
 ],
 "metadata": {
  "kernelspec": {
   "display_name": "Python 3",
   "language": "python",
   "name": "python3"
  },
  "language_info": {
   "codemirror_mode": {
    "name": "ipython",
    "version": 3
   },
   "file_extension": ".py",
   "mimetype": "text/x-python",
   "name": "python",
   "nbconvert_exporter": "python",
   "pygments_lexer": "ipython3",
   "version": "3.7.12"
  }
 },
 "nbformat": 4,
 "nbformat_minor": 5
}
