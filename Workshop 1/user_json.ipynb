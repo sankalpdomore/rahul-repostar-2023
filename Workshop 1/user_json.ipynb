{
 "cells": [
  {
   "cell_type": "code",
   "execution_count": 8,
   "id": "993ed188-267c-408a-a953-ff0cfe901e1f",
   "metadata": {},
   "outputs": [],
   "source": [
    "import pandas as pd\n",
    "import numpy as np"
   ]
  },
  {
   "cell_type": "code",
   "execution_count": 9,
   "id": "74f930b3-dc38-4b8d-90b0-08dde3646972",
   "metadata": {},
   "outputs": [],
   "source": [
    "users  = pd.read_csv('../SocialTalk 2023/accounts.csv', on_bad_lines='skip', low_memory=False) #We are encoutering some bad lines creating some error so we skip over them"
   ]
  },
  {
   "cell_type": "code",
   "execution_count": 10,
   "id": "48a0ea8d-4800-48a3-941d-98c2cc6e541c",
   "metadata": {},
   "outputs": [],
   "source": [
    "users = users.drop_duplicates(subset=['Id'], keep='last')"
   ]
  },
  {
   "cell_type": "code",
   "execution_count": 13,
   "id": "771e5f60-d7fc-4206-a2f3-f853056f22a7",
   "metadata": {},
   "outputs": [],
   "source": [
    "sample_accounts = users[:20000]['Id']\n",
    "sample = pd.read_excel('../SocialTalk2023Clean/accounts-examples.xlsx')['Account Id']\n",
    "sample_accounts = pd.concat([sample,sample_accounts]).drop_duplicates(keep='first')"
   ]
  },
  {
   "cell_type": "code",
   "execution_count": 15,
   "id": "114ef491-ed47-4001-bd77-f68dc12c4810",
   "metadata": {},
   "outputs": [],
   "source": [
    "df = users[users['Id'].isin(sample_accounts)]"
   ]
  },
  {
   "cell_type": "code",
   "execution_count": 17,
   "id": "095b0698-deda-4ace-92c0-a8e750a7a8a0",
   "metadata": {},
   "outputs": [],
   "source": [
    "def get_user_lookup(df):\n",
    "    df[['Id','Name','Followers','Estimated reach']].set_index('Id').to_json('user_lookup.json', orient='index')"
   ]
  },
  {
   "cell_type": "code",
   "execution_count": 19,
   "id": "77f4e247-a13e-40c9-87cc-2917a4af0e76",
   "metadata": {},
   "outputs": [],
   "source": [
    "get_user_lookup(df)"
   ]
  },
  {
   "cell_type": "code",
   "execution_count": 20,
   "id": "5a8cb43e-2fea-491e-8dbe-8495cf0e3b38",
   "metadata": {},
   "outputs": [
    {
     "data": {
      "text/html": [
       "<div>\n",
       "<style scoped>\n",
       "    .dataframe tbody tr th:only-of-type {\n",
       "        vertical-align: middle;\n",
       "    }\n",
       "\n",
       "    .dataframe tbody tr th {\n",
       "        vertical-align: top;\n",
       "    }\n",
       "\n",
       "    .dataframe thead th {\n",
       "        text-align: right;\n",
       "    }\n",
       "</style>\n",
       "<table border=\"1\" class=\"dataframe\">\n",
       "  <thead>\n",
       "    <tr style=\"text-align: right;\">\n",
       "      <th></th>\n",
       "      <th>Id</th>\n",
       "      <th>Name</th>\n",
       "      <th>Followers</th>\n",
       "      <th>Estimated reach</th>\n",
       "    </tr>\n",
       "  </thead>\n",
       "  <tbody>\n",
       "    <tr>\n",
       "      <th>0</th>\n",
       "      <td>151</td>\n",
       "      <td>Tiago Oliveira</td>\n",
       "      <td>154</td>\n",
       "      <td>153</td>\n",
       "    </tr>\n",
       "    <tr>\n",
       "      <th>1</th>\n",
       "      <td>152</td>\n",
       "      <td>Jason Derulo</td>\n",
       "      <td>22625181</td>\n",
       "      <td>1062314</td>\n",
       "    </tr>\n",
       "    <tr>\n",
       "      <th>2</th>\n",
       "      <td>153</td>\n",
       "      <td>Cristiano Ronaldo</td>\n",
       "      <td>550332150</td>\n",
       "      <td>18275483</td>\n",
       "    </tr>\n",
       "    <tr>\n",
       "      <th>3</th>\n",
       "      <td>154</td>\n",
       "      <td>Ronaldo de Assis Moreira</td>\n",
       "      <td>71552085</td>\n",
       "      <td>1435572</td>\n",
       "    </tr>\n",
       "    <tr>\n",
       "      <th>4</th>\n",
       "      <td>155</td>\n",
       "      <td>Addison Rae</td>\n",
       "      <td>39861444</td>\n",
       "      <td>3587530</td>\n",
       "    </tr>\n",
       "    <tr>\n",
       "      <th>...</th>\n",
       "      <td>...</td>\n",
       "      <td>...</td>\n",
       "      <td>...</td>\n",
       "      <td>...</td>\n",
       "    </tr>\n",
       "    <tr>\n",
       "      <th>1722699</th>\n",
       "      <td>1726148</td>\n",
       "      <td>Memory Music</td>\n",
       "      <td>671000</td>\n",
       "      <td>0</td>\n",
       "    </tr>\n",
       "    <tr>\n",
       "      <th>1722701</th>\n",
       "      <td>1726150</td>\n",
       "      <td>AQ</td>\n",
       "      <td>666000</td>\n",
       "      <td>0</td>\n",
       "    </tr>\n",
       "    <tr>\n",
       "      <th>1723151</th>\n",
       "      <td>1726600</td>\n",
       "      <td>Vou Mudar Para Portugal</td>\n",
       "      <td>61500</td>\n",
       "      <td>0</td>\n",
       "    </tr>\n",
       "    <tr>\n",
       "      <th>1723365</th>\n",
       "      <td>1726814</td>\n",
       "      <td>Visit Portugal</td>\n",
       "      <td>40200</td>\n",
       "      <td>0</td>\n",
       "    </tr>\n",
       "    <tr>\n",
       "      <th>2822841</th>\n",
       "      <td>2828565</td>\n",
       "      <td>Pati Lemos|Tudo sobre Portugal</td>\n",
       "      <td>638617</td>\n",
       "      <td>0</td>\n",
       "    </tr>\n",
       "  </tbody>\n",
       "</table>\n",
       "<p>20043 rows × 4 columns</p>\n",
       "</div>"
      ],
      "text/plain": [
       "              Id                            Name  Followers  Estimated reach\n",
       "0            151                  Tiago Oliveira        154              153\n",
       "1            152                    Jason Derulo   22625181          1062314\n",
       "2            153               Cristiano Ronaldo  550332150         18275483\n",
       "3            154        Ronaldo de Assis Moreira   71552085          1435572\n",
       "4            155                     Addison Rae   39861444          3587530\n",
       "...          ...                             ...        ...              ...\n",
       "1722699  1726148                    Memory Music     671000                0\n",
       "1722701  1726150                              AQ     666000                0\n",
       "1723151  1726600         Vou Mudar Para Portugal      61500                0\n",
       "1723365  1726814                  Visit Portugal      40200                0\n",
       "2822841  2828565  Pati Lemos|Tudo sobre Portugal     638617                0\n",
       "\n",
       "[20043 rows x 4 columns]"
      ]
     },
     "execution_count": 20,
     "metadata": {},
     "output_type": "execute_result"
    }
   ],
   "source": [
    "df[['Id','Name','Followers','Estimated reach']]"
   ]
  },
  {
   "cell_type": "code",
   "execution_count": null,
   "id": "f461f187-349e-43e7-8d3c-478c06dcfed5",
   "metadata": {},
   "outputs": [],
   "source": []
  }
 ],
 "metadata": {
  "kernelspec": {
   "display_name": "Python 3",
   "language": "python",
   "name": "python3"
  },
  "language_info": {
   "codemirror_mode": {
    "name": "ipython",
    "version": 3
   },
   "file_extension": ".py",
   "mimetype": "text/x-python",
   "name": "python",
   "nbconvert_exporter": "python",
   "pygments_lexer": "ipython3",
   "version": "3.7.12"
  }
 },
 "nbformat": 4,
 "nbformat_minor": 5
}
