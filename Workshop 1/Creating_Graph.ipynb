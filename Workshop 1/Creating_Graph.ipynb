{
 "cells": [
  {
   "cell_type": "code",
   "execution_count": 28,
   "id": "7f94974a-e100-4ec1-9871-186e2cfc95a9",
   "metadata": {},
   "outputs": [],
   "source": [
    "# !unzip SocialTalk2023.zip"
   ]
  },
  {
   "cell_type": "code",
   "execution_count": 1,
   "id": "ebacabd9-171c-4a6c-99d0-0b2310505434",
   "metadata": {},
   "outputs": [],
   "source": [
    "import pandas as pd\n",
    "import numpy as np\n",
    "import os\n",
    "import umap\n",
    "import json\n",
    "\n",
    "import networkx as nx\n",
    "from gensim.models import KeyedVectors\n",
    "from nodevectors import Node2Vec, GGVec\n",
    "\n",
    "import plotly.express as px"
   ]
  },
  {
   "cell_type": "code",
   "execution_count": null,
   "id": "14e1defe-e6f9-425e-b648-6c8fc3673010",
   "metadata": {},
   "outputs": [],
   "source": []
  },
  {
   "cell_type": "code",
   "execution_count": 11,
   "id": "129e9cb0-0823-4e7f-8792-90f861a6c2b4",
   "metadata": {},
   "outputs": [],
   "source": [
    "# Shape (2931112, 23)\n",
    "users  = pd.read_csv('../SocialTalk 2023/accounts.csv', on_bad_lines='skip', low_memory=False) #We are encoutering some bad lines creating some error so we skip over them\n",
    "users = users[:20000]\n",
    "users['label'] = users['Id'].apply(lambda x: f'Account:{x}') #adding label here\n",
    "users['Social network'] = users['Social network'].replace(['None'],np.nan) # replacing 'None' in Social network with np.nan"
   ]
  },
  {
   "cell_type": "code",
   "execution_count": 12,
   "id": "bf654197-a646-4646-972f-1c33d4167e23",
   "metadata": {},
   "outputs": [
    {
     "data": {
      "text/html": [
       "<div>\n",
       "<style scoped>\n",
       "    .dataframe tbody tr th:only-of-type {\n",
       "        vertical-align: middle;\n",
       "    }\n",
       "\n",
       "    .dataframe tbody tr th {\n",
       "        vertical-align: top;\n",
       "    }\n",
       "\n",
       "    .dataframe thead th {\n",
       "        text-align: right;\n",
       "    }\n",
       "</style>\n",
       "<table border=\"1\" class=\"dataframe\">\n",
       "  <thead>\n",
       "    <tr style=\"text-align: right;\">\n",
       "      <th></th>\n",
       "      <th>Id</th>\n",
       "      <th>Social network</th>\n",
       "      <th>Username</th>\n",
       "      <th>Name</th>\n",
       "      <th>Country id</th>\n",
       "      <th>City id</th>\n",
       "      <th>Birthdate</th>\n",
       "      <th>Gender</th>\n",
       "      <th>Followers</th>\n",
       "      <th>Following</th>\n",
       "      <th>...</th>\n",
       "      <th>Estimated impressions</th>\n",
       "      <th>Avg. posts per week</th>\n",
       "      <th>Avg. posts per month</th>\n",
       "      <th>Avg. likes per post</th>\n",
       "      <th>Avg. engagement per post</th>\n",
       "      <th>Avg. comments per post</th>\n",
       "      <th>Avg. views per video</th>\n",
       "      <th>Relevant tags</th>\n",
       "      <th>Audience credibility</th>\n",
       "      <th>label</th>\n",
       "    </tr>\n",
       "  </thead>\n",
       "  <tbody>\n",
       "    <tr>\n",
       "      <th>0</th>\n",
       "      <td>151</td>\n",
       "      <td>Instagram</td>\n",
       "      <td>tigasdude</td>\n",
       "      <td>Tiago Oliveira</td>\n",
       "      <td>374</td>\n",
       "      <td>760.0</td>\n",
       "      <td>09-07-1982</td>\n",
       "      <td>Male</td>\n",
       "      <td>154</td>\n",
       "      <td>250</td>\n",
       "      <td>...</td>\n",
       "      <td>0</td>\n",
       "      <td>1</td>\n",
       "      <td>1</td>\n",
       "      <td>0.0</td>\n",
       "      <td>0.0</td>\n",
       "      <td>0.0</td>\n",
       "      <td>0.0</td>\n",
       "      <td>0.92233</td>\n",
       "      <td>NaN</td>\n",
       "      <td>Account:151</td>\n",
       "    </tr>\n",
       "    <tr>\n",
       "      <th>1</th>\n",
       "      <td>152</td>\n",
       "      <td>Instagram</td>\n",
       "      <td>jasonderulo</td>\n",
       "      <td>Jason Derulo</td>\n",
       "      <td>401</td>\n",
       "      <td>39.0</td>\n",
       "      <td>NaN</td>\n",
       "      <td>Male</td>\n",
       "      <td>22625181</td>\n",
       "      <td>10</td>\n",
       "      <td>...</td>\n",
       "      <td>1274777</td>\n",
       "      <td>9</td>\n",
       "      <td>33</td>\n",
       "      <td>434816.0</td>\n",
       "      <td>436917.0</td>\n",
       "      <td>2100.0</td>\n",
       "      <td>1062313.0</td>\n",
       "      <td>slidin,takethestage,mooski,dancin,gaspedal,mov...</td>\n",
       "      <td>0.67460</td>\n",
       "      <td>Account:152</td>\n",
       "    </tr>\n",
       "    <tr>\n",
       "      <th>2</th>\n",
       "      <td>153</td>\n",
       "      <td>Instagram</td>\n",
       "      <td>cristiano</td>\n",
       "      <td>Cristiano Ronaldo</td>\n",
       "      <td>360</td>\n",
       "      <td>306.0</td>\n",
       "      <td>05-02-1985</td>\n",
       "      <td>Male</td>\n",
       "      <td>550332150</td>\n",
       "      <td>552</td>\n",
       "      <td>...</td>\n",
       "      <td>21930580</td>\n",
       "      <td>4</td>\n",
       "      <td>14</td>\n",
       "      <td>9809591.0</td>\n",
       "      <td>9929137.0</td>\n",
       "      <td>119545.0</td>\n",
       "      <td>18275482.0</td>\n",
       "      <td>nikefc,nikeathlete,adiddas,nikefootball,nikeso...</td>\n",
       "      <td>0.75930</td>\n",
       "      <td>Account:153</td>\n",
       "    </tr>\n",
       "    <tr>\n",
       "      <th>3</th>\n",
       "      <td>154</td>\n",
       "      <td>Instagram</td>\n",
       "      <td>ronaldinho</td>\n",
       "      <td>Ronaldo de Assis Moreira</td>\n",
       "      <td>201</td>\n",
       "      <td>18.0</td>\n",
       "      <td>NaN</td>\n",
       "      <td>Male</td>\n",
       "      <td>71552085</td>\n",
       "      <td>523</td>\n",
       "      <td>...</td>\n",
       "      <td>1780110</td>\n",
       "      <td>4</td>\n",
       "      <td>14</td>\n",
       "      <td>588709.0</td>\n",
       "      <td>591441.0</td>\n",
       "      <td>2731.0</td>\n",
       "      <td>1435571.0</td>\n",
       "      <td>allezparis,psg,robertocarlos,copadomundo,champ...</td>\n",
       "      <td>0.79090</td>\n",
       "      <td>Account:154</td>\n",
       "    </tr>\n",
       "    <tr>\n",
       "      <th>4</th>\n",
       "      <td>155</td>\n",
       "      <td>Instagram</td>\n",
       "      <td>addisonraee</td>\n",
       "      <td>Addison Rae</td>\n",
       "      <td>401</td>\n",
       "      <td>NaN</td>\n",
       "      <td>NaN</td>\n",
       "      <td>Female</td>\n",
       "      <td>39861444</td>\n",
       "      <td>235</td>\n",
       "      <td>...</td>\n",
       "      <td>4484413</td>\n",
       "      <td>2</td>\n",
       "      <td>6</td>\n",
       "      <td>906753.0</td>\n",
       "      <td>908520.0</td>\n",
       "      <td>1767.0</td>\n",
       "      <td>0.0</td>\n",
       "      <td>aejeans,aexme,americaneaglejeans,americaneagle...</td>\n",
       "      <td>0.84937</td>\n",
       "      <td>Account:155</td>\n",
       "    </tr>\n",
       "  </tbody>\n",
       "</table>\n",
       "<p>5 rows × 23 columns</p>\n",
       "</div>"
      ],
      "text/plain": [
       "    Id Social network     Username                      Name Country id  \\\n",
       "0  151      Instagram    tigasdude            Tiago Oliveira        374   \n",
       "1  152      Instagram  jasonderulo              Jason Derulo        401   \n",
       "2  153      Instagram    cristiano         Cristiano Ronaldo        360   \n",
       "3  154      Instagram   ronaldinho  Ronaldo de Assis Moreira        201   \n",
       "4  155      Instagram  addisonraee               Addison Rae        401   \n",
       "\n",
       "   City id   Birthdate  Gender  Followers  Following  ...  \\\n",
       "0    760.0  09-07-1982    Male        154        250  ...   \n",
       "1     39.0         NaN    Male   22625181         10  ...   \n",
       "2    306.0  05-02-1985    Male  550332150        552  ...   \n",
       "3     18.0         NaN    Male   71552085        523  ...   \n",
       "4      NaN         NaN  Female   39861444        235  ...   \n",
       "\n",
       "   Estimated impressions  Avg. posts per week  Avg. posts per month  \\\n",
       "0                      0                    1                     1   \n",
       "1                1274777                    9                    33   \n",
       "2               21930580                    4                    14   \n",
       "3                1780110                    4                    14   \n",
       "4                4484413                    2                     6   \n",
       "\n",
       "   Avg. likes per post  Avg. engagement per post  Avg. comments per post  \\\n",
       "0                  0.0                       0.0                     0.0   \n",
       "1             434816.0                  436917.0                  2100.0   \n",
       "2            9809591.0                 9929137.0                119545.0   \n",
       "3             588709.0                  591441.0                  2731.0   \n",
       "4             906753.0                  908520.0                  1767.0   \n",
       "\n",
       "   Avg. views per video                                      Relevant tags  \\\n",
       "0                   0.0                                            0.92233   \n",
       "1             1062313.0  slidin,takethestage,mooski,dancin,gaspedal,mov...   \n",
       "2            18275482.0  nikefc,nikeathlete,adiddas,nikefootball,nikeso...   \n",
       "3             1435571.0  allezparis,psg,robertocarlos,copadomundo,champ...   \n",
       "4                   0.0  aejeans,aexme,americaneaglejeans,americaneagle...   \n",
       "\n",
       "   Audience credibility        label  \n",
       "0                   NaN  Account:151  \n",
       "1               0.67460  Account:152  \n",
       "2               0.75930  Account:153  \n",
       "3               0.79090  Account:154  \n",
       "4               0.84937  Account:155  \n",
       "\n",
       "[5 rows x 23 columns]"
      ]
     },
     "execution_count": 12,
     "metadata": {},
     "output_type": "execute_result"
    }
   ],
   "source": [
    "users.head()"
   ]
  },
  {
   "cell_type": "code",
   "execution_count": 13,
   "id": "c370603a-7a93-4e3c-bd0a-8a493aaa7ce3",
   "metadata": {},
   "outputs": [
    {
     "data": {
      "text/plain": [
       "0        23\n",
       "1         7\n",
       "4         3\n",
       "52        3\n",
       "20        3\n",
       "         ..\n",
       "14000     1\n",
       "1860      1\n",
       "227       1\n",
       "90        1\n",
       "3         1\n",
       "Name: Followers, Length: 166, dtype: int64"
      ]
     },
     "execution_count": 13,
     "metadata": {},
     "output_type": "execute_result"
    }
   ],
   "source": [
    "users[users['Social network'] == 'Youtube']['Followers'].value_counts()"
   ]
  },
  {
   "cell_type": "code",
   "execution_count": 4,
   "id": "d04b725f-718c-448c-ad74-5061fa4d697c",
   "metadata": {},
   "outputs": [],
   "source": [
    "#Country-ID mapping\n",
    "city_ids = pd.read_csv('../SocialTalk 2023/cities.csv', low_memory=False) #Shape (7087, 2)\n",
    "country_ids = pd.read_csv('../SocialTalk 2023/countries.csv', low_memory=False) #[183,2]"
   ]
  },
  {
   "cell_type": "code",
   "execution_count": 5,
   "id": "390de8ec-e3a3-497f-a872-3c0105d10f2b",
   "metadata": {},
   "outputs": [
    {
     "data": {
      "text/html": [
       "<div>\n",
       "<style scoped>\n",
       "    .dataframe tbody tr th:only-of-type {\n",
       "        vertical-align: middle;\n",
       "    }\n",
       "\n",
       "    .dataframe tbody tr th {\n",
       "        vertical-align: top;\n",
       "    }\n",
       "\n",
       "    .dataframe thead th {\n",
       "        text-align: right;\n",
       "    }\n",
       "</style>\n",
       "<table border=\"1\" class=\"dataframe\">\n",
       "  <thead>\n",
       "    <tr style=\"text-align: right;\">\n",
       "      <th></th>\n",
       "      <th>Id</th>\n",
       "      <th>Name</th>\n",
       "    </tr>\n",
       "  </thead>\n",
       "  <tbody>\n",
       "    <tr>\n",
       "      <th>0</th>\n",
       "      <td>374</td>\n",
       "      <td>Spain</td>\n",
       "    </tr>\n",
       "    <tr>\n",
       "      <th>1</th>\n",
       "      <td>401</td>\n",
       "      <td>United States</td>\n",
       "    </tr>\n",
       "    <tr>\n",
       "      <th>2</th>\n",
       "      <td>201</td>\n",
       "      <td>Brazil</td>\n",
       "    </tr>\n",
       "    <tr>\n",
       "      <th>3</th>\n",
       "      <td>267</td>\n",
       "      <td>India</td>\n",
       "    </tr>\n",
       "    <tr>\n",
       "      <th>4</th>\n",
       "      <td>400</td>\n",
       "      <td>United Kingdom</td>\n",
       "    </tr>\n",
       "    <tr>\n",
       "      <th>...</th>\n",
       "      <td>...</td>\n",
       "      <td>...</td>\n",
       "    </tr>\n",
       "    <tr>\n",
       "      <th>182</th>\n",
       "      <td>220</td>\n",
       "      <td>Comoros</td>\n",
       "    </tr>\n",
       "    <tr>\n",
       "      <th>183</th>\n",
       "      <td>304</td>\n",
       "      <td>Mauritania</td>\n",
       "    </tr>\n",
       "    <tr>\n",
       "      <th>184</th>\n",
       "      <td>200</td>\n",
       "      <td>Botswana</td>\n",
       "    </tr>\n",
       "    <tr>\n",
       "      <th>185</th>\n",
       "      <td>393</td>\n",
       "      <td>Turkmenistan</td>\n",
       "    </tr>\n",
       "    <tr>\n",
       "      <th>186</th>\n",
       "      <td>204</td>\n",
       "      <td>Brunei</td>\n",
       "    </tr>\n",
       "  </tbody>\n",
       "</table>\n",
       "<p>187 rows × 2 columns</p>\n",
       "</div>"
      ],
      "text/plain": [
       "      Id            Name\n",
       "0    374           Spain\n",
       "1    401   United States\n",
       "2    201          Brazil\n",
       "3    267           India\n",
       "4    400  United Kingdom\n",
       "..   ...             ...\n",
       "182  220         Comoros\n",
       "183  304      Mauritania\n",
       "184  200        Botswana\n",
       "185  393    Turkmenistan\n",
       "186  204          Brunei\n",
       "\n",
       "[187 rows x 2 columns]"
      ]
     },
     "execution_count": 5,
     "metadata": {},
     "output_type": "execute_result"
    }
   ],
   "source": [
    "country_ids"
   ]
  },
  {
   "cell_type": "code",
   "execution_count": 6,
   "id": "1b0b97fa-08dd-47ad-a952-ebe082207e4c",
   "metadata": {},
   "outputs": [],
   "source": [
    "# MAP: account ids to country,city,gender\n",
    "clean_df = users[['Id','Country id','City id','Gender','Social network','Followers',\"Estimated reach\",\"Avg. views per video\"]]"
   ]
  },
  {
   "cell_type": "code",
   "execution_count": 7,
   "id": "32d7b6b7-42fe-4b93-9734-b409648a4740",
   "metadata": {},
   "outputs": [
    {
     "name": "stderr",
     "output_type": "stream",
     "text": [
      "/opt/conda/lib/python3.7/site-packages/ipykernel_launcher.py:1: SettingWithCopyWarning: \n",
      "A value is trying to be set on a copy of a slice from a DataFrame.\n",
      "Try using .loc[row_indexer,col_indexer] = value instead\n",
      "\n",
      "See the caveats in the documentation: https://pandas.pydata.org/pandas-docs/stable/user_guide/indexing.html#returning-a-view-versus-a-copy\n",
      "  \"\"\"Entry point for launching an IPython kernel.\n"
     ]
    }
   ],
   "source": [
    "clean_df['Id'] = clean_df['Id'].apply(lambda x: f'Account:{x}')\n",
    "clean_df = clean_df.rename(columns={'City id': 'City','Country id': 'Country','Social network':'Social_network',\n",
    "                                    \"Avg. views per video\":\"Avg._views_per_video\",\n",
    "                                    \"Estimated reach\":\"Estimated_reach\"}).set_index('Id')\n",
    "\n",
    "clean_df['City'] = clean_df['City'].map(city_ids.set_index('Id')['Name'].to_dict())\n",
    "clean_df['City'] = clean_df['City'].str.replace(\" \",\"_\") #Replace white space by \"_\"\n",
    "clean_df['Country'] = clean_df['Country'].astype(float).map(country_ids.set_index('Id')['Name'].to_dict())\n",
    "clean_df['Country'] = clean_df['Country'].str.replace(\" \",\"_\")"
   ]
  },
  {
   "cell_type": "code",
   "execution_count": 8,
   "id": "0e4ff400-b63a-42b6-be31-c73f029a8353",
   "metadata": {},
   "outputs": [],
   "source": [
    "clean_df = clean_df[(clean_df[\"Followers\"] != 'Female') & (clean_df[\"Followers\"] != 'Male')] #There is [Male, Female] as values for Followers column"
   ]
  },
  {
   "cell_type": "code",
   "execution_count": 9,
   "id": "35acde29-3509-4529-8d2d-315adffe84d3",
   "metadata": {
    "tags": []
   },
   "outputs": [],
   "source": [
    "#TODO: BIN numerical nodes (current code not working for whole data)\n",
    "\n",
    "clean_df[\"Followers\"]=clean_df[\"Followers\"].astype('float64')\n",
    "for i in clean_df.columns[-3:]:\n",
    "    if i !='Avg._views_per_video':\n",
    "        clean_df[i] = pd.qcut(clean_df[i],q=3,labels=[\"low\",\"average\",\"high\"],duplicates='drop')\n",
    "    else:\n",
    "        clean_df[i] = pd.qcut(clean_df[i],q=4,labels=[\"low\",\"average\",\"high\"],duplicates='drop')\n",
    "        \n"
   ]
  },
  {
   "cell_type": "code",
   "execution_count": 10,
   "id": "84a50f67-3d9c-4762-980b-4de219e36591",
   "metadata": {},
   "outputs": [],
   "source": [
    "'''\n",
    "#NO brand-accound, interest-brand\n",
    "'''\n",
    "brand_ids = pd.read_csv('../SocialTalk 2023/brands.csv', low_memory=False) # Shape (3792, 2)\n",
    "account_brands = pd.read_csv('../SocialTalk 2023/accounts-brands.csv', low_memory=False)\n",
    "interest_ids = pd.read_csv('../SocialTalk 2023/interests.csv', low_memory=False) # Shape (60, 2)\n",
    "account_interests = pd.read_csv('../SocialTalk 2023/accounts-interests.csv', low_memory=False)"
   ]
  },
  {
   "cell_type": "code",
   "execution_count": 11,
   "id": "b21b4a71-631d-4685-ae63-deae53853f4e",
   "metadata": {},
   "outputs": [],
   "source": [
    "brand_ids['label'] = 'Brand:' + brand_ids['Name'].astype(str)\n",
    "account_brands['Account Id'] = 'Account:' + account_brands['Account Id'].astype(str)\n",
    "account_brands['Brand Id'] = account_brands['Brand Id'].map(brand_ids.set_index('Id')['label'].to_dict())\n",
    "\n",
    "interest_ids['label'] = 'Interest:' + interest_ids['Name'].astype(str)\n",
    "account_interests['Account Id'] = 'Account:' + account_interests['Account Id'].astype(str)\n",
    "account_interests['Interest Id'] = account_interests['Interest Id'].map(interest_ids.set_index('Id')['label'].to_dict())"
   ]
  },
  {
   "cell_type": "code",
   "execution_count": 12,
   "id": "b5911cbf-e501-4739-8186-1b3c3139add2",
   "metadata": {},
   "outputs": [],
   "source": [
    "'''\n",
    "Lets make edge pairs in the given format\n",
    "(account, f'{column}:{value}') for each column with non-nan values\n",
    "\n",
    "'''\n",
    "edges = []\n",
    "for column in clean_df.columns:\n",
    "    series_tuples = [\n",
    "        (account, f'{column}:{value}') for account, value in clean_df[clean_df[column].notna()][column].items()\n",
    "        ]\n",
    "    edges.extend(series_tuples)"
   ]
  },
  {
   "cell_type": "code",
   "execution_count": 56,
   "id": "42e65f4f-6c93-4979-b26e-b1733bf8e610",
   "metadata": {},
   "outputs": [],
   "source": [
    "edges += [i for i in account_brands.set_index('Account Id')['Brand Id'].items()]\n",
    "edges += [i for i in account_interests.set_index('Account Id')['Interest Id'].items()]"
   ]
  },
  {
   "cell_type": "code",
   "execution_count": 13,
   "id": "9c9bc304-5226-4173-84dd-add20eff924b",
   "metadata": {},
   "outputs": [],
   "source": [
    "location_hierarchy = [\n",
    "    (f'Country:{country}', f'City:{city}') for country, city in clean_df[['Country', 'City']].dropna().drop_duplicates(subset=['Country', 'City'], keep='last').values\n",
    "]\n",
    "edges.extend(location_hierarchy)"
   ]
  },
  {
   "cell_type": "code",
   "execution_count": 14,
   "id": "8bda97a1-450d-482f-a0c6-21b4231286ec",
   "metadata": {},
   "outputs": [
    {
     "data": {
      "text/plain": [
       "125755"
      ]
     },
     "execution_count": 14,
     "metadata": {},
     "output_type": "execute_result"
    }
   ],
   "source": [
    "len(edges)"
   ]
  },
  {
   "cell_type": "code",
   "execution_count": 16,
   "id": "b7b7ac31-83ed-4fcd-a167-843bc40e3c6f",
   "metadata": {},
   "outputs": [],
   "source": [
    "temp = pd.DataFrame(edges, columns=['source', 'target'])\n",
    "temp.to_csv(f'edge_list_{len(edges)}.csv',index=False)"
   ]
  },
  {
   "cell_type": "code",
   "execution_count": 17,
   "id": "3046f431-cd24-48ae-adcd-5a972c78fa46",
   "metadata": {},
   "outputs": [],
   "source": [
    "G = nx.from_pandas_edgelist(temp)"
   ]
  },
  {
   "cell_type": "code",
   "execution_count": 147,
   "id": "af302e31-8aa6-4d5f-879d-e65415363481",
   "metadata": {},
   "outputs": [],
   "source": []
  },
  {
   "cell_type": "code",
   "execution_count": null,
   "id": "e709c562-146e-4e48-8d73-93f2d0b3908c",
   "metadata": {},
   "outputs": [],
   "source": [
    "%%timeit \n",
    "g2v = Node2Vec(verbose=True)\n",
    "n2v_embeddings = g2v.fit(G)\n",
    "g2v.save_vectors(\"wheel_model.bin\")"
   ]
  },
  {
   "cell_type": "code",
   "execution_count": 7,
   "id": "d88902d1-2afe-4ef2-8e37-41addced8427",
   "metadata": {},
   "outputs": [],
   "source": [
    "with open('user_lookup.json', 'r') as f:\n",
    "    user_lookup = json.load(f)"
   ]
  },
  {
   "cell_type": "code",
   "execution_count": 46,
   "id": "7d32ff0b-f13f-4ef0-accd-83c98f4391ad",
   "metadata": {},
   "outputs": [],
   "source": [
    "def get_visualization_df(embeddings, user_lookup):\n",
    "    visuals = pd.DataFrame(embeddings, index=words, columns=['x', 'y', 'z'])\n",
    "    visuals['size'] = 0.01\n",
    "    visuals['node_type'] = [i.split(':')[0] if not (i.split(':')[1] == 'True') else 'Age' for i in visuals.index.tolist()]\n",
    "    visuals = visuals.reset_index()\n",
    "\n",
    "    account_nodes = visuals[visuals['node_type'] == 'Account']\n",
    "    account_ids = account_nodes['index'].apply(lambda x: x.split(':')[1]).astype(str)\n",
    "    account_metadata = pd.DataFrame(account_ids.map(user_lookup).values.tolist(), index=account_ids)\n",
    "    account_metadata.index = [f'Account:{i}' for i in account_metadata.index]\n",
    "    account_metadata = account_metadata.reset_index()\n",
    "\n",
    "    final = visuals.merge(account_metadata, on='index', how='left')\n",
    "    final['Name'] = final['Name'].fillna('')\n",
    "    final['Followers'] = final['Followers'].fillna(0)\n",
    "    final['Estimated reach'] = final['Estimated reach'].fillna(0)\n",
    "\n",
    "    return final"
   ]
  },
  {
   "cell_type": "code",
   "execution_count": 48,
   "id": "c39ad969-0813-448a-92e0-4dad09ca06bd",
   "metadata": {},
   "outputs": [
    {
     "name": "stderr",
     "output_type": "stream",
     "text": [
      "/opt/conda/lib/python3.7/site-packages/ipykernel_launcher.py:2: DeprecationWarning: Call to deprecated `wv` (Attribute will be removed in 4.0.0, use self instead).\n",
      "  \n",
      "/opt/conda/lib/python3.7/site-packages/ipykernel_launcher.py:3: DeprecationWarning: Call to deprecated `wv` (Attribute will be removed in 4.0.0, use self instead).\n",
      "  This is separate from the ipykernel package so we can avoid doing imports until\n"
     ]
    }
   ],
   "source": [
    "model = KeyedVectors.load_word2vec_format(\"a.bin\")\n",
    "words = list(model.wv.vocab)\n",
    "g2v_embeds = pd.DataFrame([model.wv[i] for i in words], index=words)\n",
    "\n",
    "reducer = umap.UMAP(n_components=3, min_dist=0.25, n_neighbors=100)\n",
    "embeddings = reducer.fit_transform(g2v_embeds)"
   ]
  },
  {
   "cell_type": "code",
   "execution_count": null,
   "id": "40a11a87-b364-45a7-8d3c-c1bb97afb42b",
   "metadata": {},
   "outputs": [],
   "source": [
    "visuals = pd.DataFrame(embeddings, index=words, columns=['x', 'y', 'z'])\n",
    "    visuals['size'] = 0.01\n",
    "    visuals['node_type'] = [i.split(':')[0] if not (i.split(':')[1] == 'True') else 'Age' for i in visuals.index.tolist()]"
   ]
  },
  {
   "cell_type": "code",
   "execution_count": null,
   "id": "2950ae85-0566-4cb4-9bfc-017b04f46ba8",
   "metadata": {},
   "outputs": [],
   "source": [
    "final = get_visualization_df(embeddings, user_lookup)\n",
    "final.to_csv('final_app_input_df_1.csv', index=None)"
   ]
  },
  {
   "cell_type": "code",
   "execution_count": 56,
   "id": "b9f5d2bc-9280-4d0d-830f-5fa61f308a5e",
   "metadata": {},
   "outputs": [
    {
     "data": {
      "text/plain": [
       "<gensim.models.keyedvectors.Word2VecKeyedVectors at 0x7f9faa735e50>"
      ]
     },
     "execution_count": 56,
     "metadata": {},
     "output_type": "execute_result"
    }
   ],
   "source": [
    "model"
   ]
  },
  {
   "cell_type": "code",
   "execution_count": 34,
   "id": "98c1c251-a526-49c8-86ce-d5a576d599cc",
   "metadata": {},
   "outputs": [
    {
     "data": {
      "text/plain": [
       "0           Account:151\n",
       "1           Account:152\n",
       "2           Account:153\n",
       "3           Account:154\n",
       "4           Account:157\n",
       "              ...      \n",
       "105293    Account:20231\n",
       "105294    Account:20232\n",
       "105295    Account:20233\n",
       "105296    Account:20234\n",
       "105297    Account:20235\n",
       "Name: source, Length: 105298, dtype: object"
      ]
     },
     "execution_count": 34,
     "metadata": {},
     "output_type": "execute_result"
    }
   ],
   "source": [
    "temp['source']"
   ]
  },
  {
   "cell_type": "markdown",
   "id": "fb02182b-7d42-4a94-b5a6-10c68573476e",
   "metadata": {},
   "source": [
    "# GGvec"
   ]
  },
  {
   "cell_type": "code",
   "execution_count": 167,
   "id": "204b1169-513c-462d-88b5-d4c41d3da102",
   "metadata": {},
   "outputs": [
    {
     "name": "stderr",
     "output_type": "stream",
     "text": [
      "Loss: 0.0039\t: 100%|█████████████████████████████████████████████████████| 10000/10000 [08:07<00:00, 20.51it/s]\n",
      "/opt/conda/lib/python3.7/site-packages/csrgraph/ggvec.py:207: UserWarning: GVec has not converged. Losses : [0.003866925225714582, 0.003884441528824993, 0.003819878542866134, 0.0038345646875675345, 0.003938294541971097, 0.00399320332629184, 0.003909398920244046, 0.0041174155356500965, 0.00395980883580756, 0.0037327324474773055, 0.003907409051967412, 0.003824965921723005, 0.003854992376028853, 0.003937571593427296, 0.0039182945774033475, 0.004191625847232831, 0.003925066218947002, 0.003929275882085977, 0.00403559069223724, 0.004113887467826383, 0.0038223752694504245, 0.0039644824511996645, 0.003973414021946667, 0.003791173249278441, 0.003858945528757557, 0.003953625888845546, 0.0038482184256863183, 0.003916812719773784, 0.0037998849659435733, 0.003930014186716438, 0.004076602008105913, 0.0039287524552903815, 0.003753526093879508, 0.0037447574097690946, 0.0038964375263096994, 0.003954609335253352, 0.003920771922680875, 0.0039240298413066406, 0.0038450684458582697, 0.004250216957466508, 0.004004790638239567, 0.003972753736019233, 0.0040083973040261735, 0.004036077499505942, 0.004015026113273525, 0.0040058617957496705, 0.0038745601758764037, 0.0038199238720201573, 0.003976719392358221, 0.00391261548442698, 0.0040406945089402485, 0.003827365979168128, 0.003917170202748281, 0.003782928151409441, 0.00389442527332987, 0.0038922548755664535, 0.0038070494434368223, 0.003935043652857826, 0.0038985130060048136, 0.003890395078692672, 0.003989013381473608, 0.003900643135253692, 0.00405232497959032, 0.003802801162763878, 0.0038162824872192136, 0.003769883438953464, 0.0038243995239084475, 0.003813568588566981, 0.0037482739936705615, 0.003968508707828661, 0.0038723827618627744, 0.003982388807239921, 0.003923470757945528, 0.004312188104490318, 0.0042033890280014806, 0.004218681366682948, 0.004086857290348545, 0.0039964215367565715, 0.003965150372733446, 0.003738520550951246, 0.004014440259279685, 0.003791811483718922, 0.0038241304531500867, 0.003937007657774684, 0.0038593253717975917, 0.003959202175520614, 0.0037892605151884366, 0.004008949737763818, 0.00409766304561104, 0.0038941287881170492, 0.003965328645074049, 0.003610282379057614, 0.003749132933314865, 0.0038350434565268435, 0.0037508351769163315, 0.0038577511678502875, 0.003861849599749605, 0.003973812427841739, 0.003755553773430759, 0.003657436274953115, 0.003837869064180751, 0.0038818817392721103, 0.003732327049407101, 0.0037035465118167086, 0.003891164320441986, 0.004005542500430907, 0.003981058030730575, 0.003824077510910316, 0.0038526304708962835, 0.004033556566497237, 0.003681706250248941, 0.003722856238943685, 0.003787460803391051, 0.0035769146337228277, 0.0035601400981766207, 0.0037675930445652257, 0.0037963008632026303, 0.003807356109962711, 0.0037821307168098613, 0.004100744667945587, 0.0038095371017858788, 0.0038086087102064134, 0.0038397157769043196, 0.003855932056578418, 0.0038992372271008137, 0.0037834423999984724, 0.0038949474688074605, 0.0038433339608574466, 0.0038845966450921417, 0.003887678438438619, 0.0038690062074563806, 0.0038975091879068515, 0.0038913732631747342, 0.003893761316842031, 0.0038665553741258907, 0.003917092164243799, 0.0039496071297540946, 0.0038341528223990767, 0.004195411245745437, 0.004009798949926459, 0.004024112586072165, 0.004050684041484196, 0.004073200510009197, 0.004054580099084902, 0.003976276493276634, 0.003969329310058012, 0.003706845422066226, 0.00372646004213947, 0.0038800502652213756, 0.0038177915891194716, 0.0037138997024249248, 0.003741272636499593, 0.003918516039212796, 0.0039965906629914425, 0.00408625094240198, 0.00390846360696582, 0.0038857416825073725, 0.003924970496432054, 0.0038015599836882605, 0.003734819509590991, 0.003999870299341014, 0.00393103325667837, 0.003987821003618204, 0.003883085256170104, 0.004037697930691194, 0.004087056195415016, 0.0039408523742263425, 0.003875144453765365, 0.0039024108408068597, 0.0038675656393778617, 0.004039324213703802, 0.0039536193422879794, 0.003979218244976909, 0.003788970565703073, 0.0039424546773690295, 0.004338980195863443, 0.004213839966488124, 0.004460808569113256, 0.004126120875033476, 0.004114440401743734, 0.004050967546677837, 0.004046091466262415, 0.004125965753604988, 0.003915785662675704, 0.0039937829259782355, 0.0038465743512527796, 0.003860360435311244, 0.0040305475273290274, 0.0041267351556238075, 0.00406724716889711, 0.003971028825145351, 0.003924665622837261, 0.003872640577193052, 0.0038082102120662736, 0.003781335391314824, 0.003881051117909651, 0.003854986669795213, 0.003819739557383974, 0.003908074913092537, 0.0038991472028971166]\n",
      "  warnings.warn(f\"GVec has not converged. Losses : {latest_loss}\")\n"
     ]
    }
   ],
   "source": [
    "import csrgraph as cg\n",
    "import nodevectors\n",
    "\n",
    "G = cg.read_edgelist(\"edge_list_125755.csv\", directed=False, sep=',')\n",
    "ggvec_model = nodevectors.GGVec(verbose=True,n_components=128,order=1,negative_ratio = 1,learning_rate=0.005,tol_samples=200,max_epoch = 10000) \n",
    "embeddings = ggvec_model.fit_transform(G)\n",
    "ggvec_model.save('GGmodel')\n",
    "#ggvec_model.save_vectors(\"wheel_model.bin\")"
   ]
  },
  {
   "cell_type": "code",
   "execution_count": 168,
   "id": "6f9e0bda-dfc4-4f9a-86df-f5012a71aa37",
   "metadata": {
    "tags": []
   },
   "outputs": [
    {
     "name": "stderr",
     "output_type": "stream",
     "text": [
      "/opt/conda/lib/python3.7/site-packages/ipykernel_launcher.py:4: DeprecationWarning: Call to deprecated `wv` (Attribute will be removed in 4.0.0, use self instead).\n",
      "  after removing the cwd from sys.path.\n"
     ]
    }
   ],
   "source": [
    "#Making Keyed_vectord from GG model\n",
    "word_vectors = KeyedVectors(embeddings.shape[1])\n",
    "word_vectors.add(G.nodes(), embeddings)\n",
    "word_vectors.wv.save_word2vec_format('GGvec_model_v1.bin')"
   ]
  },
  {
   "cell_type": "code",
   "execution_count": 211,
   "id": "0f52037a-e32f-45dd-8f05-cd0b4e03fdcf",
   "metadata": {},
   "outputs": [
    {
     "data": {
      "text/html": [
       "<div>\n",
       "<style scoped>\n",
       "    .dataframe tbody tr th:only-of-type {\n",
       "        vertical-align: middle;\n",
       "    }\n",
       "\n",
       "    .dataframe tbody tr th {\n",
       "        vertical-align: top;\n",
       "    }\n",
       "\n",
       "    .dataframe thead th {\n",
       "        text-align: right;\n",
       "    }\n",
       "</style>\n",
       "<table border=\"1\" class=\"dataframe\">\n",
       "  <thead>\n",
       "    <tr style=\"text-align: right;\">\n",
       "      <th></th>\n",
       "      <th>Id</th>\n",
       "      <th>Social network</th>\n",
       "      <th>Username</th>\n",
       "      <th>Name</th>\n",
       "      <th>Country id</th>\n",
       "      <th>City id</th>\n",
       "      <th>Birthdate</th>\n",
       "      <th>Gender</th>\n",
       "      <th>Followers</th>\n",
       "      <th>Following</th>\n",
       "      <th>...</th>\n",
       "      <th>Estimated impressions</th>\n",
       "      <th>Avg. posts per week</th>\n",
       "      <th>Avg. posts per month</th>\n",
       "      <th>Avg. likes per post</th>\n",
       "      <th>Avg. engagement per post</th>\n",
       "      <th>Avg. comments per post</th>\n",
       "      <th>Avg. views per video</th>\n",
       "      <th>Relevant tags</th>\n",
       "      <th>Audience credibility</th>\n",
       "      <th>label</th>\n",
       "    </tr>\n",
       "  </thead>\n",
       "  <tbody>\n",
       "    <tr>\n",
       "      <th>1292</th>\n",
       "      <td>1477</td>\n",
       "      <td>Instagram</td>\n",
       "      <td>ruimariapego</td>\n",
       "      <td>Rui Maria Pêgo</td>\n",
       "      <td>342</td>\n",
       "      <td>760.0</td>\n",
       "      <td>20-01-1989</td>\n",
       "      <td>Male</td>\n",
       "      <td>193288</td>\n",
       "      <td>2100</td>\n",
       "      <td>...</td>\n",
       "      <td>39483</td>\n",
       "      <td>14</td>\n",
       "      <td>41</td>\n",
       "      <td>750.0</td>\n",
       "      <td>782.0</td>\n",
       "      <td>31.0</td>\n",
       "      <td>32629.0</td>\n",
       "      <td>0</td>\n",
       "      <td>NaN</td>\n",
       "      <td>Account:1477</td>\n",
       "    </tr>\n",
       "  </tbody>\n",
       "</table>\n",
       "<p>1 rows × 23 columns</p>\n",
       "</div>"
      ],
      "text/plain": [
       "        Id Social network      Username             Name Country id  City id  \\\n",
       "1292  1477      Instagram  ruimariapego  Rui Maria Pêgo        342    760.0   \n",
       "\n",
       "       Birthdate Gender Followers  Following  ...  Estimated impressions  \\\n",
       "1292  20-01-1989   Male    193288       2100  ...                  39483   \n",
       "\n",
       "      Avg. posts per week  Avg. posts per month  Avg. likes per post  \\\n",
       "1292                   14                    41                750.0   \n",
       "\n",
       "      Avg. engagement per post  Avg. comments per post  Avg. views per video  \\\n",
       "1292                     782.0                    31.0               32629.0   \n",
       "\n",
       "      Relevant tags  Audience credibility         label  \n",
       "1292              0                   NaN  Account:1477  \n",
       "\n",
       "[1 rows x 23 columns]"
      ]
     },
     "execution_count": 211,
     "metadata": {},
     "output_type": "execute_result"
    }
   ],
   "source": []
  },
  {
   "cell_type": "code",
   "execution_count": 212,
   "id": "a848a6c2-c303-4476-951a-94ba58f6f151",
   "metadata": {},
   "outputs": [
    {
     "data": {
      "text/html": [
       "<div>\n",
       "<style scoped>\n",
       "    .dataframe tbody tr th:only-of-type {\n",
       "        vertical-align: middle;\n",
       "    }\n",
       "\n",
       "    .dataframe tbody tr th {\n",
       "        vertical-align: top;\n",
       "    }\n",
       "\n",
       "    .dataframe thead th {\n",
       "        text-align: right;\n",
       "    }\n",
       "</style>\n",
       "<table border=\"1\" class=\"dataframe\">\n",
       "  <thead>\n",
       "    <tr style=\"text-align: right;\">\n",
       "      <th></th>\n",
       "      <th>Country</th>\n",
       "      <th>City</th>\n",
       "      <th>Gender</th>\n",
       "      <th>Social_network</th>\n",
       "      <th>Followers</th>\n",
       "      <th>Estimated_reach</th>\n",
       "      <th>Avg._views_per_video</th>\n",
       "    </tr>\n",
       "    <tr>\n",
       "      <th>Id</th>\n",
       "      <th></th>\n",
       "      <th></th>\n",
       "      <th></th>\n",
       "      <th></th>\n",
       "      <th></th>\n",
       "      <th></th>\n",
       "      <th></th>\n",
       "    </tr>\n",
       "  </thead>\n",
       "  <tbody>\n",
       "    <tr>\n",
       "      <th>Account:1477</th>\n",
       "      <td>Portugal</td>\n",
       "      <td>Lisbon</td>\n",
       "      <td>Male</td>\n",
       "      <td>Instagram</td>\n",
       "      <td>high</td>\n",
       "      <td>high</td>\n",
       "      <td>high</td>\n",
       "    </tr>\n",
       "  </tbody>\n",
       "</table>\n",
       "</div>"
      ],
      "text/plain": [
       "               Country    City Gender Social_network Followers  \\\n",
       "Id                                                               \n",
       "Account:1477  Portugal  Lisbon   Male      Instagram      high   \n",
       "\n",
       "             Estimated_reach Avg._views_per_video  \n",
       "Id                                                 \n",
       "Account:1477            high                 high  "
      ]
     },
     "execution_count": 212,
     "metadata": {},
     "output_type": "execute_result"
    }
   ],
   "source": [
    "clean_df[clean_df.index == 'Account:1477']"
   ]
  },
  {
   "cell_type": "code",
   "execution_count": null,
   "id": "9860df69-b91e-48a7-bd49-8bd7e79500ef",
   "metadata": {},
   "outputs": [],
   "source": [
    "'''\n",
    "Error in data ->\n",
    "Sonu Sood\n",
    "Country United_Kingdom\n",
    "City Mumbai\n",
    "'''"
   ]
  },
  {
   "cell_type": "code",
   "execution_count": 83,
   "id": "c1196833-2c9a-4685-a921-f56719f37323",
   "metadata": {},
   "outputs": [],
   "source": [
    "#APP"
   ]
  },
  {
   "cell_type": "code",
   "execution_count": 2,
   "id": "80f02c24-6ec4-42b5-925e-7e39bff06ba6",
   "metadata": {},
   "outputs": [],
   "source": [
    "model = KeyedVectors.load_word2vec_format('GGvec_model_v1.bin')"
   ]
  },
  {
   "cell_type": "code",
   "execution_count": 34,
   "id": "40ea1c33-f985-4e9a-b1d6-adf51cec0deb",
   "metadata": {},
   "outputs": [],
   "source": [
    "positive_list = ['Followers:high']\n",
    "selections_dict = {}\n",
    "selections_dict['positive'] = positive_list"
   ]
  },
  {
   "cell_type": "code",
   "execution_count": 35,
   "id": "7482e4bc-d3a1-46f8-a975-126b59dd458a",
   "metadata": {},
   "outputs": [],
   "source": [
    "def get_recommendations(selections_dict, model, user_lookup, display_n=25):\n",
    "    results = []\n",
    "    for node_id, value in model.most_similar_cosmul(**selections_dict, topn=1000000):\n",
    "        node_parts = node_id.split(':')\n",
    "        if len(node_parts) != 2:\n",
    "            node_type = node_parts[0]\n",
    "            node_key = ' '.join(node_parts[1:])\n",
    "        else:\n",
    "            node_type, node_key = node_parts\n",
    "\n",
    "        if node_type == 'Account':\n",
    "            try:\n",
    "                results.append((node_type, user_lookup[node_key]['Name'], value))\n",
    "            except:\n",
    "                print(node_key)\n",
    "        elif node_key == 'True':\n",
    "            pass\n",
    "        else:\n",
    "            results.append((node_type, node_id, value))\n",
    "            \n",
    "    df = pd.DataFrame(results, columns=['EntityType', 'Entity', 'Score'])\n",
    "    return df"
   ]
  },
  {
   "cell_type": "code",
   "execution_count": 36,
   "id": "32b9425b-f082-4294-8eb2-d2c5cdd31005",
   "metadata": {},
   "outputs": [],
   "source": [
    "p = get_recommendations(selections_dict, model, user_lookup, display_n=25)"
   ]
  },
  {
   "cell_type": "code",
   "execution_count": 37,
   "id": "697e3d00-ca53-406e-a26a-7819d427abcf",
   "metadata": {},
   "outputs": [
    {
     "data": {
      "text/plain": [
       "2       MOBILITY | STRENGTH | SKILLS\n",
       "3     Código de Creador:ELVIEJOSHIFU\n",
       "4       @los40sonlosnuevos20_oficial\n",
       "5                       𝙱𝙾𝙳𝚈 𝙿𝚁𝙾𝙹𝙴𝙲𝚃\n",
       "6                    Liverpool Goals\n",
       "7              ✩ ◦ Aɴᴅʀᴇs Mᴀᴜʀᴇʀ ◦ ✩\n",
       "8           River.p.fans [41,5k] ⚪🔴⚪\n",
       "9                         Santifoods\n",
       "10                     𝐋𝐀𝐔𝐑𝐀 𝐂𝐀𝐍̃𝐄𝐑𝐎\n",
       "11                         Johnathan\n",
       "Name: Entity, dtype: object"
      ]
     },
     "execution_count": 37,
     "metadata": {},
     "output_type": "execute_result"
    }
   ],
   "source": [
    "p[p['EntityType'] == 'Account'].sort_values(by=['Score'],ascending=False).head(10)['Entity']"
   ]
  },
  {
   "cell_type": "code",
   "execution_count": 38,
   "id": "80b1d5c5-bdaa-4404-9740-21ad67b9baae",
   "metadata": {},
   "outputs": [
    {
     "data": {
      "text/html": [
       "<div>\n",
       "<style scoped>\n",
       "    .dataframe tbody tr th:only-of-type {\n",
       "        vertical-align: middle;\n",
       "    }\n",
       "\n",
       "    .dataframe tbody tr th {\n",
       "        vertical-align: top;\n",
       "    }\n",
       "\n",
       "    .dataframe thead th {\n",
       "        text-align: right;\n",
       "    }\n",
       "</style>\n",
       "<table border=\"1\" class=\"dataframe\">\n",
       "  <thead>\n",
       "    <tr style=\"text-align: right;\">\n",
       "      <th></th>\n",
       "      <th>Name</th>\n",
       "      <th>Followers</th>\n",
       "    </tr>\n",
       "  </thead>\n",
       "  <tbody>\n",
       "    <tr>\n",
       "      <th>18581</th>\n",
       "      <td>MOBILITY | STRENGTH | SKILLS</td>\n",
       "      <td>36778</td>\n",
       "    </tr>\n",
       "  </tbody>\n",
       "</table>\n",
       "</div>"
      ],
      "text/plain": [
       "                               Name Followers\n",
       "18581  MOBILITY | STRENGTH | SKILLS     36778"
      ]
     },
     "execution_count": 38,
     "metadata": {},
     "output_type": "execute_result"
    }
   ],
   "source": [
    "users[users.Name == 'MOBILITY | STRENGTH | SKILLS'][['Name','Followers']]"
   ]
  },
  {
   "cell_type": "code",
   "execution_count": 39,
   "id": "d122e6bd-4115-41d4-8d95-7c13ac7714f2",
   "metadata": {},
   "outputs": [
    {
     "data": {
      "text/html": [
       "<div>\n",
       "<style scoped>\n",
       "    .dataframe tbody tr th:only-of-type {\n",
       "        vertical-align: middle;\n",
       "    }\n",
       "\n",
       "    .dataframe tbody tr th {\n",
       "        vertical-align: top;\n",
       "    }\n",
       "\n",
       "    .dataframe thead th {\n",
       "        text-align: right;\n",
       "    }\n",
       "</style>\n",
       "<table border=\"1\" class=\"dataframe\">\n",
       "  <thead>\n",
       "    <tr style=\"text-align: right;\">\n",
       "      <th></th>\n",
       "      <th>Name</th>\n",
       "      <th>Followers</th>\n",
       "    </tr>\n",
       "  </thead>\n",
       "  <tbody>\n",
       "    <tr>\n",
       "      <th>589</th>\n",
       "      <td>Código de Creador:ELVIEJOSHIFU</td>\n",
       "      <td>67021</td>\n",
       "    </tr>\n",
       "  </tbody>\n",
       "</table>\n",
       "</div>"
      ],
      "text/plain": [
       "                               Name Followers\n",
       "589  Código de Creador:ELVIEJOSHIFU     67021"
      ]
     },
     "execution_count": 39,
     "metadata": {},
     "output_type": "execute_result"
    }
   ],
   "source": [
    "users[users.Name == 'Código de Creador:ELVIEJOSHIFU'][['Name','Followers']]"
   ]
  },
  {
   "cell_type": "code",
   "execution_count": null,
   "id": "34510da3-fa53-4ba2-ae3e-d77ac0e61575",
   "metadata": {},
   "outputs": [],
   "source": [
    "'''\n",
    "ABOUT GGvec:\n",
    "\n",
    "What helped improve performance\n",
    "-> Running for more epochs\n",
    "-> Lesser learning rate\n",
    "-> higher negative ratio (negative sampling) (better performance but slower training)\n",
    "-> order=1 (training way faster)\n",
    "            *Order = 1 directly optimizes the graph.\n",
    "            *Order = 2 optimizes graph plus neighbours of neighbours\n",
    "            *Order = 3 optimizes up to 3rd order edges\n",
    "\n",
    "'''"
   ]
  },
  {
   "cell_type": "code",
   "execution_count": 237,
   "id": "c7231a85-b8ef-4137-871a-1e9a89ec2231",
   "metadata": {},
   "outputs": [
    {
     "data": {
      "image/png": "[encoded data removed]",
      "text/plain": [
       "<Figure size 640x480 with 1 Axes>"
      ]
     },
     "metadata": {},
     "output_type": "display_data"
    }
   ],
   "source": [
    "import pandas as pd\n",
    "import networkx as nx\n",
    "import matplotlib.pyplot as plt\n",
    "\n",
    "subgraph = nx.ego_graph(G, 'Account:151', radius=1)\n",
    "\n",
    "# plot the subgraph\n",
    "pos= None\n",
    "# nx.draw_networkx_nodes(subgraph,pos,node_color='r', node_size=500)\n",
    "# nx.draw_networkx_edges(subgraph, pos, edge_color='r')\n",
    "# nx.draw_networkx_nodes(G, pos, nodelist=list(set(G.nodes()) - set(subgraph.nodes())), node_color='b', node_size=500)\n",
    "nx.draw_networkx(subgraph)\n"
   ]
  },
  {
   "cell_type": "code",
   "execution_count": 4,
   "id": "8c8925dd-bb33-4771-8909-78bbce63ca15",
   "metadata": {},
   "outputs": [],
   "source": [
    "# Time for run 105298 rows of data\n",
    "## Node2vec: \n",
    "## GGVec: 30Secs(early stopped) "
   ]
  },
  {
   "cell_type": "code",
   "execution_count": null,
   "id": "72d0e39d-7a2d-47e5-9212-2e96463032b9",
   "metadata": {},
   "outputs": [],
   "source": []
  }
 ],
 "metadata": {
  "kernelspec": {
   "display_name": "Python 3",
   "language": "python",
   "name": "python3"
  },
  "language_info": {
   "codemirror_mode": {
    "name": "ipython",
    "version": 3
   },
   "file_extension": ".py",
   "mimetype": "text/x-python",
   "name": "python",
   "nbconvert_exporter": "python",
   "pygments_lexer": "ipython3",
   "version": "3.7.12"
  }
 },
 "nbformat": 4,
 "nbformat_minor": 5
}
