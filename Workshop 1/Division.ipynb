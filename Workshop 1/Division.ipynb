{
 "cells": [
  {
   "cell_type": "code",
   "execution_count": 27,
   "id": "fcc9cc41-c8eb-4cb4-b3ce-6b2b993dc0f5",
   "metadata": {},
   "outputs": [],
   "source": [
    "import pandas as pd"
   ]
  },
  {
   "cell_type": "code",
   "execution_count": 29,
   "id": "c23712ac-1dae-463e-b626-4f81a538ea12",
   "metadata": {},
   "outputs": [],
   "source": [
    "users  = pd.read_csv('SocialTalk 2023/accounts.csv', on_bad_lines='skip', low_memory=False) #We are encoutering some bad lines creating some error so we skip over them"
   ]
  },
  {
   "cell_type": "code",
   "execution_count": 30,
   "id": "e85b9129-eef4-4d47-a69c-705e2f20256f",
   "metadata": {},
   "outputs": [],
   "source": [
    "users['Nan'] = users.isna().sum(axis = 1)"
   ]
  },
  {
   "cell_type": "code",
   "execution_count": 31,
   "id": "d44f7d23-efcb-49c8-b010-618113e96727",
   "metadata": {},
   "outputs": [
    {
     "data": {
      "text/plain": [
       "(477765, 23)"
      ]
     },
     "execution_count": 31,
     "metadata": {},
     "output_type": "execute_result"
    }
   ],
   "source": [
    "users[users['Nan'] >= 4].shape"
   ]
  },
  {
   "cell_type": "code",
   "execution_count": 19,
   "id": "a7d79313-2e50-42ce-bfb4-e408371defae",
   "metadata": {},
   "outputs": [
    {
     "data": {
      "text/plain": [
       "(2453347, 23)"
      ]
     },
     "execution_count": 19,
     "metadata": {},
     "output_type": "execute_result"
    }
   ],
   "source": [
    "users[users['Nan'] < 4].shape"
   ]
  },
  {
   "cell_type": "code",
   "execution_count": 32,
   "id": "f2ac1d65-6b3b-4b50-a287-7b771a3762c6",
   "metadata": {},
   "outputs": [
    {
     "data": {
      "text/plain": [
       "(38, 23)"
      ]
     },
     "execution_count": 32,
     "metadata": {},
     "output_type": "execute_result"
    }
   ],
   "source": [
    "users[users['Nan'] == 0].shape"
   ]
  },
  {
   "cell_type": "code",
   "execution_count": 23,
   "id": "1da264ac-1573-4fe8-b0b1-77beaebf3886",
   "metadata": {},
   "outputs": [],
   "source": [
    "users[users['Nan'] == 0].to_csv('FullyEnriched_2023.csv')"
   ]
  },
  {
   "cell_type": "code",
   "execution_count": 24,
   "id": "e6c57703-31fd-47a1-93c1-282dd801f791",
   "metadata": {},
   "outputs": [],
   "source": [
    "users[users['Nan'] < 4].sample(10).to_csv('partially_enriched_2023.csv')"
   ]
  },
  {
   "cell_type": "code",
   "execution_count": 25,
   "id": "9ad6ca67-fd06-4d22-9486-e3477cd184fc",
   "metadata": {},
   "outputs": [],
   "source": [
    "users[users['Nan'] >= 4].sample(10).to_csv('unenriched_2023.csv')"
   ]
  },
  {
   "cell_type": "code",
   "execution_count": null,
   "id": "e43724d4-0118-4963-a784-42179bb6ef5a",
   "metadata": {},
   "outputs": [],
   "source": []
  }
 ],
 "metadata": {
  "kernelspec": {
   "display_name": "Python 3",
   "language": "python",
   "name": "python3"
  },
  "language_info": {
   "codemirror_mode": {
    "name": "ipython",
    "version": 3
   },
   "file_extension": ".py",
   "mimetype": "text/x-python",
   "name": "python",
   "nbconvert_exporter": "python",
   "pygments_lexer": "ipython3",
   "version": "3.7.12"
  }
 },
 "nbformat": 4,
 "nbformat_minor": 5
}
