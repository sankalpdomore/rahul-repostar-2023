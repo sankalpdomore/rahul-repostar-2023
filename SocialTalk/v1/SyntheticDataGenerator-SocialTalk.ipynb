{
 "cells": [
  {
   "cell_type": "code",
   "execution_count": null,
   "metadata": {},
   "outputs": [],
   "source": [
    "# !pip install sdv"
   ]
  },
  {
   "cell_type": "code",
   "execution_count": 1,
   "metadata": {},
   "outputs": [],
   "source": [
    "from sdv.tabular import GaussianCopula\n",
    "import pandas as pd\n"
   ]
  },
  {
   "cell_type": "code",
   "execution_count": 2,
   "metadata": {},
   "outputs": [
    {
     "data": {
      "text/html": [
       "<div>\n",
       "<style scoped>\n",
       "    .dataframe tbody tr th:only-of-type {\n",
       "        vertical-align: middle;\n",
       "    }\n",
       "\n",
       "    .dataframe tbody tr th {\n",
       "        vertical-align: top;\n",
       "    }\n",
       "\n",
       "    .dataframe thead th {\n",
       "        text-align: right;\n",
       "    }\n",
       "</style>\n",
       "<table border=\"1\" class=\"dataframe\">\n",
       "  <thead>\n",
       "    <tr style=\"text-align: right;\">\n",
       "      <th></th>\n",
       "      <th>Audience credibility</th>\n",
       "      <th>Country 1</th>\n",
       "      <th>Country 1 %</th>\n",
       "      <th>Country 2</th>\n",
       "      <th>Country 2 %</th>\n",
       "      <th>Country 3</th>\n",
       "      <th>Country 3 %</th>\n",
       "      <th>Country 4</th>\n",
       "      <th>Country 4 %</th>\n",
       "      <th>Country 5</th>\n",
       "      <th>...</th>\n",
       "      <th>Audience report interest 21</th>\n",
       "      <th>Audience report interest 21 %</th>\n",
       "      <th>Audience report interest 22</th>\n",
       "      <th>Audience report interest 22 %</th>\n",
       "      <th>Audience report interest 23</th>\n",
       "      <th>Audience report interest 23 %</th>\n",
       "      <th>Audience report interest 24</th>\n",
       "      <th>Audience report interest 24 %</th>\n",
       "      <th>Audience report interest 25</th>\n",
       "      <th>Audience report interest 25 %</th>\n",
       "    </tr>\n",
       "  </thead>\n",
       "  <tbody>\n",
       "    <tr>\n",
       "      <th>0</th>\n",
       "      <td>0.754</td>\n",
       "      <td>United States</td>\n",
       "      <td>0.382855</td>\n",
       "      <td>Brazil</td>\n",
       "      <td>0.069794</td>\n",
       "      <td>Nigeria</td>\n",
       "      <td>0.047205</td>\n",
       "      <td>United Kingdom</td>\n",
       "      <td>0.033594</td>\n",
       "      <td>South Africa</td>\n",
       "      <td>...</td>\n",
       "      <td>Shopping &amp; Retail</td>\n",
       "      <td>0.116552</td>\n",
       "      <td>Luxury Goods</td>\n",
       "      <td>0.097586</td>\n",
       "      <td>Jewellery &amp; Watches</td>\n",
       "      <td>0.077586</td>\n",
       "      <td>Gaming</td>\n",
       "      <td>0.073793</td>\n",
       "      <td>Business &amp; Careers</td>\n",
       "      <td>0.063103</td>\n",
       "    </tr>\n",
       "    <tr>\n",
       "      <th>1</th>\n",
       "      <td>0.8403</td>\n",
       "      <td>United States</td>\n",
       "      <td>0.169507</td>\n",
       "      <td>Germany</td>\n",
       "      <td>0.151931</td>\n",
       "      <td>Italy</td>\n",
       "      <td>0.114780</td>\n",
       "      <td>France</td>\n",
       "      <td>0.053129</td>\n",
       "      <td>United Kingdom</td>\n",
       "      <td>...</td>\n",
       "      <td>Beauty &amp; Cosmetics</td>\n",
       "      <td>0.133186</td>\n",
       "      <td>Home Decor, Furniture &amp; Garden</td>\n",
       "      <td>0.126706</td>\n",
       "      <td>Business &amp; Careers</td>\n",
       "      <td>0.099545</td>\n",
       "      <td>Jewellery &amp; Watches</td>\n",
       "      <td>0.079967</td>\n",
       "      <td>Activewear</td>\n",
       "      <td>0.049635</td>\n",
       "    </tr>\n",
       "    <tr>\n",
       "      <th>2</th>\n",
       "      <td>0.7831</td>\n",
       "      <td>Portugal</td>\n",
       "      <td>0.719775</td>\n",
       "      <td>Brazil</td>\n",
       "      <td>0.135087</td>\n",
       "      <td>United States</td>\n",
       "      <td>0.018031</td>\n",
       "      <td>Spain</td>\n",
       "      <td>0.014780</td>\n",
       "      <td>United Kingdom</td>\n",
       "      <td>...</td>\n",
       "      <td>Home Decor, Furniture &amp; Garden</td>\n",
       "      <td>0.080943</td>\n",
       "      <td>Shopping &amp; Retail</td>\n",
       "      <td>0.073258</td>\n",
       "      <td>Gaming</td>\n",
       "      <td>0.064037</td>\n",
       "      <td>Luxury Goods</td>\n",
       "      <td>0.052254</td>\n",
       "      <td>Jewellery &amp; Watches</td>\n",
       "      <td>0.049693</td>\n",
       "    </tr>\n",
       "    <tr>\n",
       "      <th>3</th>\n",
       "      <td>0.884788</td>\n",
       "      <td>Portugal</td>\n",
       "      <td>0.857821</td>\n",
       "      <td>Brazil</td>\n",
       "      <td>0.017416</td>\n",
       "      <td>United Kingdom</td>\n",
       "      <td>0.016466</td>\n",
       "      <td>France</td>\n",
       "      <td>0.016149</td>\n",
       "      <td>Spain</td>\n",
       "      <td>...</td>\n",
       "      <td>Activewear</td>\n",
       "      <td>0.079090</td>\n",
       "      <td>Shopping &amp; Retail</td>\n",
       "      <td>0.076619</td>\n",
       "      <td>Luxury Goods</td>\n",
       "      <td>0.061295</td>\n",
       "      <td>Gaming</td>\n",
       "      <td>0.059812</td>\n",
       "      <td>Jewellery &amp; Watches</td>\n",
       "      <td>0.059318</td>\n",
       "    </tr>\n",
       "    <tr>\n",
       "      <th>4</th>\n",
       "      <td>0.7875</td>\n",
       "      <td>United States</td>\n",
       "      <td>0.259875</td>\n",
       "      <td>Brazil</td>\n",
       "      <td>0.134254</td>\n",
       "      <td>Mexico</td>\n",
       "      <td>0.063026</td>\n",
       "      <td>Italy</td>\n",
       "      <td>0.053097</td>\n",
       "      <td>United Kingdom</td>\n",
       "      <td>...</td>\n",
       "      <td>Shopping &amp; Retail</td>\n",
       "      <td>0.097368</td>\n",
       "      <td>Activewear</td>\n",
       "      <td>0.080756</td>\n",
       "      <td>Luxury Goods</td>\n",
       "      <td>0.068490</td>\n",
       "      <td>Jewellery &amp; Watches</td>\n",
       "      <td>0.066190</td>\n",
       "      <td>Home Decor, Furniture &amp; Garden</td>\n",
       "      <td>0.062356</td>\n",
       "    </tr>\n",
       "  </tbody>\n",
       "</table>\n",
       "<p>5 rows × 159 columns</p>\n",
       "</div>"
      ],
      "text/plain": [
       "  Audience credibility      Country 1 Country 1 % Country 2  Country 2 %  \\\n",
       "0                0.754  United States    0.382855    Brazil     0.069794   \n",
       "1               0.8403  United States    0.169507   Germany     0.151931   \n",
       "2               0.7831       Portugal    0.719775    Brazil     0.135087   \n",
       "3             0.884788       Portugal    0.857821    Brazil     0.017416   \n",
       "4               0.7875  United States    0.259875    Brazil     0.134254   \n",
       "\n",
       "        Country 3  Country 3 %       Country 4  Country 4 %       Country 5  \\\n",
       "0         Nigeria     0.047205  United Kingdom     0.033594    South Africa   \n",
       "1           Italy     0.114780          France     0.053129  United Kingdom   \n",
       "2   United States     0.018031           Spain     0.014780  United Kingdom   \n",
       "3  United Kingdom     0.016466          France     0.016149           Spain   \n",
       "4          Mexico     0.063026           Italy     0.053097  United Kingdom   \n",
       "\n",
       "   ...     Audience report interest 21 Audience report interest 21 %  \\\n",
       "0  ...               Shopping & Retail                      0.116552   \n",
       "1  ...              Beauty & Cosmetics                      0.133186   \n",
       "2  ...  Home Decor, Furniture & Garden                      0.080943   \n",
       "3  ...                      Activewear                      0.079090   \n",
       "4  ...               Shopping & Retail                      0.097368   \n",
       "\n",
       "      Audience report interest 22 Audience report interest 22 %  \\\n",
       "0                    Luxury Goods                      0.097586   \n",
       "1  Home Decor, Furniture & Garden                      0.126706   \n",
       "2               Shopping & Retail                      0.073258   \n",
       "3               Shopping & Retail                      0.076619   \n",
       "4                      Activewear                      0.080756   \n",
       "\n",
       "   Audience report interest 23 Audience report interest 23 %  \\\n",
       "0          Jewellery & Watches                      0.077586   \n",
       "1           Business & Careers                      0.099545   \n",
       "2                       Gaming                      0.064037   \n",
       "3                 Luxury Goods                      0.061295   \n",
       "4                 Luxury Goods                      0.068490   \n",
       "\n",
       "   Audience report interest 24 Audience report interest 24 %  \\\n",
       "0                       Gaming                      0.073793   \n",
       "1          Jewellery & Watches                      0.079967   \n",
       "2                 Luxury Goods                      0.052254   \n",
       "3                       Gaming                      0.059812   \n",
       "4          Jewellery & Watches                      0.066190   \n",
       "\n",
       "      Audience report interest 25 Audience report interest 25 %  \n",
       "0              Business & Careers                      0.063103  \n",
       "1                      Activewear                      0.049635  \n",
       "2             Jewellery & Watches                      0.049693  \n",
       "3             Jewellery & Watches                      0.059318  \n",
       "4  Home Decor, Furniture & Garden                      0.062356  \n",
       "\n",
       "[5 rows x 159 columns]"
      ]
     },
     "execution_count": 2,
     "metadata": {},
     "output_type": "execute_result"
    }
   ],
   "source": [
    "data = pd.read_csv('audience.csv', nrows=705)\n",
    "\n",
    "data = data[data.columns[56:]]\n",
    "data.head()\n"
   ]
  },
  {
   "cell_type": "code",
   "execution_count": 3,
   "metadata": {},
   "outputs": [
    {
     "name": "stderr",
     "output_type": "stream",
     "text": [
      "/home/apres/anaconda3/lib/python3.7/site-packages/pandas/core/frame.py:3678: PerformanceWarning: DataFrame is highly fragmented.  This is usually the result of calling `frame.insert` many times, which has poor performance.  Consider joining all columns at once using pd.concat(axis=1) instead.  To get a de-fragmented frame, use `newframe = frame.copy()`\n",
      "  self[col] = igetitem(value, i)\n",
      "/home/apres/anaconda3/lib/python3.7/site-packages/scipy/stats/_continuous_distns.py:639: RuntimeWarning: invalid value encountered in sqrt\n",
      "  sk = 2*(b-a)*np.sqrt(a + b + 1) / (a + b + 2) / np.sqrt(a*b)\n",
      "/home/apres/anaconda3/lib/python3.7/site-packages/scipy/optimize/minpack.py:175: RuntimeWarning: The iteration is not making good progress, as measured by the \n",
      "  improvement from the last ten iterations.\n",
      "  warnings.warn(msg, RuntimeWarning)\n",
      "/home/apres/anaconda3/lib/python3.7/site-packages/scipy/stats/_continuous_distns.py:5320: RuntimeWarning: divide by zero encountered in true_divide\n",
      "  return c**2 / (c**2 - n**2)\n",
      "/home/apres/anaconda3/lib/python3.7/site-packages/scipy/stats/_distn_infrastructure.py:2606: RuntimeWarning: invalid value encountered in double_scalars\n",
      "  Lhat = muhat - Shat*mu\n",
      "/home/apres/anaconda3/lib/python3.7/site-packages/scipy/optimize/minpack.py:175: RuntimeWarning: The iteration is not making good progress, as measured by the \n",
      "  improvement from the last five Jacobian evaluations.\n",
      "  warnings.warn(msg, RuntimeWarning)\n",
      "/home/apres/anaconda3/lib/python3.7/site-packages/copulas/univariate/truncated_gaussian.py:43: RuntimeWarning: invalid value encountered in double_scalars\n",
      "  a = (self.min - loc) / scale\n",
      "/home/apres/anaconda3/lib/python3.7/site-packages/copulas/univariate/truncated_gaussian.py:44: RuntimeWarning: divide by zero encountered in double_scalars\n",
      "  b = (self.max - loc) / scale\n",
      "/home/apres/anaconda3/lib/python3.7/site-packages/scipy/optimize/minpack.py:175: RuntimeWarning: The number of calls to function has reached maxfev = 600.\n",
      "  warnings.warn(msg, RuntimeWarning)\n",
      "/home/apres/anaconda3/lib/python3.7/site-packages/scipy/optimize/optimize.py:283: RuntimeWarning: Values in x were outside bounds during a minimize step, clipping to bounds\n",
      "  \"minimize step, clipping to bounds\", RuntimeWarning)\n",
      "/home/apres/anaconda3/lib/python3.7/site-packages/scipy/stats/_continuous_distns.py:5311: RuntimeWarning: divide by zero encountered in power\n",
      "  return cd2*x**(c-1)\n"
     ]
    }
   ],
   "source": [
    "model = GaussianCopula()\n",
    "\n",
    "model.fit(data)"
   ]
  },
  {
   "cell_type": "code",
   "execution_count": 4,
   "metadata": {},
   "outputs": [],
   "source": [
    "model.save('model.pkl')\n"
   ]
  },
  {
   "cell_type": "code",
   "execution_count": 13,
   "metadata": {},
   "outputs": [],
   "source": [
    "# new_data_df_list=[]\n",
    "# for i in range(100):\n",
    "#     new_data_df_list.append(model.sample(1000))"
   ]
  },
  {
   "cell_type": "code",
   "execution_count": 16,
   "metadata": {},
   "outputs": [],
   "source": [
    "# pd.concat(new_data_df_list).to_csv('1M.csv', index=False)"
   ]
  },
  {
   "cell_type": "code",
   "execution_count": null,
   "metadata": {},
   "outputs": [],
   "source": []
  },
  {
   "cell_type": "code",
   "execution_count": null,
   "metadata": {},
   "outputs": [],
   "source": []
  },
  {
   "cell_type": "code",
   "execution_count": 4,
   "metadata": {},
   "outputs": [],
   "source": [
    "# Socialtalk\n",
    "fulldata = pd.read_csv('audience.csv')\n",
    "no_required_rows = fulldata.shape[0] - data.shape[0]"
   ]
  },
  {
   "cell_type": "code",
   "execution_count": 5,
   "metadata": {},
   "outputs": [],
   "source": [
    "new_data = model.sample(no_required_rows)"
   ]
  },
  {
   "cell_type": "code",
   "execution_count": 9,
   "metadata": {},
   "outputs": [],
   "source": [
    "new_data.to_csv('audience_imputed_data.csv', index=False)"
   ]
  },
  {
   "cell_type": "markdown",
   "metadata": {},
   "source": [
    "# Evaluate data quality"
   ]
  },
  {
   "cell_type": "code",
   "execution_count": 30,
   "metadata": {},
   "outputs": [],
   "source": [
    "from sdv.evaluation import evaluate\n",
    "\n",
    "evaluate(new_data,data)"
   ]
  },
  {
   "cell_type": "code",
   "execution_count": null,
   "metadata": {},
   "outputs": [],
   "source": [
    "0.5859857015609296"
   ]
  },
  {
   "cell_type": "markdown",
   "metadata": {},
   "source": [
    "## Performing Chi test and KS test"
   ]
  },
  {
   "cell_type": "code",
   "execution_count": 9,
   "metadata": {},
   "outputs": [
    {
     "data": {
      "text/html": [
       "<div>\n",
       "<style scoped>\n",
       "    .dataframe tbody tr th:only-of-type {\n",
       "        vertical-align: middle;\n",
       "    }\n",
       "\n",
       "    .dataframe tbody tr th {\n",
       "        vertical-align: top;\n",
       "    }\n",
       "\n",
       "    .dataframe thead th {\n",
       "        text-align: right;\n",
       "    }\n",
       "</style>\n",
       "<table border=\"1\" class=\"dataframe\">\n",
       "  <thead>\n",
       "    <tr style=\"text-align: right;\">\n",
       "      <th></th>\n",
       "      <th>metric</th>\n",
       "      <th>name</th>\n",
       "      <th>raw_score</th>\n",
       "      <th>normalized_score</th>\n",
       "      <th>min_value</th>\n",
       "      <th>max_value</th>\n",
       "      <th>goal</th>\n",
       "      <th>error</th>\n",
       "    </tr>\n",
       "  </thead>\n",
       "  <tbody>\n",
       "    <tr>\n",
       "      <th>0</th>\n",
       "      <td>CSTest</td>\n",
       "      <td>Chi-Squared</td>\n",
       "      <td>0.999981</td>\n",
       "      <td>0.999981</td>\n",
       "      <td>0.0</td>\n",
       "      <td>1.0</td>\n",
       "      <td>MAXIMIZE</td>\n",
       "      <td>None</td>\n",
       "    </tr>\n",
       "    <tr>\n",
       "      <th>1</th>\n",
       "      <td>KSTest</td>\n",
       "      <td>Inverted Kolmogorov-Smirnov D statistic</td>\n",
       "      <td>0.907130</td>\n",
       "      <td>0.907130</td>\n",
       "      <td>0.0</td>\n",
       "      <td>1.0</td>\n",
       "      <td>MAXIMIZE</td>\n",
       "      <td>None</td>\n",
       "    </tr>\n",
       "  </tbody>\n",
       "</table>\n",
       "</div>"
      ],
      "text/plain": [
       "   metric                                     name  raw_score  \\\n",
       "0  CSTest                              Chi-Squared   0.999981   \n",
       "1  KSTest  Inverted Kolmogorov-Smirnov D statistic   0.907130   \n",
       "\n",
       "   normalized_score  min_value  max_value      goal error  \n",
       "0          0.999981        0.0        1.0  MAXIMIZE  None  \n",
       "1          0.907130        0.0        1.0  MAXIMIZE  None  "
      ]
     },
     "execution_count": 9,
     "metadata": {},
     "output_type": "execute_result"
    }
   ],
   "source": [
    "evaluate(new_data,data, metrics=['CSTest', 'KSTest'],aggregate=False)"
   ]
  },
  {
   "cell_type": "markdown",
   "metadata": {},
   "source": [
    "# Performing ML efficacy metrics test"
   ]
  },
  {
   "cell_type": "code",
   "execution_count": 26,
   "metadata": {},
   "outputs": [
    {
     "data": {
      "text/plain": [
       "(19971, 159)"
      ]
     },
     "execution_count": 26,
     "metadata": {},
     "output_type": "execute_result"
    }
   ],
   "source": [
    "new_data = new_data.drop(new_data[new_data['Audience credibility'] == 'Toys, Children & Baby'].index)\n",
    "new_data.shape"
   ]
  },
  {
   "cell_type": "code",
   "execution_count": 27,
   "metadata": {},
   "outputs": [
    {
     "data": {
      "text/plain": [
       "(704, 159)"
      ]
     },
     "execution_count": 27,
     "metadata": {},
     "output_type": "execute_result"
    }
   ],
   "source": [
    "data = data.drop(data[data['Audience credibility'] == 'Toys, Children & Baby'].index[0])\n",
    "data.shape"
   ]
  },
  {
   "cell_type": "code",
   "execution_count": 28,
   "metadata": {},
   "outputs": [
    {
     "name": "stderr",
     "output_type": "stream",
     "text": [
      "/home/apres/anaconda3/lib/python3.7/site-packages/pandas/core/frame.py:3678: PerformanceWarning: DataFrame is highly fragmented.  This is usually the result of calling `frame.insert` many times, which has poor performance.  Consider joining all columns at once using pd.concat(axis=1) instead.  To get a de-fragmented frame, use `newframe = frame.copy()`\n",
      "  self[col] = igetitem(value, i)\n"
     ]
    },
    {
     "data": {
      "text/plain": [
       "-535.9595961716633"
      ]
     },
     "execution_count": 28,
     "metadata": {},
     "output_type": "execute_result"
    }
   ],
   "source": [
    "from sdv.metrics.tabular import MLPRegressor\n",
    "MLPRegressor.compute(data, new_data, target='Audience credibility')"
   ]
  },
  {
   "cell_type": "code",
   "execution_count": 29,
   "metadata": {},
   "outputs": [
    {
     "name": "stderr",
     "output_type": "stream",
     "text": [
      "/home/apres/anaconda3/lib/python3.7/site-packages/pandas/core/frame.py:3678: PerformanceWarning: DataFrame is highly fragmented.  This is usually the result of calling `frame.insert` many times, which has poor performance.  Consider joining all columns at once using pd.concat(axis=1) instead.  To get a de-fragmented frame, use `newframe = frame.copy()`\n",
      "  self[col] = igetitem(value, i)\n"
     ]
    },
    {
     "data": {
      "text/plain": [
       "-615944293312804.4"
      ]
     },
     "execution_count": 29,
     "metadata": {},
     "output_type": "execute_result"
    }
   ],
   "source": [
    "from sdv.metrics.tabular import LinearRegression\n",
    "LinearRegression.compute(data, new_data, target='Audience credibility')"
   ]
  },
  {
   "cell_type": "code",
   "execution_count": null,
   "metadata": {},
   "outputs": [],
   "source": []
  },
  {
   "cell_type": "code",
   "execution_count": null,
   "metadata": {},
   "outputs": [],
   "source": []
  }
 ],
 "metadata": {
  "kernelspec": {
   "display_name": "Python 3",
   "language": "python",
   "name": "python3"
  },
  "language_info": {
   "codemirror_mode": {
    "name": "ipython",
    "version": 3
   },
   "file_extension": ".py",
   "mimetype": "text/x-python",
   "name": "python",
   "nbconvert_exporter": "python",
   "pygments_lexer": "ipython3",
   "version": "3.7.6"
  }
 },
 "nbformat": 4,
 "nbformat_minor": 4
}
