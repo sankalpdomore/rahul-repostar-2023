{
 "cells": [
  {
   "cell_type": "code",
   "execution_count": 71,
   "metadata": {},
   "outputs": [],
   "source": [
    "import random\n",
    "import pandas as pd"
   ]
  },
  {
   "cell_type": "code",
   "execution_count": 30,
   "metadata": {},
   "outputs": [],
   "source": [
    "user_lookup = pd.read_csv('../data/SocialTalk/audience_populated.csv')['Username'].to_frame()\n",
    "original_triples = pd.read_csv('../data/SocialTalk/OriginalUnnamedTriples.csv')\n",
    "predict_triples = pd.read_csv('../data/SocialTalk/PredictionTriples.csv')"
   ]
  },
  {
   "cell_type": "code",
   "execution_count": 31,
   "metadata": {},
   "outputs": [],
   "source": [
    "user_lookup['head'] = user_lookup.apply(lambda row: f'entity/{row.name}', axis=1)\n",
    "user_lookup['new_head'] = user_lookup['Username'].apply(lambda x: f'entity/{x}')"
   ]
  },
  {
   "cell_type": "code",
   "execution_count": 32,
   "metadata": {},
   "outputs": [],
   "source": [
    "unnamed_mapping = user_lookup.set_index('head')['new_head'].to_dict()"
   ]
  },
  {
   "cell_type": "code",
   "execution_count": 33,
   "metadata": {},
   "outputs": [],
   "source": [
    "original_triples['head'] = original_triples['head'].map(unnamed_mapping)"
   ]
  },
  {
   "cell_type": "code",
   "execution_count": 34,
   "metadata": {},
   "outputs": [],
   "source": [
    "original_triples.to_csv('../data/SocialTalk/OriginalNamedTriples.csv', index=None)"
   ]
  },
  {
   "cell_type": "code",
   "execution_count": 44,
   "metadata": {},
   "outputs": [],
   "source": [
    "original_triples = pd.read_csv('../data/SocialTalk/OriginalNamedTriples.csv')\n",
    "predict_triples = pd.read_csv('../data/SocialTalk/PredictionTriples.csv')"
   ]
  },
  {
   "cell_type": "code",
   "execution_count": 73,
   "metadata": {},
   "outputs": [],
   "source": [
    "users_with_details = original_triples[original_triples['rel'] == 'relation/age']['head'].unique()\n",
    "\n",
    "users_wo_details = [i for i in original_triples['head'].unique() if (i not in users_with_details)]\n",
    "users_wo_details = random.sample(users_wo_details, k=2000)"
   ]
  },
  {
   "cell_type": "code",
   "execution_count": 75,
   "metadata": {},
   "outputs": [],
   "source": [
    "orig_triples_1 = original_triples[original_triples['head'].isin(users_with_details)]\n",
    "orig_triples_2 = original_triples[original_triples['head'].isin(users_wo_details)]"
   ]
  },
  {
   "cell_type": "code",
   "execution_count": 78,
   "metadata": {},
   "outputs": [],
   "source": [
    "pd.concat([orig_triples_1, orig_triples_2]).to_csv('../data/SocialTalk/SampledNamedTriples.csv', index=None)"
   ]
  },
  {
   "cell_type": "code",
   "execution_count": null,
   "metadata": {},
   "outputs": [],
   "source": []
  }
 ],
 "metadata": {
  "interpreter": {
   "hash": "e535d220b488de5ea91b9cc2b59c2f114a95afd4d79a4d51c41214c2f625fe35"
  },
  "kernelspec": {
   "display_name": "Python 3.8.11 ('base')",
   "language": "python",
   "name": "python3"
  },
  "language_info": {
   "codemirror_mode": {
    "name": "ipython",
    "version": 3
   },
   "file_extension": ".py",
   "mimetype": "text/x-python",
   "name": "python",
   "nbconvert_exporter": "python",
   "pygments_lexer": "ipython3",
   "version": "3.8.11"
  },
  "orig_nbformat": 4
 },
 "nbformat": 4,
 "nbformat_minor": 2
}
