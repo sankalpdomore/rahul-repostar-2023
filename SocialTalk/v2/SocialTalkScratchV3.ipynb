{
 "cells": [
  {
   "cell_type": "code",
   "execution_count": 1,
   "metadata": {},
   "outputs": [],
   "source": [
    "import numpy as np\n",
    "import pandas as pd\n",
    "import matplotlib.pyplot as plt"
   ]
  },
  {
   "cell_type": "code",
   "execution_count": 2,
   "metadata": {},
   "outputs": [],
   "source": [
    "PATH = '../data/SocialTalk/predict'\n",
    "SEPARATOR = ','"
   ]
  },
  {
   "cell_type": "code",
   "execution_count": 3,
   "metadata": {},
   "outputs": [],
   "source": [
    "categorical_df = pd.read_csv(f'{PATH}/categorical_buckets.csv', sep=SEPARATOR, low_memory=False, index_col=0).fillna('Unknown')"
   ]
  },
  {
   "cell_type": "code",
   "execution_count": 4,
   "metadata": {},
   "outputs": [],
   "source": [
    "age_df = pd.read_csv(f'{PATH}/age_categories.csv', sep=SEPARATOR, low_memory=False)\n",
    "audience_df = pd.read_csv(f'{PATH}/audience_categories.csv', sep=SEPARATOR, low_memory=False)\n",
    "interest_df = pd.read_csv(f'{PATH}/interest_categories.csv', sep=SEPARATOR, low_memory=False)"
   ]
  },
  {
   "cell_type": "code",
   "execution_count": 5,
   "metadata": {},
   "outputs": [],
   "source": [
    "for column in categorical_df.columns:\n",
    "    categorical_df[column] = categorical_df[column].apply(lambda x: f'{column}/{x}')"
   ]
  },
  {
   "cell_type": "code",
   "execution_count": 6,
   "metadata": {},
   "outputs": [],
   "source": [
    "x = categorical_df.unstack().reset_index()\n",
    "x.columns = ['rel', 'head', 'tail']\n",
    "\n",
    "x['head'] = x['head'].apply(lambda x: f'entity/{x}')\n",
    "x['rel'] = x['rel'].apply(lambda x: f'relation/{x}')\n",
    "\n",
    "categorical_triples = x[['head', 'rel', 'tail']]"
   ]
  },
  {
   "cell_type": "code",
   "execution_count": 7,
   "metadata": {},
   "outputs": [],
   "source": [
    "RELATION_NAME = 'age'\n",
    "x = age_df\n",
    "x.columns = ['tail', 'head']\n",
    "x['rel'] = f'relation/{RELATION_NAME}'\n",
    "\n",
    "x['head'] = x['head'].apply(lambda x: f'entity/{x}')\n",
    "x['tail'] = x['tail'].apply(lambda x: f'{RELATION_NAME}/{x}')\n",
    "\n",
    "age_triples = x[['head', 'rel', 'tail']]"
   ]
  },
  {
   "cell_type": "code",
   "execution_count": 8,
   "metadata": {},
   "outputs": [],
   "source": [
    "RELATION_NAME = 'audience'\n",
    "x = audience_df\n",
    "x.columns = ['head', 'tail']\n",
    "x['rel'] = f'relation/{RELATION_NAME}'\n",
    "\n",
    "x['head'] = x['head'].apply(lambda x: f'entity/{x}')\n",
    "x['tail'] = x['tail'].apply(lambda x: f'{RELATION_NAME}/{x}')\n",
    "\n",
    "audience_triples = x[['head', 'rel', 'tail']]"
   ]
  },
  {
   "cell_type": "code",
   "execution_count": 9,
   "metadata": {},
   "outputs": [],
   "source": [
    "RELATION_NAME = 'interest'\n",
    "x = interest_df\n",
    "x.columns = ['head', 'tail']\n",
    "x['rel'] = f'relation/{RELATION_NAME}'\n",
    "\n",
    "x['head'] = x['head'].apply(lambda x: f'entity/{x}')\n",
    "x['tail'] = x['tail'].apply(lambda x: f'{RELATION_NAME}/{x}')\n",
    "\n",
    "interest_triples = x[['head', 'rel', 'tail']]"
   ]
  },
  {
   "cell_type": "code",
   "execution_count": 10,
   "metadata": {},
   "outputs": [],
   "source": [
    "triples = pd.concat([categorical_triples, age_triples, audience_triples, interest_triples])"
   ]
  },
  {
   "cell_type": "code",
   "execution_count": 11,
   "metadata": {},
   "outputs": [
    {
     "data": {
      "text/html": [
       "<div>\n",
       "<style scoped>\n",
       "    .dataframe tbody tr th:only-of-type {\n",
       "        vertical-align: middle;\n",
       "    }\n",
       "\n",
       "    .dataframe tbody tr th {\n",
       "        vertical-align: top;\n",
       "    }\n",
       "\n",
       "    .dataframe thead th {\n",
       "        text-align: right;\n",
       "    }\n",
       "</style>\n",
       "<table border=\"1\" class=\"dataframe\">\n",
       "  <thead>\n",
       "    <tr style=\"text-align: right;\">\n",
       "      <th></th>\n",
       "      <th>head</th>\n",
       "      <th>rel</th>\n",
       "      <th>tail</th>\n",
       "    </tr>\n",
       "  </thead>\n",
       "  <tbody>\n",
       "    <tr>\n",
       "      <th>0</th>\n",
       "      <td>entity/nunomarkl</td>\n",
       "      <td>relation/Social network</td>\n",
       "      <td>Social network/Instagram</td>\n",
       "    </tr>\n",
       "    <tr>\n",
       "      <th>1</th>\n",
       "      <td>entity/vanesssamartins</td>\n",
       "      <td>relation/Social network</td>\n",
       "      <td>Social network/Instagram</td>\n",
       "    </tr>\n",
       "    <tr>\n",
       "      <th>2</th>\n",
       "      <td>entity/acatmoreira</td>\n",
       "      <td>relation/Social network</td>\n",
       "      <td>Social network/Instagram</td>\n",
       "    </tr>\n",
       "    <tr>\n",
       "      <th>3</th>\n",
       "      <td>entity/dulceida</td>\n",
       "      <td>relation/Social network</td>\n",
       "      <td>Social network/TikTok</td>\n",
       "    </tr>\n",
       "    <tr>\n",
       "      <th>4</th>\n",
       "      <td>entity/mariapombo</td>\n",
       "      <td>relation/Social network</td>\n",
       "      <td>Social network/Instagram</td>\n",
       "    </tr>\n",
       "    <tr>\n",
       "      <th>...</th>\n",
       "      <td>...</td>\n",
       "      <td>...</td>\n",
       "      <td>...</td>\n",
       "    </tr>\n",
       "    <tr>\n",
       "      <th>75</th>\n",
       "      <td>entity/martabaceiredo</td>\n",
       "      <td>relation/interest</td>\n",
       "      <td>interest/Carrefour</td>\n",
       "    </tr>\n",
       "    <tr>\n",
       "      <th>76</th>\n",
       "      <td>entity/dulceida</td>\n",
       "      <td>relation/interest</td>\n",
       "      <td>interest/ASOS</td>\n",
       "    </tr>\n",
       "    <tr>\n",
       "      <th>77</th>\n",
       "      <td>entity/_raquelsampaio_</td>\n",
       "      <td>relation/interest</td>\n",
       "      <td>interest/Clinique</td>\n",
       "    </tr>\n",
       "    <tr>\n",
       "      <th>78</th>\n",
       "      <td>entity/jessicavferreirasilva</td>\n",
       "      <td>relation/interest</td>\n",
       "      <td>interest/Bershka</td>\n",
       "    </tr>\n",
       "    <tr>\n",
       "      <th>79</th>\n",
       "      <td>entity/lacadenasaludable</td>\n",
       "      <td>relation/interest</td>\n",
       "      <td>interest/Ferrero</td>\n",
       "    </tr>\n",
       "  </tbody>\n",
       "</table>\n",
       "<p>531 rows × 3 columns</p>\n",
       "</div>"
      ],
      "text/plain": [
       "                            head                      rel  \\\n",
       "0               entity/nunomarkl  relation/Social network   \n",
       "1         entity/vanesssamartins  relation/Social network   \n",
       "2             entity/acatmoreira  relation/Social network   \n",
       "3                entity/dulceida  relation/Social network   \n",
       "4              entity/mariapombo  relation/Social network   \n",
       "..                           ...                      ...   \n",
       "75         entity/martabaceiredo        relation/interest   \n",
       "76               entity/dulceida        relation/interest   \n",
       "77        entity/_raquelsampaio_        relation/interest   \n",
       "78  entity/jessicavferreirasilva        relation/interest   \n",
       "79      entity/lacadenasaludable        relation/interest   \n",
       "\n",
       "                        tail  \n",
       "0   Social network/Instagram  \n",
       "1   Social network/Instagram  \n",
       "2   Social network/Instagram  \n",
       "3      Social network/TikTok  \n",
       "4   Social network/Instagram  \n",
       "..                       ...  \n",
       "75        interest/Carrefour  \n",
       "76             interest/ASOS  \n",
       "77         interest/Clinique  \n",
       "78          interest/Bershka  \n",
       "79          interest/Ferrero  \n",
       "\n",
       "[531 rows x 3 columns]"
      ]
     },
     "execution_count": 11,
     "metadata": {},
     "output_type": "execute_result"
    }
   ],
   "source": [
    "triples"
   ]
  },
  {
   "cell_type": "code",
   "execution_count": 12,
   "metadata": {},
   "outputs": [],
   "source": [
    "triples.to_csv('../data/SocialTalk/PredictionTriples.csv', index=None)"
   ]
  },
  {
   "cell_type": "code",
   "execution_count": 11,
   "metadata": {},
   "outputs": [
    {
     "ename": "NameError",
     "evalue": "name 'BREAK' is not defined",
     "output_type": "error",
     "traceback": [
      "\u001b[0;31m---------------------------------------------------------------------------\u001b[0m",
      "\u001b[0;31mNameError\u001b[0m                                 Traceback (most recent call last)",
      "\u001b[0;32m/var/folders/6b/lw097wpj0rq0scsn4h1_9pbw0000gn/T/ipykernel_96559/4120171414.py\u001b[0m in \u001b[0;36m<module>\u001b[0;34m\u001b[0m\n\u001b[0;32m----> 1\u001b[0;31m \u001b[0mBREAK\u001b[0m\u001b[0;34m\u001b[0m\u001b[0;34m\u001b[0m\u001b[0m\n\u001b[0m",
      "\u001b[0;31mNameError\u001b[0m: name 'BREAK' is not defined"
     ]
    }
   ],
   "source": [
    "BREAK"
   ]
  },
  {
   "cell_type": "markdown",
   "metadata": {},
   "source": [
    "#### PyKeen specifics"
   ]
  },
  {
   "cell_type": "code",
   "execution_count": null,
   "metadata": {},
   "outputs": [],
   "source": [
    "sampled_entities = triples['head'].sample(2000).tolist()\n",
    "sampled_entities += [f'entity/{i}' for i in range(650)]\n",
    "sampled_entities = set(sampled_entities)"
   ]
  },
  {
   "cell_type": "code",
   "execution_count": null,
   "metadata": {},
   "outputs": [],
   "source": [
    "sampled_triples = triples[triples['head'].isin(sampled_entities)]"
   ]
  },
  {
   "cell_type": "code",
   "execution_count": null,
   "metadata": {},
   "outputs": [],
   "source": [
    "from pykeen.triples import TriplesFactory\n",
    "\n",
    "tf = TriplesFactory.from_labeled_triples(sampled_triples.values)\n",
    "trans_train, ind_train, ind_test, ind_val = tf.split([.4, .3, .2, .1])"
   ]
  },
  {
   "cell_type": "code",
   "execution_count": null,
   "metadata": {},
   "outputs": [],
   "source": [
    "BASE_URL = '../data/SocialTalk'\n",
    "\n",
    "np.savetxt(f'{BASE_URL}/training/train.txt', trans_train.triples, fmt='%s', delimiter='\\t')\n",
    "np.savetxt(f'{BASE_URL}/inference/train.txt', ind_train.triples, fmt='%s', delimiter='\\t')\n",
    "np.savetxt(f'{BASE_URL}/inference/valid.txt', ind_test.triples, fmt='%s', delimiter='\\t')\n",
    "np.savetxt(f'{BASE_URL}/inference/test.txt', ind_val.triples, fmt='%s', delimiter='\\t')"
   ]
  },
  {
   "cell_type": "code",
   "execution_count": null,
   "metadata": {},
   "outputs": [],
   "source": []
  }
 ],
 "metadata": {
  "interpreter": {
   "hash": "e535d220b488de5ea91b9cc2b59c2f114a95afd4d79a4d51c41214c2f625fe35"
  },
  "kernelspec": {
   "display_name": "Python 3.8.11 ('base')",
   "language": "python",
   "name": "python3"
  },
  "language_info": {
   "codemirror_mode": {
    "name": "ipython",
    "version": 3
   },
   "file_extension": ".py",
   "mimetype": "text/x-python",
   "name": "python",
   "nbconvert_exporter": "python",
   "pygments_lexer": "ipython3",
   "version": "3.8.11"
  },
  "orig_nbformat": 4
 },
 "nbformat": 4,
 "nbformat_minor": 2
}
