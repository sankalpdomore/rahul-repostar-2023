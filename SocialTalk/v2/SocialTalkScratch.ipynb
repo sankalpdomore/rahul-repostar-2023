{
 "cells": [
  {
   "cell_type": "code",
   "execution_count": 20,
   "metadata": {},
   "outputs": [],
   "source": [
    "import uuid\n",
    "import random\n",
    "import numpy as np\n",
    "import pandas as pd\n",
    "from linkage.column import Column\n",
    "from linkage.dataset import Dataset\n",
    "from linkage.repository import Repository"
   ]
  },
  {
   "cell_type": "markdown",
   "metadata": {},
   "source": [
    "##### FILES THAT NEED TO BE COMBINED TOGETHER\n",
    "- `audience.csv` (raw data)\n",
    "- `audience_populated.csv` (for node vectors)\n",
    "\n",
    "- `age_categories.csv` (for constructing graph)\n",
    "- `audience_categories.csv` (for constructing graph)\n",
    "- `categorical_buckets.csv` (for constructing graph)\n",
    "- `interest_categories.csv` (for constructing graph)"
   ]
  },
  {
   "cell_type": "code",
   "execution_count": 21,
   "metadata": {},
   "outputs": [],
   "source": [
    "PATH = '../data/SocialTalk'\n",
    "SEPARATOR = ','\n",
    "TABLE = 'audience.csv'"
   ]
  },
  {
   "cell_type": "code",
   "execution_count": 22,
   "metadata": {},
   "outputs": [],
   "source": [
    "def convert(x):\n",
    "    try:\n",
    "        return float(x)\n",
    "    except:\n",
    "        return np.nan"
   ]
  },
  {
   "cell_type": "code",
   "execution_count": 23,
   "metadata": {},
   "outputs": [
    {
     "data": {
      "text/html": [
       "<div>\n",
       "<style scoped>\n",
       "    .dataframe tbody tr th:only-of-type {\n",
       "        vertical-align: middle;\n",
       "    }\n",
       "\n",
       "    .dataframe tbody tr th {\n",
       "        vertical-align: top;\n",
       "    }\n",
       "\n",
       "    .dataframe thead th {\n",
       "        text-align: right;\n",
       "    }\n",
       "</style>\n",
       "<table border=\"1\" class=\"dataframe\">\n",
       "  <thead>\n",
       "    <tr style=\"text-align: right;\">\n",
       "      <th></th>\n",
       "      <th>Social network</th>\n",
       "      <th>Username</th>\n",
       "      <th>Name</th>\n",
       "      <th>Country</th>\n",
       "      <th>City</th>\n",
       "      <th>Birthdate</th>\n",
       "      <th>Gender</th>\n",
       "      <th>Followers</th>\n",
       "      <th>Following</th>\n",
       "      <th>Posts</th>\n",
       "      <th>...</th>\n",
       "      <th>Audience report interest 21</th>\n",
       "      <th>Audience report interest 21 %</th>\n",
       "      <th>Audience report interest 22</th>\n",
       "      <th>Audience report interest 22 %</th>\n",
       "      <th>Audience report interest 23</th>\n",
       "      <th>Audience report interest 23 %</th>\n",
       "      <th>Audience report interest 24</th>\n",
       "      <th>Audience report interest 24 %</th>\n",
       "      <th>Audience report interest 25</th>\n",
       "      <th>Audience report interest 25 %</th>\n",
       "    </tr>\n",
       "  </thead>\n",
       "  <tbody>\n",
       "    <tr>\n",
       "      <th>0</th>\n",
       "      <td>Instagram</td>\n",
       "      <td>usher</td>\n",
       "      <td>Usher</td>\n",
       "      <td>United States</td>\n",
       "      <td>Los Angeles</td>\n",
       "      <td>NaN</td>\n",
       "      <td>NaN</td>\n",
       "      <td>9350055</td>\n",
       "      <td>1066</td>\n",
       "      <td>468</td>\n",
       "      <td>...</td>\n",
       "      <td>Shopping &amp; Retail</td>\n",
       "      <td>0.116552</td>\n",
       "      <td>Luxury Goods</td>\n",
       "      <td>0.097586</td>\n",
       "      <td>Jewellery &amp; Watches</td>\n",
       "      <td>0.077586</td>\n",
       "      <td>Gaming</td>\n",
       "      <td>0.073793</td>\n",
       "      <td>Business &amp; Careers</td>\n",
       "      <td>0.063103</td>\n",
       "    </tr>\n",
       "    <tr>\n",
       "      <th>1</th>\n",
       "      <td>Instagram</td>\n",
       "      <td>konstantinbaum_mw</td>\n",
       "      <td>Master of Wine🍷</td>\n",
       "      <td>Germany</td>\n",
       "      <td>NaN</td>\n",
       "      <td>NaN</td>\n",
       "      <td>Male</td>\n",
       "      <td>19722</td>\n",
       "      <td>6032</td>\n",
       "      <td>760</td>\n",
       "      <td>...</td>\n",
       "      <td>Beauty &amp; Cosmetics</td>\n",
       "      <td>0.133186</td>\n",
       "      <td>Home Decor, Furniture &amp; Garden</td>\n",
       "      <td>0.126706</td>\n",
       "      <td>Business &amp; Careers</td>\n",
       "      <td>0.099545</td>\n",
       "      <td>Jewellery &amp; Watches</td>\n",
       "      <td>0.079967</td>\n",
       "      <td>Activewear</td>\n",
       "      <td>0.049635</td>\n",
       "    </tr>\n",
       "    <tr>\n",
       "      <th>2</th>\n",
       "      <td>Instagram</td>\n",
       "      <td>eduardo.madeira8</td>\n",
       "      <td>Eduardo Madeira</td>\n",
       "      <td>Portugal</td>\n",
       "      <td>NaN</td>\n",
       "      <td>25-02-1972</td>\n",
       "      <td>Male</td>\n",
       "      <td>420384</td>\n",
       "      <td>1001</td>\n",
       "      <td>3719</td>\n",
       "      <td>...</td>\n",
       "      <td>Home Decor, Furniture &amp; Garden</td>\n",
       "      <td>0.080943</td>\n",
       "      <td>Shopping &amp; Retail</td>\n",
       "      <td>0.073258</td>\n",
       "      <td>Gaming</td>\n",
       "      <td>0.064037</td>\n",
       "      <td>Luxury Goods</td>\n",
       "      <td>0.052254</td>\n",
       "      <td>Jewellery &amp; Watches</td>\n",
       "      <td>0.049693</td>\n",
       "    </tr>\n",
       "    <tr>\n",
       "      <th>3</th>\n",
       "      <td>Instagram</td>\n",
       "      <td>nunomarkl</td>\n",
       "      <td>Nuno Markl</td>\n",
       "      <td>Portugal</td>\n",
       "      <td>Lisboa</td>\n",
       "      <td>21-07-1971</td>\n",
       "      <td>Male</td>\n",
       "      <td>799478</td>\n",
       "      <td>2353</td>\n",
       "      <td>11490</td>\n",
       "      <td>...</td>\n",
       "      <td>Activewear</td>\n",
       "      <td>0.079090</td>\n",
       "      <td>Shopping &amp; Retail</td>\n",
       "      <td>0.076619</td>\n",
       "      <td>Luxury Goods</td>\n",
       "      <td>0.061295</td>\n",
       "      <td>Gaming</td>\n",
       "      <td>0.059812</td>\n",
       "      <td>Jewellery &amp; Watches</td>\n",
       "      <td>0.059318</td>\n",
       "    </tr>\n",
       "    <tr>\n",
       "      <th>4</th>\n",
       "      <td>Instagram</td>\n",
       "      <td>paulmccartney</td>\n",
       "      <td>Paul McCartney</td>\n",
       "      <td>NaN</td>\n",
       "      <td>NaN</td>\n",
       "      <td>NaN</td>\n",
       "      <td>Male</td>\n",
       "      <td>3626855</td>\n",
       "      <td>21</td>\n",
       "      <td>807</td>\n",
       "      <td>...</td>\n",
       "      <td>Shopping &amp; Retail</td>\n",
       "      <td>0.097368</td>\n",
       "      <td>Activewear</td>\n",
       "      <td>0.080756</td>\n",
       "      <td>Luxury Goods</td>\n",
       "      <td>0.068490</td>\n",
       "      <td>Jewellery &amp; Watches</td>\n",
       "      <td>0.066190</td>\n",
       "      <td>Home Decor, Furniture &amp; Garden</td>\n",
       "      <td>0.062356</td>\n",
       "    </tr>\n",
       "  </tbody>\n",
       "</table>\n",
       "<p>5 rows × 215 columns</p>\n",
       "</div>"
      ],
      "text/plain": [
       "  Social network           Username             Name        Country  \\\n",
       "0      Instagram              usher            Usher  United States   \n",
       "1      Instagram  konstantinbaum_mw  Master of Wine🍷        Germany   \n",
       "2      Instagram   eduardo.madeira8  Eduardo Madeira       Portugal   \n",
       "3      Instagram          nunomarkl       Nuno Markl       Portugal   \n",
       "4      Instagram      paulmccartney   Paul McCartney            NaN   \n",
       "\n",
       "          City   Birthdate Gender  Followers  Following  Posts  ...  \\\n",
       "0  Los Angeles         NaN    NaN    9350055       1066    468  ...   \n",
       "1          NaN         NaN   Male      19722       6032    760  ...   \n",
       "2          NaN  25-02-1972   Male     420384       1001   3719  ...   \n",
       "3       Lisboa  21-07-1971   Male     799478       2353  11490  ...   \n",
       "4          NaN         NaN   Male    3626855         21    807  ...   \n",
       "\n",
       "      Audience report interest 21  Audience report interest 21 %  \\\n",
       "0               Shopping & Retail                       0.116552   \n",
       "1              Beauty & Cosmetics                       0.133186   \n",
       "2  Home Decor, Furniture & Garden                       0.080943   \n",
       "3                      Activewear                       0.079090   \n",
       "4               Shopping & Retail                       0.097368   \n",
       "\n",
       "      Audience report interest 22  Audience report interest 22 %  \\\n",
       "0                    Luxury Goods                       0.097586   \n",
       "1  Home Decor, Furniture & Garden                       0.126706   \n",
       "2               Shopping & Retail                       0.073258   \n",
       "3               Shopping & Retail                       0.076619   \n",
       "4                      Activewear                       0.080756   \n",
       "\n",
       "   Audience report interest 23  Audience report interest 23 %  \\\n",
       "0          Jewellery & Watches                       0.077586   \n",
       "1           Business & Careers                       0.099545   \n",
       "2                       Gaming                       0.064037   \n",
       "3                 Luxury Goods                       0.061295   \n",
       "4                 Luxury Goods                       0.068490   \n",
       "\n",
       "   Audience report interest 24  Audience report interest 24 %  \\\n",
       "0                       Gaming                       0.073793   \n",
       "1          Jewellery & Watches                       0.079967   \n",
       "2                 Luxury Goods                       0.052254   \n",
       "3                       Gaming                       0.059812   \n",
       "4          Jewellery & Watches                       0.066190   \n",
       "\n",
       "      Audience report interest 25  Audience report interest 25 %  \n",
       "0              Business & Careers                       0.063103  \n",
       "1                      Activewear                       0.049635  \n",
       "2             Jewellery & Watches                       0.049693  \n",
       "3             Jewellery & Watches                       0.059318  \n",
       "4  Home Decor, Furniture & Garden                       0.062356  \n",
       "\n",
       "[5 rows x 215 columns]"
      ]
     },
     "execution_count": 23,
     "metadata": {},
     "output_type": "execute_result"
    }
   ],
   "source": [
    "df = pd.read_csv(f'{PATH}/{TABLE}', sep=SEPARATOR, low_memory=False)\n",
    "valid_data = df[df['Audience credibility'].apply(convert) >= 0.5]\n",
    "valid_data.head()"
   ]
  },
  {
   "cell_type": "code",
   "execution_count": 29,
   "metadata": {},
   "outputs": [],
   "source": [
    "# df[df['Username'].isin(['nunomarkl', 'sousacines'])].iloc[:, 31:]"
   ]
  },
  {
   "cell_type": "code",
   "execution_count": null,
   "metadata": {},
   "outputs": [],
   "source": []
  },
  {
   "cell_type": "code",
   "execution_count": null,
   "metadata": {},
   "outputs": [],
   "source": []
  },
  {
   "cell_type": "code",
   "execution_count": null,
   "metadata": {},
   "outputs": [],
   "source": []
  },
  {
   "cell_type": "code",
   "execution_count": null,
   "metadata": {},
   "outputs": [],
   "source": []
  },
  {
   "cell_type": "code",
   "execution_count": null,
   "metadata": {},
   "outputs": [],
   "source": []
  },
  {
   "cell_type": "code",
   "execution_count": 5,
   "metadata": {},
   "outputs": [],
   "source": [
    "top_25_profile_interests = valid_data.iloc[:, 31:56]  # INCLUDE (list of items per user)\n",
    "top_25_audience_report = valid_data.iloc[:, 165:]  # INCLUDE (tuples w/ percentages)\n",
    "age_distribution = valid_data.iloc[:, 157:163]  # INCLUDE (list of percentages)"
   ]
  },
  {
   "cell_type": "code",
   "execution_count": 6,
   "metadata": {},
   "outputs": [],
   "source": [
    "audience_metrics_confidence = valid_data.iloc[:, 56]  # EXCLUDE\n",
    "top_25_countries = valid_data.iloc[:, 57:107]  # EXCLUDE\n",
    "top_25_cities = valid_data.iloc[:, 108:157]  # EXCLUDE\n",
    "sex_distribution = valid_data.iloc[:, 163:165]  # EXCLUDE"
   ]
  },
  {
   "cell_type": "markdown",
   "metadata": {},
   "source": [
    "##### RULE: Audience Confidence must be greater than 0.5\n",
    "Why? The behavior of the confidence distribution is \"when you know, you know\"... so >0.5 is \"knowing\""
   ]
  },
  {
   "cell_type": "code",
   "execution_count": 7,
   "metadata": {},
   "outputs": [
    {
     "data": {
      "text/plain": [
       "<AxesSubplot:>"
      ]
     },
     "execution_count": 7,
     "metadata": {},
     "output_type": "execute_result"
    },
    {
     "data": {
      "image/png": "[encoded data removed]",
      "text/plain": [
       "<Figure size 432x288 with 1 Axes>"
      ]
     },
     "metadata": {
      "needs_background": "light"
     },
     "output_type": "display_data"
    }
   ],
   "source": [
    "audience_metrics_confidence.apply(convert).hist(bins=100)"
   ]
  },
  {
   "cell_type": "markdown",
   "metadata": {},
   "source": [
    "##### Rule: Audience inclusion only happens when `%` exceeds the expected rate (overall ~0.19)\n",
    "\n",
    "Why? Most audiences are uncertain / fuzzy... so just include the \"more confident than most\" audiences"
   ]
  },
  {
   "cell_type": "code",
   "execution_count": 8,
   "metadata": {},
   "outputs": [
    {
     "data": {
      "text/plain": [
       "<AxesSubplot:>"
      ]
     },
     "execution_count": 8,
     "metadata": {},
     "output_type": "execute_result"
    },
    {
     "data": {
      "image/png": "[encoded data removed]",
      "text/plain": [
       "<Figure size 432x288 with 1 Axes>"
      ]
     },
     "metadata": {
      "needs_background": "light"
     },
     "output_type": "display_data"
    }
   ],
   "source": [
    "x = top_25_audience_report[[i for i in top_25_audience_report if i[-1] == '%']]\n",
    "x.unstack().reset_index()[0].hist(bins=100)"
   ]
  },
  {
   "cell_type": "markdown",
   "metadata": {},
   "source": [
    "##### Rule: Country inclusion only happens when `%` greater than 0.5\n",
    "Why? The log distribution is bimodal... there are \"low confidence\" and \"high confidence\" countries"
   ]
  },
  {
   "cell_type": "code",
   "execution_count": 9,
   "metadata": {},
   "outputs": [
    {
     "data": {
      "text/plain": [
       "<AxesSubplot:>"
      ]
     },
     "execution_count": 9,
     "metadata": {},
     "output_type": "execute_result"
    },
    {
     "data": {
      "image/png": "[encoded data removed]",
      "text/plain": [
       "<Figure size 432x288 with 1 Axes>"
      ]
     },
     "metadata": {
      "needs_background": "light"
     },
     "output_type": "display_data"
    }
   ],
   "source": [
    "x = top_25_countries[[i for i in top_25_countries if i[-1] == '%']]\n",
    "x.unstack().reset_index()[0].apply(convert).hist(bins=100)"
   ]
  },
  {
   "cell_type": "markdown",
   "metadata": {},
   "source": [
    "##### Rule: Do not include cities... much too noisy\n",
    "Why? The log distribution is very skewed and the confidence is very low in each observation"
   ]
  },
  {
   "cell_type": "code",
   "execution_count": 10,
   "metadata": {},
   "outputs": [
    {
     "data": {
      "text/plain": [
       "<AxesSubplot:>"
      ]
     },
     "execution_count": 10,
     "metadata": {},
     "output_type": "execute_result"
    },
    {
     "data": {
      "image/png": "[encoded data removed]",
      "text/plain": [
       "<Figure size 432x288 with 1 Axes>"
      ]
     },
     "metadata": {
      "needs_background": "light"
     },
     "output_type": "display_data"
    }
   ],
   "source": [
    "x = top_25_cities[[i for i in top_25_cities if i[-1] == '%']]\n",
    "x.unstack().reset_index()[0].apply(convert).hist(bins=100)"
   ]
  },
  {
   "cell_type": "markdown",
   "metadata": {},
   "source": [
    "##### Rule: Include profile interests\n",
    "Why? They are balanced and plentiful... why not?"
   ]
  },
  {
   "cell_type": "code",
   "execution_count": 11,
   "metadata": {},
   "outputs": [
    {
     "data": {
      "text/plain": [
       "Fashion                            380\n",
       "Travel, Tourism & Aviation         304\n",
       "Beauty & Cosmetics                 297\n",
       "Fitness                            289\n",
       "Restaurants, Food & Grocery        287\n",
       "Camera & Photography               266\n",
       "Friends, Family & Relationships    240\n",
       "Healthy Lifestyle                  230\n",
       "Toys, Children & Baby              184\n",
       "Music                              181\n",
       "Electronics & Computers            167\n",
       "Beer, Wine & Spirits               162\n",
       "Television & Film                  155\n",
       "Art & Design                       154\n",
       "Activewear                         150\n",
       "Sports                             149\n",
       "Luxury Goods                       124\n",
       "Pets                               124\n",
       "Coffee, Tea & Beverages            120\n",
       "Cars & Motorbikes                  107\n",
       "Shopping & Retail                   92\n",
       "Home Decor, Furniture & Garden      86\n",
       "Jewellery & Watches                 79\n",
       "Wedding                             72\n",
       "Lifestyle                           54\n",
       "Business & Careers                  50\n",
       "Healthcare & Medicine               48\n",
       "Gaming                              22\n",
       "Tobacco & Smoking                    5\n",
       "Name: 0, dtype: int64"
      ]
     },
     "execution_count": 11,
     "metadata": {},
     "output_type": "execute_result"
    }
   ],
   "source": [
    "top_25_profile_interests.unstack().reset_index()[0].value_counts()"
   ]
  },
  {
   "cell_type": "markdown",
   "metadata": {},
   "source": [
    "##### Rule: Age inclusion only happens when `%` exceeds the expected rate (overall ~0.17)\n",
    "\n",
    "Why? Most audiences are uncertain / fuzzy... so just include the \"more confident than most\" audiences"
   ]
  },
  {
   "cell_type": "code",
   "execution_count": 12,
   "metadata": {},
   "outputs": [
    {
     "data": {
      "text/plain": [
       "<AxesSubplot:>"
      ]
     },
     "execution_count": 12,
     "metadata": {},
     "output_type": "execute_result"
    },
    {
     "data": {
      "image/png": "[encoded data removed]",
      "text/plain": [
       "<Figure size 432x288 with 1 Axes>"
      ]
     },
     "metadata": {
      "needs_background": "light"
     },
     "output_type": "display_data"
    }
   ],
   "source": [
    "age_distribution[age_distribution>0].unstack().reset_index()[0].apply(convert).hist(bins=100)"
   ]
  },
  {
   "cell_type": "markdown",
   "metadata": {},
   "source": [
    "##### Rule: Sex inclusion only happens when `%` exceeds the expected rate + 1 SD (>0.75)\n",
    "\n",
    "Why? Most audiences are uncertain / fuzzy... so just include the \"more confident than most\" audiences"
   ]
  },
  {
   "cell_type": "code",
   "execution_count": 13,
   "metadata": {},
   "outputs": [
    {
     "data": {
      "text/plain": [
       "count    1228.000000\n",
       "mean        0.500000\n",
       "std         0.262539\n",
       "min         0.022339\n",
       "25%         0.278292\n",
       "50%         0.500000\n",
       "75%         0.721708\n",
       "max         0.977661\n",
       "Name: 0, dtype: float64"
      ]
     },
     "execution_count": 13,
     "metadata": {},
     "output_type": "execute_result"
    }
   ],
   "source": [
    "sex_distribution[sex_distribution>0].unstack().reset_index()[0].apply(convert).describe()"
   ]
  },
  {
   "cell_type": "markdown",
   "metadata": {},
   "source": [
    "#### ETL on the original data to build GNN\n",
    "- top_25_profile_interests  # INCLUDE (list of items per user)\n",
    "- top_25_audience_report  # INCLUDE (tuples w/ percentages)\n",
    "- age_distribution  # INCLUDE (list of percentages)"
   ]
  },
  {
   "cell_type": "code",
   "execution_count": 14,
   "metadata": {},
   "outputs": [],
   "source": [
    "x = top_25_profile_interests.unstack()\n",
    "x = x[x.notnull()].reset_index().drop('level_0', axis=1)\n",
    "x.columns = ['user_id', 'interest_category']\n",
    "x.to_csv(f'{PATH}/interest_categories.csv', index=None)"
   ]
  },
  {
   "cell_type": "code",
   "execution_count": 15,
   "metadata": {},
   "outputs": [],
   "source": [
    "x1 = top_25_audience_report[[i for i in top_25_audience_report if i[-1] == '%']]\n",
    "x2 = top_25_audience_report[[i for i in top_25_audience_report if i[-1] != '%']]\n",
    "\n",
    "filter_audiences = x1 >= 0.19\n",
    "filter_audiences.columns = [i[:-2] for i in filter_audiences.columns]\n",
    "\n",
    "x3 = x2[filter_audiences].unstack()\n",
    "x3 = x3[x3.notnull()].reset_index().drop('level_0', axis=1)\n",
    "x3.columns = ['user_id', 'audience_category']\n",
    "x3.to_csv(f'{PATH}/audience_categories.csv', index=None)\n"
   ]
  },
  {
   "cell_type": "code",
   "execution_count": 16,
   "metadata": {},
   "outputs": [],
   "source": [
    "filter_ages = age_distribution >= 0.17\n",
    "x = age_distribution[filter_ages]\n",
    "x.columns = [i[:-2] for i in x.columns]\n",
    "x = x.unstack()\n",
    "x = x[x.notnull()].reset_index().drop(0, axis=1)\n",
    "x.columns = ['age_category', 'user_id']\n",
    "x.to_csv(f'{PATH}/age_categories.csv', index=None)"
   ]
  },
  {
   "cell_type": "code",
   "execution_count": null,
   "metadata": {},
   "outputs": [],
   "source": []
  },
  {
   "cell_type": "code",
   "execution_count": null,
   "metadata": {},
   "outputs": [],
   "source": []
  }
 ],
 "metadata": {
  "interpreter": {
   "hash": "dc1c109d971e6094e4dad817a8d99987c2621cc6ff057580865fa06ac8b2a571"
  },
  "kernelspec": {
   "display_name": "Python 3.9.7 ('pytorch_m1')",
   "language": "python",
   "name": "python3"
  },
  "language_info": {
   "codemirror_mode": {
    "name": "ipython",
    "version": 3
   },
   "file_extension": ".py",
   "mimetype": "text/x-python",
   "name": "python",
   "nbconvert_exporter": "python",
   "pygments_lexer": "ipython3",
   "version": "3.9.7"
  },
  "orig_nbformat": 4
 },
 "nbformat": 4,
 "nbformat_minor": 2
}
