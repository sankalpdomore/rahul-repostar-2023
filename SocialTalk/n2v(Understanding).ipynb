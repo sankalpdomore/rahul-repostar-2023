{
 "cells": [
  {
   "cell_type": "code",
   "execution_count": 1,
   "id": "6e08cf61-0b2f-4e0a-ae95-b9c8ff961022",
   "metadata": {},
   "outputs": [],
   "source": [
    "import umap\n",
    "import numpy as np\n",
    "import pandas as pd\n",
    "\n",
    "import networkx as nx\n",
    "from gensim.models import KeyedVectors\n",
    "from nodevectors import Node2Vec, GGVec\n",
    "\n",
    "import plotly.express as px"
   ]
  },
  {
   "cell_type": "code",
   "execution_count": 2,
   "id": "df4dd320-4203-40fa-aaf4-d4768e82af15",
   "metadata": {},
   "outputs": [],
   "source": [
    "## Loding the data from various sources"
   ]
  },
  {
   "cell_type": "code",
   "execution_count": 3,
   "id": "352eace6-2ba4-4d76-863a-34f7e3f85964",
   "metadata": {},
   "outputs": [],
   "source": [
    "brand_ids = pd.read_csv('./SocialTalk/Clean/brand_ids.csv', low_memory=False)\n",
    "account_brands = pd.read_csv('./SocialTalk/Clean/accounts-brands.csv', low_memory=False)\n",
    "\n",
    "interest_ids = pd.read_csv('./SocialTalk/Clean/interest_ids.csv', low_memory=False)\n",
    "account_interests = pd.read_csv('./SocialTalk/Clean/accounts-interests.csv', low_memory=False)\n",
    "\n",
    "city_ids = pd.read_csv('./SocialTalk/Clean/city_ids.csv', low_memory=False)\n",
    "country_ids = pd.read_csv('./SocialTalk/Clean/country_ids.csv', low_memory=False)\n",
    "\n",
    "users = pd.read_csv('./SocialTalk/Clean/users.csv', low_memory=False)"
   ]
  },
  {
   "cell_type": "code",
   "execution_count": 4,
   "id": "ac5c1da5-200a-47d0-afb2-07637ff15b17",
   "metadata": {},
   "outputs": [],
   "source": [
    "## adding a label or brand <column name>:value"
   ]
  },
  {
   "cell_type": "code",
   "execution_count": 5,
   "id": "4c7f1f03-dc02-4f7c-83ad-b3f5bb93a429",
   "metadata": {},
   "outputs": [],
   "source": [
    "brand_ids['label'] = brand_ids['Name'].apply(lambda x: f'Brand:{x}')\n",
    "account_brands['Account Id'] = account_brands['Account Id'].apply(lambda x: f'Account:{x}')\n",
    "account_brands['Brand Id'] = account_brands['Brand Id'].map(brand_ids.set_index('Id')['label'].to_dict())\n",
    "\n",
    "interest_ids['label'] = interest_ids['Name'].apply(lambda x: f'Interest:{x}')\n",
    "account_interests['Account Id'] = account_interests['Account Id'].apply(lambda x: f'Account:{x}')\n",
    "account_interests['Interest Id'] = account_interests['Interest Id'].map(interest_ids.set_index('Id')['label'].to_dict())\n",
    "\n",
    "# city_ids['label'] = city_ids['Name'].apply(lambda x: f'City:{x}')\n",
    "# country_ids['label'] = country_ids['Name'].apply(lambda x: f'Country:{x}')\n",
    "\n",
    "users['label'] = users['Id'].apply(lambda x: f'Account:{x}')"
   ]
  },
  {
   "cell_type": "code",
   "execution_count": 6,
   "id": "a72588ea-4e50-41aa-ac3c-d1c271bf9a8d",
   "metadata": {},
   "outputs": [],
   "source": [
    "## converting zero values to 0.1 and taking log scale"
   ]
  },
  {
   "cell_type": "code",
   "execution_count": 7,
   "id": "a9fbd191-0a1c-4773-b85e-b86e1e876a3a",
   "metadata": {},
   "outputs": [],
   "source": [
    "numeric_data = users.iloc[:, 4:29]\n",
    "\n",
    "take_the_log = [\n",
    "    'Followers', 'Following', 'Posts', \n",
    "    'Engagement', 'Estimated reach', 'Estimated impressions', \n",
    "    'Avg. likes per post', 'Avg. engagement per post',\n",
    "    'Avg. comments per post', 'Avg. views per video',\n",
    "    'Cost per story (MIN)', 'Cost per story (MAX)'\n",
    "    ]\n",
    "for column in take_the_log:\n",
    "    numeric_data[column] = numeric_data[column].apply(lambda x: 0.1 if (x == 0) else x)\n",
    "    numeric_data[column] = numeric_data[column].apply(np.log)"
   ]
  },
  {
   "cell_type": "code",
   "execution_count": 8,
   "id": "1c2775e9-57a2-48a6-971c-29ae79d619e5",
   "metadata": {},
   "outputs": [],
   "source": [
    "## converted all the values into 3 bins and assigned label as low, average & high"
   ]
  },
  {
   "cell_type": "code",
   "execution_count": 9,
   "id": "91dcdb08-c788-4c2e-86cd-a89b56e5822d",
   "metadata": {},
   "outputs": [],
   "source": [
    "numeric_as_categorical = numeric_data.apply(lambda x: pd.cut(x, 3, labels=[\"low\", \"average\", \"high\"], duplicates='drop'))"
   ]
  },
  {
   "cell_type": "code",
   "execution_count": 10,
   "id": "dd6352c4-acd7-4cd0-9ea7-6cc880e18b58",
   "metadata": {},
   "outputs": [],
   "source": [
    "## adding names for catagorical values by mapping it their code"
   ]
  },
  {
   "cell_type": "code",
   "execution_count": 11,
   "id": "6c4d62d0-01a8-4f5d-b562-8107874ca46b",
   "metadata": {},
   "outputs": [],
   "source": [
    "clean_df = users.iloc[:, :4]\n",
    "# clean_df = pd.concat([users.iloc[:, :4], numeric_as_categorical], axis=1)\n",
    "clean_df['Id'] = clean_df['Id'].apply(lambda x: f'Account:{x}')\n",
    "clean_df = clean_df.rename(columns={'Country id': 'Country', 'City id': 'City'}).set_index('Id')\n",
    "\n",
    "clean_df['City'] = clean_df['City'].map(city_ids.set_index('Id')['Name'].to_dict())\n",
    "clean_df['Country'] = clean_df['Country'].map(country_ids.set_index('Id')['Name'].to_dict())"
   ]
  },
  {
   "cell_type": "code",
   "execution_count": 12,
   "id": "888f9165-bd68-4c4e-8a6d-9ddcf885f494",
   "metadata": {},
   "outputs": [],
   "source": [
    "## creating edges from users data"
   ]
  },
  {
   "cell_type": "code",
   "execution_count": 13,
   "id": "6ddea326-7da4-415d-bb94-00b6cd44d1ff",
   "metadata": {},
   "outputs": [],
   "source": [
    "edges = []\n",
    "for column in clean_df.columns:\n",
    "    series_tuples = [\n",
    "        (account, f'{column}:{value}') for account, value in clean_df[column].items()\n",
    "        ]\n",
    "    edges.extend(series_tuples)"
   ]
  },
  {
   "cell_type": "code",
   "execution_count": 14,
   "id": "5dec85be-fa0a-408f-9096-51b1cd435fa4",
   "metadata": {},
   "outputs": [],
   "source": [
    "## creating edges from country to city"
   ]
  },
  {
   "cell_type": "code",
   "execution_count": 15,
   "id": "04f22abf-fc3b-48ec-9795-16650f05cf46",
   "metadata": {},
   "outputs": [],
   "source": [
    "location_hierarchy = [\n",
    "    (f'Country:{country}', f'City:{city}') for country, city in clean_df[['Country', 'City']].values\n",
    "    if (not country.endswith('UNKNOWN') and not city.endswith('UNKNOWN'))\n",
    "]\n",
    "edges.extend(location_hierarchy)"
   ]
  },
  {
   "cell_type": "code",
   "execution_count": 16,
   "id": "d8862b54-6322-466b-b087-5f757349be5a",
   "metadata": {},
   "outputs": [],
   "source": [
    "## creating edges from brands data"
   ]
  },
  {
   "cell_type": "code",
   "execution_count": 17,
   "id": "13195658-ba9f-4df9-bee1-69c37deff584",
   "metadata": {},
   "outputs": [],
   "source": [
    "edges += [i for i in account_brands.set_index('Account Id')['Brand Id'].items()]"
   ]
  },
  {
   "cell_type": "code",
   "execution_count": 18,
   "id": "44b3ddf4-031d-490a-a7f4-ecf6bb277a59",
   "metadata": {},
   "outputs": [],
   "source": [
    "## creating edges from Interests"
   ]
  },
  {
   "cell_type": "code",
   "execution_count": 19,
   "id": "4736f747-7ef2-4bfd-a56e-9a358165f9ba",
   "metadata": {},
   "outputs": [],
   "source": [
    "edges += [i for i in account_interests.set_index('Account Id')['Interest Id'].items()]"
   ]
  },
  {
   "cell_type": "code",
   "execution_count": 20,
   "id": "9ca0c005-5b4b-4f46-a01c-984a9abad08c",
   "metadata": {},
   "outputs": [],
   "source": [
    "## Adding edges from account"
   ]
  },
  {
   "cell_type": "code",
   "execution_count": 21,
   "id": "e9c6821e-1019-425e-9d63-22d6eb3afcbe",
   "metadata": {},
   "outputs": [],
   "source": [
    "temp = users.set_index('label').iloc[:, 29:-2]\n",
    "for column in temp:\n",
    "    series_tuples = [\n",
    "        (account, f'{column}:True') for account, value in temp[column].items()\n",
    "        ]\n",
    "    edges.extend(series_tuples)"
   ]
  },
  {
   "cell_type": "code",
   "execution_count": 22,
   "id": "f35b3cda-2ea9-4d1e-835e-3b7fe5d08ef4",
   "metadata": {},
   "outputs": [],
   "source": [
    "## removing all the edges that have value as low (numerical columns)"
   ]
  },
  {
   "cell_type": "code",
   "execution_count": 23,
   "id": "bc27f36a-d13a-43c7-a455-c1af22da3bb3",
   "metadata": {},
   "outputs": [
    {
     "data": {
      "text/plain": [
       "454023"
      ]
     },
     "execution_count": 23,
     "metadata": {},
     "output_type": "execute_result"
    }
   ],
   "source": [
    "e2 = [i for i in edges if not i[1].endswith('low')]\n",
    "len(e2)"
   ]
  },
  {
   "cell_type": "markdown",
   "id": "3d4fa32b-d4db-4eb5-b60e-001b88d33e5f",
   "metadata": {},
   "source": [
    "### Generate node embeddings"
   ]
  },
  {
   "cell_type": "code",
   "execution_count": 24,
   "id": "505f85d1-823c-4a54-9e02-e0edc83fc3fc",
   "metadata": {},
   "outputs": [],
   "source": [
    "G = nx.from_pandas_edgelist(pd.DataFrame(e2, columns=['source', 'target']))"
   ]
  },
  {
   "cell_type": "code",
   "execution_count": null,
   "id": "b638a409-40cf-4c76-85c7-0c6229eaa649",
   "metadata": {},
   "outputs": [
    {
     "name": "stdout",
     "output_type": "stream",
     "text": [
      "Making walks... "
     ]
    }
   ],
   "source": [
    "g2v = Node2Vec()\n",
    "n2v_embeddings = g2v.fit(G)\n",
    "\n",
    "# Save model to gensim.KeyedVector format\n",
    "g2v.save_vectors(\"wheel_model.bin\")\n",
    "\n",
    "# # load in gensim\n",
    "# model = KeyedVectors.load_word2vec_format(\"wheel_model.bin\")"
   ]
  },
  {
   "cell_type": "code",
   "execution_count": 1,
   "id": "22224663-631f-457d-bd9f-b3a13145ae3c",
   "metadata": {},
   "outputs": [],
   "source": [
    "## word:embedding  stored in key value pair"
   ]
  },
  {
   "cell_type": "code",
   "execution_count": 1,
   "id": "89043e9e-1241-43da-b6c2-418b639e5761",
   "metadata": {},
   "outputs": [
    {
     "ename": "NameError",
     "evalue": "name 'g2v' is not defined",
     "output_type": "error",
     "traceback": [
      "\u001b[0;31m---------------------------------------------------------------------------\u001b[0m",
      "\u001b[0;31mNameError\u001b[0m                                 Traceback (most recent call last)",
      "\u001b[0;32m/var/tmp/ipykernel_24237/3552584122.py\u001b[0m in \u001b[0;36m<module>\u001b[0;34m\u001b[0m\n\u001b[0;32m----> 1\u001b[0;31m \u001b[0mwords\u001b[0m \u001b[0;34m=\u001b[0m \u001b[0mlist\u001b[0m\u001b[0;34m(\u001b[0m\u001b[0mg2v\u001b[0m\u001b[0;34m.\u001b[0m\u001b[0mmodel\u001b[0m\u001b[0;34m.\u001b[0m\u001b[0mwv\u001b[0m\u001b[0;34m.\u001b[0m\u001b[0mvocab\u001b[0m\u001b[0;34m)\u001b[0m\u001b[0;34m\u001b[0m\u001b[0;34m\u001b[0m\u001b[0m\n\u001b[0m\u001b[1;32m      2\u001b[0m \u001b[0mg2v_embeds\u001b[0m \u001b[0;34m=\u001b[0m \u001b[0mpd\u001b[0m\u001b[0;34m.\u001b[0m\u001b[0mDataFrame\u001b[0m\u001b[0;34m(\u001b[0m\u001b[0;34m[\u001b[0m\u001b[0mg2v\u001b[0m\u001b[0;34m.\u001b[0m\u001b[0mmodel\u001b[0m\u001b[0;34m.\u001b[0m\u001b[0mwv\u001b[0m\u001b[0;34m[\u001b[0m\u001b[0mi\u001b[0m\u001b[0;34m]\u001b[0m \u001b[0;32mfor\u001b[0m \u001b[0mi\u001b[0m \u001b[0;32min\u001b[0m \u001b[0mwords\u001b[0m\u001b[0;34m]\u001b[0m\u001b[0;34m,\u001b[0m \u001b[0mindex\u001b[0m\u001b[0;34m=\u001b[0m\u001b[0mwords\u001b[0m\u001b[0;34m)\u001b[0m\u001b[0;34m\u001b[0m\u001b[0;34m\u001b[0m\u001b[0m\n",
      "\u001b[0;31mNameError\u001b[0m: name 'g2v' is not defined"
     ]
    }
   ],
   "source": [
    "words = list(g2v.model.wv.vocab)\n",
    "g2v_embeds = pd.DataFrame([g2v.model.wv[i] for i in words], index=words)"
   ]
  },
  {
   "cell_type": "code",
   "execution_count": null,
   "id": "e23ee6de-a8a7-4766-8f49-a61165a3a187",
   "metadata": {},
   "outputs": [],
   "source": []
  }
 ],
 "metadata": {
  "kernelspec": {
   "display_name": "Python 3",
   "language": "python",
   "name": "python3"
  },
  "language_info": {
   "codemirror_mode": {
    "name": "ipython",
    "version": 3
   },
   "file_extension": ".py",
   "mimetype": "text/x-python",
   "name": "python",
   "nbconvert_exporter": "python",
   "pygments_lexer": "ipython3",
   "version": "3.7.12"
  }
 },
 "nbformat": 4,
 "nbformat_minor": 5
}
