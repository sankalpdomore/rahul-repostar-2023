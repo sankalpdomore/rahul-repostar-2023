{
 "cells": [
  {
   "cell_type": "code",
   "execution_count": 3,
   "id": "205b6e9e-1ef7-4a2f-b4fd-3736e4832313",
   "metadata": {
    "tags": []
   },
   "outputs": [],
   "source": [
    "import pandas as pd\n",
    "import numpy as np"
   ]
  },
  {
   "cell_type": "markdown",
   "id": "a5a11068-6b99-4486-a1d8-239d16497e3c",
   "metadata": {
    "tags": []
   },
   "source": [
    "## User Data"
   ]
  },
  {
   "cell_type": "code",
   "execution_count": 4,
   "id": "95148e83-acd1-4e0b-b756-93fffed3407d",
   "metadata": {},
   "outputs": [],
   "source": [
    "#def user_graph():\n",
    "users  = pd.read_csv('./clean/accounts.csv', on_bad_lines='skip', low_memory=False, lineterminator='\\n') #We are encoutering some bad lines creating some error so we skip over them\n",
    "cat=[\"Id\",\"Gender\", \"Social network\"]\n",
    "num=['Country id','City id','Followers',\"Engagement\",\"Posts\",\"Estimated reach\",\"Avg. views per video\", \"Avg. comments per post\", \"Avg. likes per post\", \"Avg. posts per week\"]\n",
    "n = users.shape[0]\n",
    "clean_df = users[cat+num][:n]\n",
    "clean_df = clean_df.rename(columns={'City id': 'City','Country id':'Country'})\n",
    "for i in clean_df.columns:\n",
    "    clean_df = clean_df.rename(columns={i: i.replace(\" \",\"_\")})\n",
    "#clean_df = clean_df.set_index(\"Id\")"
   ]
  },
  {
   "cell_type": "code",
   "execution_count": 13,
   "id": "632070dc-e54d-4a9e-9cf1-891461fd26b0",
   "metadata": {},
   "outputs": [],
   "source": [
    "#City-ID mapping\n",
    "city_ids = pd.read_csv('../SocialTalk 2023/cities.csv', low_memory=False) \n",
    "city_ids['Name'] = city_ids['Name'].str.replace(\" \",\"_\")#Replace white space by \"_\"\n",
    "\n",
    "clean_df['City'] = clean_df['City'].map(city_ids.set_index('Id')['Name'].to_dict())"
   ]
  },
  {
   "cell_type": "code",
   "execution_count": 14,
   "id": "cdf9379e-ed99-4808-9cd1-3b922db23aa9",
   "metadata": {},
   "outputs": [],
   "source": [
    "#Country-ID mapping\n",
    "country_ids = pd.read_csv('../SocialTalk 2023/countries.csv', low_memory=False)\n",
    "country_ids['Name'] = country_ids['Name'].str.replace(\" \",\"_\")#Replace white space by \"_\"\n",
    "\n",
    "clean_df['Country'] = clean_df['Country'].map(country_ids.set_index('Id')['Name'].to_dict())"
   ]
  },
  {
   "cell_type": "code",
   "execution_count": 15,
   "id": "b0e80a39-a453-48f2-99c9-b17dd6859a7f",
   "metadata": {},
   "outputs": [],
   "source": [
    "# Removing outlier\n",
    "users.loc[users['Posts'] == 0,'Posts'] = np.nan \n",
    "users.loc[users['Avg. views per video'] == 0,'Avg. views per video'] = np.nan\n",
    "users.loc[users['Estimated reach'] == 0,'Estimated reach'] = np.nan\n",
    "users.loc[users[\"Avg. comments per post\"] == 0 ,\"Avg. comments per post\"] = np.nan\n",
    "users.loc[users[\"Avg. likes per post\"] == 0 ,\"Avg. likes per post\"] = np.nan\n",
    "\n",
    "q_low = users[\"Avg. posts per week\"].quantile(0.01)\n",
    "q_hi  = users[\"Avg. posts per week\"].quantile(0.99)\n",
    "users.loc[(users[\"Avg. posts per week\"] < q_hi) & (users[\"Avg. posts per week\"] > q_low) ,\"Avg. posts per week\"] = np.nan"
   ]
  },
  {
   "cell_type": "markdown",
   "id": "669df8d9-c3c7-482c-b607-71f2b17f6460",
   "metadata": {
    "tags": []
   },
   "source": [
    "## Audience Data"
   ]
  },
  {
   "cell_type": "code",
   "execution_count": 16,
   "id": "7beefecb-7cd3-4ccf-8b84-551512e18e1d",
   "metadata": {},
   "outputs": [],
   "source": [
    "audience_genders = pd.read_csv('./clean/accounts-audience-genders.csv')[:n]\n",
    "for i in audience_genders.columns[1:]:\n",
    "    audience_genders.rename(columns = {i:'Audience-Gender-' + i.replace(' ','_')}, inplace = True)"
   ]
  },
  {
   "cell_type": "code",
   "execution_count": 17,
   "id": "86900287-39cd-42ef-962a-41b99619d087",
   "metadata": {},
   "outputs": [],
   "source": [
    "audience_ages = pd.read_csv('./clean/accounts-audience-ages.csv')\n",
    "audience_ages = audience_ages[:n]\n",
    "for i in audience_ages.columns:\n",
    "    if(i != 'Account Id'):\n",
    "        audience_ages.rename(columns = {i:'Audience-Age-' + i.replace(' ','_')}, inplace = True)"
   ]
  },
  {
   "cell_type": "code",
   "execution_count": 18,
   "id": "a1e911b7-abe4-4998-a323-f42351e25e86",
   "metadata": {},
   "outputs": [],
   "source": [
    "def get_real_audience_data(df,audience_data):\n",
    "\n",
    "    #merging audience gender distribution and accounts data\n",
    "    print(\"Merging\")\n",
    "    df = df.merge(audience_data,how='left' ,left_on='Id',right_on = 'Account Id')\n",
    "    df.drop(['Account Id'], axis=1,inplace=True)\n",
    "    \n",
    "    for audience_data_column in audience_data.columns:\n",
    "        if(audience_data_column != 'Account Id'):\n",
    "            print('Turning '+ audience_data_column + ' into raw numbers')\n",
    "            df[audience_data_column] = df[audience_data_column] * df['Followers'] # Turning into raw numbers\n",
    "            print('Binning')\n",
    "            df[audience_data_column] = pd.qcut(df[audience_data_column], q=[0, .25, .75, 1], labels=['Low', 'Medium', 'High']) #binning \n",
    "    return df"
   ]
  },
  {
   "cell_type": "code",
   "execution_count": 19,
   "id": "ce549987-cb61-4141-9ab2-6656a34e54d8",
   "metadata": {},
   "outputs": [
    {
     "name": "stdout",
     "output_type": "stream",
     "text": [
      "Merging\n",
      "Turning Audience-Gender-MALE_% into raw numbers\n",
      "Binning\n",
      "Turning Audience-Gender-FEMALE_% into raw numbers\n",
      "Binning\n"
     ]
    }
   ],
   "source": [
    "clean_df = get_real_audience_data(clean_df,audience_genders)"
   ]
  },
  {
   "cell_type": "code",
   "execution_count": 20,
   "id": "9b325d04-3307-4e2e-ab63-574a90f0eb6d",
   "metadata": {},
   "outputs": [
    {
     "name": "stdout",
     "output_type": "stream",
     "text": [
      "Merging\n",
      "Turning Audience-Age-13-17_% into raw numbers\n",
      "Binning\n",
      "Turning Audience-Age-18-24_% into raw numbers\n",
      "Binning\n",
      "Turning Audience-Age-25-34_% into raw numbers\n",
      "Binning\n",
      "Turning Audience-Age-35-44_% into raw numbers\n",
      "Binning\n",
      "Turning Audience-Age-45-64_% into raw numbers\n",
      "Binning\n",
      "Turning Audience-Age-65-_% into raw numbers\n",
      "Binning\n"
     ]
    },
    {
     "ename": "ValueError",
     "evalue": "Bin edges must be unique: array([0.00000000e+00, 0.00000000e+00, 1.14154008e+01, 4.41355904e+05]).\nYou can drop duplicate edges by setting the 'duplicates' kwarg",
     "output_type": "error",
     "traceback": [
      "\u001b[0;31m---------------------------------------------------------------------------\u001b[0m",
      "\u001b[0;31mValueError\u001b[0m                                Traceback (most recent call last)",
      "\u001b[0;32m/var/tmp/ipykernel_16403/120453170.py\u001b[0m in \u001b[0;36m<module>\u001b[0;34m\u001b[0m\n\u001b[0;32m----> 1\u001b[0;31m \u001b[0mclean_df\u001b[0m \u001b[0;34m=\u001b[0m \u001b[0mget_real_audience_data\u001b[0m\u001b[0;34m(\u001b[0m\u001b[0mclean_df\u001b[0m\u001b[0;34m,\u001b[0m\u001b[0maudience_ages\u001b[0m\u001b[0;34m)\u001b[0m\u001b[0;34m\u001b[0m\u001b[0;34m\u001b[0m\u001b[0m\n\u001b[0m",
      "\u001b[0;32m/var/tmp/ipykernel_16403/27488159.py\u001b[0m in \u001b[0;36mget_real_audience_data\u001b[0;34m(df, audience_data)\u001b[0m\n\u001b[1;32m     11\u001b[0m             \u001b[0mdf\u001b[0m\u001b[0;34m[\u001b[0m\u001b[0maudience_data_column\u001b[0m\u001b[0;34m]\u001b[0m \u001b[0;34m=\u001b[0m \u001b[0mdf\u001b[0m\u001b[0;34m[\u001b[0m\u001b[0maudience_data_column\u001b[0m\u001b[0;34m]\u001b[0m \u001b[0;34m*\u001b[0m \u001b[0mdf\u001b[0m\u001b[0;34m[\u001b[0m\u001b[0;34m'Followers'\u001b[0m\u001b[0;34m]\u001b[0m \u001b[0;31m# Turning into raw numbers\u001b[0m\u001b[0;34m\u001b[0m\u001b[0;34m\u001b[0m\u001b[0m\n\u001b[1;32m     12\u001b[0m             \u001b[0mprint\u001b[0m\u001b[0;34m(\u001b[0m\u001b[0;34m'Binning'\u001b[0m\u001b[0;34m)\u001b[0m\u001b[0;34m\u001b[0m\u001b[0;34m\u001b[0m\u001b[0m\n\u001b[0;32m---> 13\u001b[0;31m             \u001b[0mdf\u001b[0m\u001b[0;34m[\u001b[0m\u001b[0maudience_data_column\u001b[0m\u001b[0;34m]\u001b[0m \u001b[0;34m=\u001b[0m \u001b[0mpd\u001b[0m\u001b[0;34m.\u001b[0m\u001b[0mqcut\u001b[0m\u001b[0;34m(\u001b[0m\u001b[0mdf\u001b[0m\u001b[0;34m[\u001b[0m\u001b[0maudience_data_column\u001b[0m\u001b[0;34m]\u001b[0m\u001b[0;34m,\u001b[0m \u001b[0mq\u001b[0m\u001b[0;34m=\u001b[0m\u001b[0;34m[\u001b[0m\u001b[0;36m0\u001b[0m\u001b[0;34m,\u001b[0m \u001b[0;36m.25\u001b[0m\u001b[0;34m,\u001b[0m \u001b[0;36m.75\u001b[0m\u001b[0;34m,\u001b[0m \u001b[0;36m1\u001b[0m\u001b[0;34m]\u001b[0m\u001b[0;34m,\u001b[0m \u001b[0mlabels\u001b[0m\u001b[0;34m=\u001b[0m\u001b[0;34m[\u001b[0m\u001b[0;34m'Low'\u001b[0m\u001b[0;34m,\u001b[0m \u001b[0;34m'Medium'\u001b[0m\u001b[0;34m,\u001b[0m \u001b[0;34m'High'\u001b[0m\u001b[0;34m]\u001b[0m\u001b[0;34m)\u001b[0m \u001b[0;31m#binning\u001b[0m\u001b[0;34m\u001b[0m\u001b[0;34m\u001b[0m\u001b[0m\n\u001b[0m\u001b[1;32m     14\u001b[0m     \u001b[0;32mreturn\u001b[0m \u001b[0mdf\u001b[0m\u001b[0;34m\u001b[0m\u001b[0;34m\u001b[0m\u001b[0m\n",
      "\u001b[0;32m/opt/conda/lib/python3.7/site-packages/pandas/core/reshape/tile.py\u001b[0m in \u001b[0;36mqcut\u001b[0;34m(x, q, labels, retbins, precision, duplicates)\u001b[0m\n\u001b[1;32m    377\u001b[0m         \u001b[0minclude_lowest\u001b[0m\u001b[0;34m=\u001b[0m\u001b[0;32mTrue\u001b[0m\u001b[0;34m,\u001b[0m\u001b[0;34m\u001b[0m\u001b[0;34m\u001b[0m\u001b[0m\n\u001b[1;32m    378\u001b[0m         \u001b[0mdtype\u001b[0m\u001b[0;34m=\u001b[0m\u001b[0mdtype\u001b[0m\u001b[0;34m,\u001b[0m\u001b[0;34m\u001b[0m\u001b[0;34m\u001b[0m\u001b[0m\n\u001b[0;32m--> 379\u001b[0;31m         \u001b[0mduplicates\u001b[0m\u001b[0;34m=\u001b[0m\u001b[0mduplicates\u001b[0m\u001b[0;34m,\u001b[0m\u001b[0;34m\u001b[0m\u001b[0;34m\u001b[0m\u001b[0m\n\u001b[0m\u001b[1;32m    380\u001b[0m     )\n\u001b[1;32m    381\u001b[0m \u001b[0;34m\u001b[0m\u001b[0m\n",
      "\u001b[0;32m/opt/conda/lib/python3.7/site-packages/pandas/core/reshape/tile.py\u001b[0m in \u001b[0;36m_bins_to_cuts\u001b[0;34m(x, bins, right, labels, precision, include_lowest, dtype, duplicates, ordered)\u001b[0m\n\u001b[1;32m    412\u001b[0m         \u001b[0;32mif\u001b[0m \u001b[0mduplicates\u001b[0m \u001b[0;34m==\u001b[0m \u001b[0;34m\"raise\"\u001b[0m\u001b[0;34m:\u001b[0m\u001b[0;34m\u001b[0m\u001b[0;34m\u001b[0m\u001b[0m\n\u001b[1;32m    413\u001b[0m             raise ValueError(\n\u001b[0;32m--> 414\u001b[0;31m                 \u001b[0;34mf\"Bin edges must be unique: {repr(bins)}.\\n\"\u001b[0m\u001b[0;34m\u001b[0m\u001b[0;34m\u001b[0m\u001b[0m\n\u001b[0m\u001b[1;32m    415\u001b[0m                 \u001b[0;34mf\"You can drop duplicate edges by setting the 'duplicates' kwarg\"\u001b[0m\u001b[0;34m\u001b[0m\u001b[0;34m\u001b[0m\u001b[0m\n\u001b[1;32m    416\u001b[0m             )\n",
      "\u001b[0;31mValueError\u001b[0m: Bin edges must be unique: array([0.00000000e+00, 0.00000000e+00, 1.14154008e+01, 4.41355904e+05]).\nYou can drop duplicate edges by setting the 'duplicates' kwarg"
     ]
    }
   ],
   "source": [
    "clean_df = get_real_audience_data(clean_df,audience_ages)"
   ]
  },
  {
   "cell_type": "code",
   "execution_count": 21,
   "id": "bf1a666d-7699-4ab3-8da4-eca0e60e9fd5",
   "metadata": {},
   "outputs": [
    {
     "data": {
      "text/html": [
       "<div>\n",
       "<style scoped>\n",
       "    .dataframe tbody tr th:only-of-type {\n",
       "        vertical-align: middle;\n",
       "    }\n",
       "\n",
       "    .dataframe tbody tr th {\n",
       "        vertical-align: top;\n",
       "    }\n",
       "\n",
       "    .dataframe thead th {\n",
       "        text-align: right;\n",
       "    }\n",
       "</style>\n",
       "<table border=\"1\" class=\"dataframe\">\n",
       "  <thead>\n",
       "    <tr style=\"text-align: right;\">\n",
       "      <th></th>\n",
       "      <th>Id</th>\n",
       "      <th>Gender</th>\n",
       "      <th>Social_network</th>\n",
       "      <th>Country</th>\n",
       "      <th>City</th>\n",
       "      <th>Followers</th>\n",
       "      <th>Engagement</th>\n",
       "      <th>Posts</th>\n",
       "      <th>Estimated_reach</th>\n",
       "      <th>Avg._views_per_video</th>\n",
       "      <th>Avg._comments_per_post</th>\n",
       "      <th>Avg._likes_per_post</th>\n",
       "      <th>Avg._posts_per_week</th>\n",
       "      <th>Audience-Gender-MALE_%</th>\n",
       "      <th>Audience-Gender-FEMALE_%</th>\n",
       "    </tr>\n",
       "  </thead>\n",
       "  <tbody>\n",
       "    <tr>\n",
       "      <th>0</th>\n",
       "      <td>151</td>\n",
       "      <td>Male</td>\n",
       "      <td>Instagram</td>\n",
       "      <td>Spain</td>\n",
       "      <td>Lisbon</td>\n",
       "      <td>154.0</td>\n",
       "      <td>0</td>\n",
       "      <td>3</td>\n",
       "      <td>153</td>\n",
       "      <td>0.0</td>\n",
       "      <td>0.0</td>\n",
       "      <td>0.0</td>\n",
       "      <td>1</td>\n",
       "      <td>Low</td>\n",
       "      <td>Low</td>\n",
       "    </tr>\n",
       "    <tr>\n",
       "      <th>1</th>\n",
       "      <td>152</td>\n",
       "      <td>Male</td>\n",
       "      <td>Instagram</td>\n",
       "      <td>United_States</td>\n",
       "      <td>Los_Angeles</td>\n",
       "      <td>22625181.0</td>\n",
       "      <td>39322588</td>\n",
       "      <td>715</td>\n",
       "      <td>1062314</td>\n",
       "      <td>1062313.0</td>\n",
       "      <td>2100.0</td>\n",
       "      <td>434816.0</td>\n",
       "      <td>9</td>\n",
       "      <td>High</td>\n",
       "      <td>High</td>\n",
       "    </tr>\n",
       "    <tr>\n",
       "      <th>2</th>\n",
       "      <td>153</td>\n",
       "      <td>Male</td>\n",
       "      <td>Instagram</td>\n",
       "      <td>Saudi_Arabia</td>\n",
       "      <td>Manchester</td>\n",
       "      <td>550332150.0</td>\n",
       "      <td>1032630249</td>\n",
       "      <td>3443</td>\n",
       "      <td>18275483</td>\n",
       "      <td>18275482.0</td>\n",
       "      <td>119545.0</td>\n",
       "      <td>9809591.0</td>\n",
       "      <td>4</td>\n",
       "      <td>High</td>\n",
       "      <td>High</td>\n",
       "    </tr>\n",
       "    <tr>\n",
       "      <th>3</th>\n",
       "      <td>154</td>\n",
       "      <td>Male</td>\n",
       "      <td>Instagram</td>\n",
       "      <td>Brazil</td>\n",
       "      <td>São_Paulo</td>\n",
       "      <td>71552085.0</td>\n",
       "      <td>59144108</td>\n",
       "      <td>2953</td>\n",
       "      <td>1435572</td>\n",
       "      <td>1435571.0</td>\n",
       "      <td>2731.0</td>\n",
       "      <td>588709.0</td>\n",
       "      <td>4</td>\n",
       "      <td>High</td>\n",
       "      <td>High</td>\n",
       "    </tr>\n",
       "    <tr>\n",
       "      <th>4</th>\n",
       "      <td>155</td>\n",
       "      <td>Female</td>\n",
       "      <td>Instagram</td>\n",
       "      <td>United_States</td>\n",
       "      <td>NaN</td>\n",
       "      <td>39861444.0</td>\n",
       "      <td>17922824</td>\n",
       "      <td>295</td>\n",
       "      <td>3587530</td>\n",
       "      <td>0.0</td>\n",
       "      <td>1767.0</td>\n",
       "      <td>906753.0</td>\n",
       "      <td>2</td>\n",
       "      <td>High</td>\n",
       "      <td>High</td>\n",
       "    </tr>\n",
       "    <tr>\n",
       "      <th>...</th>\n",
       "      <td>...</td>\n",
       "      <td>...</td>\n",
       "      <td>...</td>\n",
       "      <td>...</td>\n",
       "      <td>...</td>\n",
       "      <td>...</td>\n",
       "      <td>...</td>\n",
       "      <td>...</td>\n",
       "      <td>...</td>\n",
       "      <td>...</td>\n",
       "      <td>...</td>\n",
       "      <td>...</td>\n",
       "      <td>...</td>\n",
       "      <td>...</td>\n",
       "      <td>...</td>\n",
       "    </tr>\n",
       "    <tr>\n",
       "      <th>2931193</th>\n",
       "      <td>2936836</td>\n",
       "      <td>NaN</td>\n",
       "      <td>Instagram</td>\n",
       "      <td>Ukraine</td>\n",
       "      <td>Zaporizhzhia</td>\n",
       "      <td>9985.0</td>\n",
       "      <td>0</td>\n",
       "      <td>0</td>\n",
       "      <td>0</td>\n",
       "      <td>0.0</td>\n",
       "      <td>0.0</td>\n",
       "      <td>0.0</td>\n",
       "      <td>0</td>\n",
       "      <td>NaN</td>\n",
       "      <td>NaN</td>\n",
       "    </tr>\n",
       "    <tr>\n",
       "      <th>2931194</th>\n",
       "      <td>2936837</td>\n",
       "      <td>NaN</td>\n",
       "      <td>Instagram</td>\n",
       "      <td>Malaysia</td>\n",
       "      <td>NaN</td>\n",
       "      <td>3404.0</td>\n",
       "      <td>0</td>\n",
       "      <td>0</td>\n",
       "      <td>0</td>\n",
       "      <td>0.0</td>\n",
       "      <td>0.0</td>\n",
       "      <td>0.0</td>\n",
       "      <td>0</td>\n",
       "      <td>NaN</td>\n",
       "      <td>NaN</td>\n",
       "    </tr>\n",
       "    <tr>\n",
       "      <th>2931195</th>\n",
       "      <td>2936838</td>\n",
       "      <td>NaN</td>\n",
       "      <td>Instagram</td>\n",
       "      <td>Argentina</td>\n",
       "      <td>Mendoza</td>\n",
       "      <td>35093.0</td>\n",
       "      <td>0</td>\n",
       "      <td>0</td>\n",
       "      <td>0</td>\n",
       "      <td>0.0</td>\n",
       "      <td>0.0</td>\n",
       "      <td>0.0</td>\n",
       "      <td>0</td>\n",
       "      <td>NaN</td>\n",
       "      <td>NaN</td>\n",
       "    </tr>\n",
       "    <tr>\n",
       "      <th>2931196</th>\n",
       "      <td>2936839</td>\n",
       "      <td>Female</td>\n",
       "      <td>Instagram</td>\n",
       "      <td>Sri_Lanka</td>\n",
       "      <td>NaN</td>\n",
       "      <td>9460.0</td>\n",
       "      <td>0</td>\n",
       "      <td>0</td>\n",
       "      <td>0</td>\n",
       "      <td>0.0</td>\n",
       "      <td>0.0</td>\n",
       "      <td>0.0</td>\n",
       "      <td>0</td>\n",
       "      <td>NaN</td>\n",
       "      <td>NaN</td>\n",
       "    </tr>\n",
       "    <tr>\n",
       "      <th>2931197</th>\n",
       "      <td>2936840</td>\n",
       "      <td>NaN</td>\n",
       "      <td>Instagram</td>\n",
       "      <td>Brazil</td>\n",
       "      <td>São_Paulo</td>\n",
       "      <td>29810.0</td>\n",
       "      <td>0</td>\n",
       "      <td>0</td>\n",
       "      <td>0</td>\n",
       "      <td>0.0</td>\n",
       "      <td>0.0</td>\n",
       "      <td>0.0</td>\n",
       "      <td>0</td>\n",
       "      <td>NaN</td>\n",
       "      <td>NaN</td>\n",
       "    </tr>\n",
       "  </tbody>\n",
       "</table>\n",
       "<p>2931198 rows × 15 columns</p>\n",
       "</div>"
      ],
      "text/plain": [
       "              Id  Gender Social_network        Country          City  \\\n",
       "0            151    Male      Instagram          Spain        Lisbon   \n",
       "1            152    Male      Instagram  United_States   Los_Angeles   \n",
       "2            153    Male      Instagram   Saudi_Arabia    Manchester   \n",
       "3            154    Male      Instagram         Brazil     São_Paulo   \n",
       "4            155  Female      Instagram  United_States           NaN   \n",
       "...          ...     ...            ...            ...           ...   \n",
       "2931193  2936836     NaN      Instagram        Ukraine  Zaporizhzhia   \n",
       "2931194  2936837     NaN      Instagram       Malaysia           NaN   \n",
       "2931195  2936838     NaN      Instagram      Argentina       Mendoza   \n",
       "2931196  2936839  Female      Instagram      Sri_Lanka           NaN   \n",
       "2931197  2936840     NaN      Instagram         Brazil     São_Paulo   \n",
       "\n",
       "           Followers  Engagement  Posts  Estimated_reach  \\\n",
       "0              154.0           0      3              153   \n",
       "1         22625181.0    39322588    715          1062314   \n",
       "2        550332150.0  1032630249   3443         18275483   \n",
       "3         71552085.0    59144108   2953          1435572   \n",
       "4         39861444.0    17922824    295          3587530   \n",
       "...              ...         ...    ...              ...   \n",
       "2931193       9985.0           0      0                0   \n",
       "2931194       3404.0           0      0                0   \n",
       "2931195      35093.0           0      0                0   \n",
       "2931196       9460.0           0      0                0   \n",
       "2931197      29810.0           0      0                0   \n",
       "\n",
       "         Avg._views_per_video  Avg._comments_per_post  Avg._likes_per_post  \\\n",
       "0                         0.0                     0.0                  0.0   \n",
       "1                   1062313.0                  2100.0             434816.0   \n",
       "2                  18275482.0                119545.0            9809591.0   \n",
       "3                   1435571.0                  2731.0             588709.0   \n",
       "4                         0.0                  1767.0             906753.0   \n",
       "...                       ...                     ...                  ...   \n",
       "2931193                   0.0                     0.0                  0.0   \n",
       "2931194                   0.0                     0.0                  0.0   \n",
       "2931195                   0.0                     0.0                  0.0   \n",
       "2931196                   0.0                     0.0                  0.0   \n",
       "2931197                   0.0                     0.0                  0.0   \n",
       "\n",
       "         Avg._posts_per_week Audience-Gender-MALE_% Audience-Gender-FEMALE_%  \n",
       "0                          1                    Low                      Low  \n",
       "1                          9                   High                     High  \n",
       "2                          4                   High                     High  \n",
       "3                          4                   High                     High  \n",
       "4                          2                   High                     High  \n",
       "...                      ...                    ...                      ...  \n",
       "2931193                    0                    NaN                      NaN  \n",
       "2931194                    0                    NaN                      NaN  \n",
       "2931195                    0                    NaN                      NaN  \n",
       "2931196                    0                    NaN                      NaN  \n",
       "2931197                    0                    NaN                      NaN  \n",
       "\n",
       "[2931198 rows x 15 columns]"
      ]
     },
     "execution_count": 21,
     "metadata": {},
     "output_type": "execute_result"
    }
   ],
   "source": [
    "clean_df[]"
   ]
  },
  {
   "cell_type": "code",
   "execution_count": 152,
   "id": "258c012f-27e0-4a13-929f-ee5f9a6a068f",
   "metadata": {},
   "outputs": [
    {
     "name": "stdout",
     "output_type": "stream",
     "text": [
      "Followers\n",
      "Engagement\n",
      "Posts\n",
      "Estimated_reach\n",
      "Avg._views_per_video\n",
      "Avg._comments_per_post\n",
      "Avg._likes_per_post\n",
      "Avg._posts_per_week\n"
     ]
    }
   ],
   "source": [
    "# Binning Numeric columns\n",
    "numerics = [ 'int64', 'float64']\n",
    "num_columns=clean_df.select_dtypes(include=numerics).columns[1:]\n",
    "\n",
    "#numerical edges\n",
    "for i in num_columns:\n",
    "    print(i)\n",
    "    clean_df[i] = pd.qcut(clean_df[i],q=[0, .25, .75, 1], labels=['Low', 'Medium', 'High'],duplicates='drop')"
   ]
  },
  {
   "cell_type": "code",
   "execution_count": 153,
   "id": "1cf19a81-f941-4caa-a0f2-ed3e2676d18f",
   "metadata": {},
   "outputs": [],
   "source": [
    "clean_df['Id'] = clean_df['Id'].apply(lambda x: f'Account:{x}')\n",
    "clean_df = clean_df.set_index('Id')"
   ]
  },
  {
   "cell_type": "markdown",
   "id": "2245cf6e-ab07-43d3-92a4-18d08c69c4cc",
   "metadata": {
    "tags": []
   },
   "source": [
    "## Interests and Brands"
   ]
  },
  {
   "cell_type": "code",
   "execution_count": 154,
   "id": "fca2f517-37f0-4d00-9af4-05fb3ef579be",
   "metadata": {},
   "outputs": [],
   "source": [
    "brand_ids = pd.read_csv('../SocialTalk 2023/brands.csv', low_memory=False) # Shape (3792, 2)\n",
    "account_brands = pd.read_csv('../SocialTalk 2023/accounts-brands.csv', low_memory=False)\n",
    "interest_ids = pd.read_csv('../SocialTalk 2023/interests.csv', low_memory=False) # Shape (60, 2)\n",
    "account_interests = pd.read_csv('../SocialTalk 2023/accounts-interests.csv', low_memory=False)"
   ]
  },
  {
   "cell_type": "code",
   "execution_count": 155,
   "id": "7a3593a2-b654-4e46-9ef6-9fe2ac929233",
   "metadata": {},
   "outputs": [],
   "source": [
    "brand_ids['Name'] = brand_ids['Name'].str.replace(\" \",\"_\")\n",
    "interest_ids['Name'] = interest_ids['Name'].str.replace(\" \",\"_\")"
   ]
  },
  {
   "cell_type": "code",
   "execution_count": 156,
   "id": "c6b10600-c5a6-4316-a0fc-9a3dc2a996f7",
   "metadata": {},
   "outputs": [],
   "source": [
    "brand_ids['label'] = 'Brand:' + brand_ids['Name'].astype(str)\n",
    "account_brands['Account Id'] = 'Account:' + account_brands['Account Id'].astype(str)\n",
    "account_brands['Brand Id'] = account_brands['Brand Id'].map(brand_ids.set_index('Id')['label'].to_dict())\n",
    "interest_ids['label'] = 'Interest:' + interest_ids['Name'].astype(str)\n",
    "account_interests['Account Id'] = 'Account:' + account_interests['Account Id'].astype(str)\n",
    "account_interests['Interest Id'] = account_interests['Interest Id'].map(interest_ids.set_index('Id')['label'].to_dict())"
   ]
  },
  {
   "cell_type": "code",
   "execution_count": 157,
   "id": "4c46e437-177b-464b-b4b8-f06db95aeb63",
   "metadata": {},
   "outputs": [],
   "source": [
    "account_brands = account_brands[:n]\n",
    "account_interests = account_interests[:n]"
   ]
  },
  {
   "cell_type": "markdown",
   "id": "067f6996-2b79-4a30-bf2f-2c77c2f22188",
   "metadata": {
    "tags": []
   },
   "source": [
    "## Audience fully enriched data (less records)"
   ]
  },
  {
   "cell_type": "code",
   "execution_count": 158,
   "id": "dc603555-b5d7-40c3-8aa8-507d0a55e84d",
   "metadata": {},
   "outputs": [],
   "source": [
    "audience_brands = pd.read_csv('../SocialTalk 2023/accounts-audience-brands.csv')\n",
    "audience_cities = pd.read_csv('../SocialTalk 2023/accounts-audience-cities.csv')\n",
    "audience_countries = pd.read_csv('../SocialTalk 2023/accounts-audience-countries.csv')\n",
    "audience_interests = pd.read_csv('../SocialTalk 2023/accounts-audience-interests.csv')"
   ]
  },
  {
   "cell_type": "code",
   "execution_count": null,
   "id": "8b6cde79-fae8-4627-8733-8cc792e50127",
   "metadata": {},
   "outputs": [],
   "source": []
  },
  {
   "cell_type": "code",
   "execution_count": 159,
   "id": "8ad99c42-700f-4109-be58-4f220c2380e2",
   "metadata": {},
   "outputs": [],
   "source": [
    "audience_brands['Account Id'] = 'Account:' + audience_brands['Account Id'].astype(str)\n",
    "audience_cities['Account Id'] = 'Account:' + audience_cities['Account Id'].astype(str)\n",
    "audience_countries['Account Id'] = 'Account:' + audience_countries['Account Id'].astype(str)\n",
    "audience_interests['Account Id'] = 'Account:' + audience_interests['Account Id'].astype(str)"
   ]
  },
  {
   "cell_type": "code",
   "execution_count": 160,
   "id": "c5af58e5-39b7-4dda-a2d7-c14704df3f3a",
   "metadata": {},
   "outputs": [],
   "source": [
    "# Down sampling audience_countries and audience_interests\n",
    "sample_accounts = clean_df.index\n",
    "audience_countries = audience_countries[audience_countries['Account Id'].isin(sample_accounts)]\n",
    "audience_interests = audience_interests[audience_interests['Account Id'].isin(sample_accounts)]\n",
    "audience_brands = audience_brands[audience_brands['Account Id'].isin(sample_accounts)]\n",
    "audience_cities = audience_cities[audience_cities['Account Id'].isin(sample_accounts)]"
   ]
  },
  {
   "cell_type": "code",
   "execution_count": 161,
   "id": "4bee8f2e-c553-4aa2-8111-d9944768c652",
   "metadata": {},
   "outputs": [],
   "source": [
    "# Mapping name and Ids\n",
    "audience_brands['Brand Id'] = audience_brands['Brand Id'].map(brand_ids.set_index('Id')['Name'].to_dict())\n",
    "audience_cities['City Id'] = audience_cities['City Id'].map(city_ids.set_index('Id')['Name'].to_dict())\n",
    "audience_countries['Country Id'] = audience_countries['Country Id'].map(country_ids.set_index('Id')['Name'].to_dict())\n",
    "audience_interests['Interest Id'] = audience_interests['Interest Id'].map(interest_ids.set_index('Id')['Name'].to_dict())"
   ]
  },
  {
   "cell_type": "code",
   "execution_count": null,
   "id": "725df1b2-b5df-4196-bf02-27ee68f1576e",
   "metadata": {},
   "outputs": [],
   "source": []
  },
  {
   "cell_type": "code",
   "execution_count": 162,
   "id": "83194736-c00b-4b42-b899-93ebe5a9189f",
   "metadata": {},
   "outputs": [],
   "source": [
    "#Binning on quartile\n",
    "audience_brands['%'] = pd.qcut(audience_brands['%'], q=[0, .25, .75, 1], labels=['Low', 'Medium', 'High'])\n",
    "audience_cities['%'] = pd.qcut(audience_cities['%'], q=[0, .25, .75, 1], labels=['Low', 'Medium', 'High'])\n",
    "audience_countries['%'] = pd.qcut(audience_countries['%'], q=[0, .25, .75, 1], labels=['Low', 'Medium', 'High'])\n",
    "audience_interests['%'] = pd.qcut(audience_interests['%'], q=[0, .25, .75, 1], labels=['Low', 'Medium', 'High'])"
   ]
  },
  {
   "cell_type": "code",
   "execution_count": 163,
   "id": "4ee1ae7c-4dfc-4369-aff7-30e5efb54985",
   "metadata": {},
   "outputs": [],
   "source": [
    "# Creating label\n",
    "\n",
    "audience_brands['label'] = 'Audience_Brand_'+audience_brands['Brand Id'].astype(str) + ':' + audience_brands['%'].astype(str)\n",
    "audience_cities['label'] = 'Audience_City_'+audience_cities['City Id'].astype(str) + ':' + audience_cities['%'].astype(str)\n",
    "audience_countries['label'] = 'Audience_Country_'+audience_countries['Country Id'].astype(str) + ':' + audience_countries['%'].astype(str)\n",
    "audience_interests['label'] = 'Audience_Interest_'+audience_interests['Interest Id'].astype(str) + ':' + audience_interests['%'].astype(str)\n"
   ]
  },
  {
   "cell_type": "markdown",
   "id": "e259f14e-4e7e-4e92-9e66-6b404d0ab804",
   "metadata": {
    "tags": []
   },
   "source": [
    "## Edge list"
   ]
  },
  {
   "cell_type": "code",
   "execution_count": 164,
   "id": "a5c44dec-2fc7-433b-a08a-e1d6b6448474",
   "metadata": {
    "tags": []
   },
   "outputs": [
    {
     "name": "stdout",
     "output_type": "stream",
     "text": [
      "Gender\n",
      "Social_network\n",
      "Country\n",
      "City\n",
      "Followers\n",
      "Engagement\n",
      "Posts\n",
      "Estimated_reach\n",
      "Avg._views_per_video\n",
      "Avg._comments_per_post\n",
      "Avg._likes_per_post\n",
      "Avg._posts_per_week\n",
      "Audience-Gender-MALE_%\n",
      "Audience-Gender-FEMALE_%\n",
      "Audience-Age-13-17_%\n",
      "Audience-Age-18-24_%\n",
      "Audience-Age-25-34_%\n",
      "Audience-Age-35-44_%\n",
      "Audience-Age-45-64_%\n",
      "Audience-Age-65-_%\n"
     ]
    }
   ],
   "source": [
    "'''\n",
    "Lets make edge pairs in the given format\n",
    "(account, f'{column}:{value}') for each column with non-nan values\n",
    "\n",
    "'''\n",
    "edges = []\n",
    "for column in clean_df.columns:\n",
    "    print(column)\n",
    "    series_tuples = [\n",
    "        (account, f'{column}:{value}') for account, value in clean_df[clean_df[column].notna()][column].items()\n",
    "        ]\n",
    "    edges.extend(series_tuples)"
   ]
  },
  {
   "cell_type": "code",
   "execution_count": 165,
   "id": "45b6510f-3ede-4541-a740-8b76f60a44f6",
   "metadata": {},
   "outputs": [],
   "source": [
    "edges += [i for i in account_brands.set_index('Account Id')['Brand Id'].items()]\n",
    "edges += [i for i in account_interests.set_index('Account Id')['Interest Id'].items()]"
   ]
  },
  {
   "cell_type": "code",
   "execution_count": 166,
   "id": "f1d349f5-7d8d-40ce-90ab-1cc49809961b",
   "metadata": {},
   "outputs": [],
   "source": [
    "#country-city\n",
    "location_hierarchy = [\n",
    "    (f'Country:{country}', f'City:{city}') for country, city in clean_df[['Country', 'City']].dropna().drop_duplicates(subset=['Country', 'City'], keep='last').values\n",
    "]\n",
    "edges.extend(location_hierarchy)"
   ]
  },
  {
   "cell_type": "code",
   "execution_count": 167,
   "id": "2c31311f-286c-486a-8f9a-b3c452215b13",
   "metadata": {
    "tags": []
   },
   "outputs": [],
   "source": [
    "edges += [i for i in audience_brands.set_index('Account Id')['label'].items()]\n",
    "edges += [i for i in audience_cities.set_index('Account Id')['label'].items()]\n",
    "edges += [i for i in audience_countries.set_index('Account Id')['label'].items()]\n",
    "edges += [i for i in audience_interests.set_index('Account Id')['label'].items()]"
   ]
  },
  {
   "cell_type": "code",
   "execution_count": null,
   "id": "c4bd2ccb-d885-4988-8550-ad63847180da",
   "metadata": {},
   "outputs": [],
   "source": []
  },
  {
   "cell_type": "code",
   "execution_count": null,
   "id": "d26eafb4-8a04-42a4-81f6-18f6bd7f55ab",
   "metadata": {},
   "outputs": [],
   "source": []
  },
  {
   "cell_type": "code",
   "execution_count": 168,
   "id": "cb38aea7-130c-425f-840e-85c6fb3a80a5",
   "metadata": {},
   "outputs": [],
   "source": [
    "temp = pd.DataFrame(edges, columns=['source', 'target'])"
   ]
  },
  {
   "cell_type": "code",
   "execution_count": 169,
   "id": "ac502dd2-423d-45ee-8d35-5c10477c57c0",
   "metadata": {},
   "outputs": [],
   "source": [
    "temp.to_csv(f'edge_list_{len(temp)}.csv',index=False)"
   ]
  },
  {
   "cell_type": "code",
   "execution_count": 170,
   "id": "1b906306-154c-4365-b95d-5eb6c8c48e56",
   "metadata": {
    "tags": []
   },
   "outputs": [
    {
     "data": {
      "text/plain": [
       "Account:1043           327\n",
       "Account:3007           312\n",
       "Account:418            289\n",
       "Account:1357           283\n",
       "Account:335            269\n",
       "                      ... \n",
       "Country:Switzerland      1\n",
       "Country:Australia        1\n",
       "Country:Canada           1\n",
       "Country:Argentina        1\n",
       "Country:Colombia         1\n",
       "Name: source, Length: 20019, dtype: int64"
      ]
     },
     "execution_count": 170,
     "metadata": {},
     "output_type": "execute_result"
    }
   ],
   "source": [
    "temp['source'].value_counts()"
   ]
  },
  {
   "cell_type": "code",
   "execution_count": 171,
   "id": "fbc18ad1-385a-4239-bbd4-80094e91c674",
   "metadata": {
    "tags": []
   },
   "outputs": [
    {
     "data": {
      "text/plain": [
       "Social_network:Instagram               17008\n",
       "Followers:Medium                       10000\n",
       "Engagement:Medium                      10000\n",
       "Estimated_reach:Medium                  9998\n",
       "Avg._likes_per_post:Medium              9998\n",
       "                                       ...  \n",
       "Audience_Brand_Cadbury:High                1\n",
       "Audience_Brand_ALDI:High                   1\n",
       "Audience_Brand_Next:Low                    1\n",
       "Audience_Brand_T.G.I._Friday's:Low         1\n",
       "Audience_Interest_Luxury_Goods:High        1\n",
       "Name: target, Length: 4047, dtype: int64"
      ]
     },
     "execution_count": 171,
     "metadata": {},
     "output_type": "execute_result"
    }
   ],
   "source": [
    "temp['target'].value_counts()"
   ]
  },
  {
   "cell_type": "code",
   "execution_count": 172,
   "id": "86d6468b-f63b-4370-9d76-489f7c2f2113",
   "metadata": {},
   "outputs": [
    {
     "data": {
      "text/plain": [
       "24066"
      ]
     },
     "execution_count": 172,
     "metadata": {},
     "output_type": "execute_result"
    }
   ],
   "source": [
    "# Total nodes\n",
    "temp['source'].value_counts().shape[0] + temp['target'].value_counts().shape[0]"
   ]
  },
  {
   "cell_type": "code",
   "execution_count": 173,
   "id": "7d0f7460-a05f-4366-94f7-7c8c70d796f6",
   "metadata": {},
   "outputs": [
    {
     "data": {
      "text/plain": [
       "(601138, 2)"
      ]
     },
     "execution_count": 173,
     "metadata": {},
     "output_type": "execute_result"
    }
   ],
   "source": [
    "temp.shape"
   ]
  },
  {
   "cell_type": "markdown",
   "id": "d8e5ccea-8ea2-43a0-a933-f891e2058118",
   "metadata": {
    "tags": []
   },
   "source": [
    "## Inference"
   ]
  },
  {
   "cell_type": "code",
   "execution_count": 174,
   "id": "89b3e124-5009-42f0-b6d3-27b630f42d55",
   "metadata": {},
   "outputs": [],
   "source": [
    "from gensim.models import KeyedVectors\n",
    "import json"
   ]
  },
  {
   "cell_type": "code",
   "execution_count": 220,
   "id": "c0594e31-61ce-4658-b280-defa2f4f7af4",
   "metadata": {},
   "outputs": [],
   "source": [
    "with open('user_lookup.json', 'r') as f:\n",
    "    user_lookup = json.load(f)"
   ]
  },
  {
   "cell_type": "code",
   "execution_count": 232,
   "id": "df5889b2-a5a9-4822-bf5e-c61c43eb7bc8",
   "metadata": {},
   "outputs": [],
   "source": [
    "model = KeyedVectors.load_word2vec_format('GGvec_model_v1.bin')"
   ]
  },
  {
   "cell_type": "code",
   "execution_count": 241,
   "id": "26f58b12-c592-46f8-8fad-52a298f0a3d4",
   "metadata": {},
   "outputs": [],
   "source": [
    "positive_list = ['City:London',\"Account:152\"]\n",
    "selections_dict = {}\n",
    "selections_dict['positive'] = positive_list"
   ]
  },
  {
   "cell_type": "code",
   "execution_count": 248,
   "id": "b8557f58-896d-49d4-971c-037cf5783f68",
   "metadata": {},
   "outputs": [],
   "source": [
    "#fetches data from accounts.csv using positive list\n",
    "def accounts_data(positive_list=None):\n",
    "    ac_interests = pd.read_csv(\"./SocialTalk2023Clean/Clean/accounts-interests.csv\")\n",
    "    ac_brands = pd.read_csv(\"./SocialTalk2023Clean/Clean/accounts-brands.csv\")\n",
    "    acc = pd.read_csv(\"./SocialTalk2023Clean/clean/accounts.csv\")\n",
    "    acc_ids=[]\n",
    "    for i in positive_list:\n",
    "        node_type, value = i.split(\":\")\n",
    "        if node_type == \"Account\":\n",
    "            acc_ids.append(int(value))\n",
    "        elif node_type == \"Interest\":\n",
    "            acc_ids.extend(list(ac_interests[ac_interests[\"Interest\"] == value][\"Account Id\"].values))\n",
    "        elif node_type == \"Brand\":\n",
    "            acc_ids.extend(list(ac_brands[ac_brands[\"Brand\"]==value][\"Account Id\"].values))\n",
    "    return acc[acc[\"Id\"].isin(acc_ids)].drop([\"label\"],axis=1)"
   ]
  },
  {
   "cell_type": "code",
   "execution_count": 249,
   "id": "d21e7733-93f7-43f4-9662-9e45551560f5",
   "metadata": {},
   "outputs": [],
   "source": [
    "def get_recommendations(selections_dict, model, user_lookup, display_n=25):\n",
    "    results = []\n",
    "    for node_id, value in model.most_similar_cosmul(**selections_dict, topn=1000000):\n",
    "        node_parts = node_id.split(':')\n",
    "        if len(node_parts) != 2:\n",
    "            node_type = node_parts[0]\n",
    "            node_key = ' '.join(node_parts[1:])\n",
    "        else:\n",
    "            node_type, node_key = node_parts\n",
    "\n",
    "        if node_type == 'Account':\n",
    "            try:\n",
    "                results.append((node_type, user_lookup[node_key]['Name'], value))\n",
    "                \n",
    "            except:\n",
    "                print(node_key)\n",
    "        elif node_key == 'True':\n",
    "            pass\n",
    "        else:\n",
    "            results.append((node_type, node_id, value))\n",
    "            \n",
    "    df = pd.DataFrame(results, columns=['EntityType', 'Entity', 'Score'])\n",
    "    users_df = accounts_data(selections_dict[\"positive\"])\n",
    "    return users_df"
   ]
  },
  {
   "cell_type": "code",
   "execution_count": 250,
   "id": "7494e609-ff47-4764-8a21-d1f6ee8e353d",
   "metadata": {
    "tags": []
   },
   "outputs": [
    {
     "name": "stderr",
     "output_type": "stream",
     "text": [
      "/opt/conda/lib/python3.7/site-packages/ipykernel_launcher.py:23: DtypeWarning: Columns (0,4,6,19,20) have mixed types.Specify dtype option on import or set low_memory=False.\n"
     ]
    }
   ],
   "source": [
    "p = get_recommendations(selections_dict, model, user_lookup, display_n=25)"
   ]
  },
  {
   "cell_type": "code",
   "execution_count": 251,
   "id": "29376ff8-18f9-45e7-ba1c-d7a345c27dea",
   "metadata": {},
   "outputs": [
    {
     "data": {
      "text/html": [
       "<div>\n",
       "<style scoped>\n",
       "    .dataframe tbody tr th:only-of-type {\n",
       "        vertical-align: middle;\n",
       "    }\n",
       "\n",
       "    .dataframe tbody tr th {\n",
       "        vertical-align: top;\n",
       "    }\n",
       "\n",
       "    .dataframe thead th {\n",
       "        text-align: right;\n",
       "    }\n",
       "</style>\n",
       "<table border=\"1\" class=\"dataframe\">\n",
       "  <thead>\n",
       "    <tr style=\"text-align: right;\">\n",
       "      <th></th>\n",
       "      <th>Id</th>\n",
       "      <th>Social network</th>\n",
       "      <th>Username</th>\n",
       "      <th>Name</th>\n",
       "      <th>Country id</th>\n",
       "      <th>City id</th>\n",
       "      <th>Birthdate</th>\n",
       "      <th>Gender</th>\n",
       "      <th>Followers</th>\n",
       "      <th>Following</th>\n",
       "      <th>...</th>\n",
       "      <th>Estimated reach</th>\n",
       "      <th>Estimated impressions</th>\n",
       "      <th>Avg. posts per week</th>\n",
       "      <th>Avg. posts per month</th>\n",
       "      <th>Avg. likes per post</th>\n",
       "      <th>Avg. engagement per post</th>\n",
       "      <th>Avg. comments per post</th>\n",
       "      <th>Avg. views per video</th>\n",
       "      <th>Relevant tags</th>\n",
       "      <th>Audience credibility</th>\n",
       "    </tr>\n",
       "  </thead>\n",
       "  <tbody>\n",
       "    <tr>\n",
       "      <th>1</th>\n",
       "      <td>152</td>\n",
       "      <td>Instagram</td>\n",
       "      <td>jasonderulo</td>\n",
       "      <td>Jason Derulo</td>\n",
       "      <td>401.0</td>\n",
       "      <td>39.0</td>\n",
       "      <td>NaN</td>\n",
       "      <td>Male</td>\n",
       "      <td>22625181.0</td>\n",
       "      <td>10.0</td>\n",
       "      <td>...</td>\n",
       "      <td>1062314.0</td>\n",
       "      <td>1274777.0</td>\n",
       "      <td>9.0</td>\n",
       "      <td>33.0</td>\n",
       "      <td>434816.0</td>\n",
       "      <td>436917.0</td>\n",
       "      <td>2100.0</td>\n",
       "      <td>1062313.0</td>\n",
       "      <td>slidin,takethestage,mooski,dancin,gaspedal,mov...</td>\n",
       "      <td>0.6746</td>\n",
       "    </tr>\n",
       "  </tbody>\n",
       "</table>\n",
       "<p>1 rows × 22 columns</p>\n",
       "</div>"
      ],
      "text/plain": [
       "    Id Social network     Username          Name Country id  City id  \\\n",
       "1  152      Instagram  jasonderulo  Jason Derulo      401.0     39.0   \n",
       "\n",
       "  Birthdate Gender   Followers  Following  ...  Estimated reach  \\\n",
       "1       NaN   Male  22625181.0       10.0  ...        1062314.0   \n",
       "\n",
       "   Estimated impressions  Avg. posts per week  Avg. posts per month  \\\n",
       "1              1274777.0                  9.0                  33.0   \n",
       "\n",
       "   Avg. likes per post  Avg. engagement per post  Avg. comments per post  \\\n",
       "1             434816.0                  436917.0                  2100.0   \n",
       "\n",
       "   Avg. views per video                                      Relevant tags  \\\n",
       "1             1062313.0  slidin,takethestage,mooski,dancin,gaspedal,mov...   \n",
       "\n",
       "  Audience credibility  \n",
       "1               0.6746  \n",
       "\n",
       "[1 rows x 22 columns]"
      ]
     },
     "execution_count": 251,
     "metadata": {},
     "output_type": "execute_result"
    }
   ],
   "source": [
    "p"
   ]
  },
  {
   "cell_type": "code",
   "execution_count": 18,
   "id": "c45bfcfd-bf12-4038-9197-a17e3abfb646",
   "metadata": {},
   "outputs": [
    {
     "data": {
      "text/html": [
       "<div>\n",
       "<style scoped>\n",
       "    .dataframe tbody tr th:only-of-type {\n",
       "        vertical-align: middle;\n",
       "    }\n",
       "\n",
       "    .dataframe tbody tr th {\n",
       "        vertical-align: top;\n",
       "    }\n",
       "\n",
       "    .dataframe thead th {\n",
       "        text-align: right;\n",
       "    }\n",
       "</style>\n",
       "<table border=\"1\" class=\"dataframe\">\n",
       "  <thead>\n",
       "    <tr style=\"text-align: right;\">\n",
       "      <th></th>\n",
       "      <th>Id</th>\n",
       "      <th>Social network</th>\n",
       "      <th>Username</th>\n",
       "      <th>Name</th>\n",
       "      <th>Country id</th>\n",
       "      <th>City id</th>\n",
       "      <th>Birthdate</th>\n",
       "      <th>Gender</th>\n",
       "      <th>Followers</th>\n",
       "      <th>Following</th>\n",
       "      <th>...</th>\n",
       "      <th>Estimated impressions</th>\n",
       "      <th>Avg. posts per week</th>\n",
       "      <th>Avg. posts per month</th>\n",
       "      <th>Avg. likes per post</th>\n",
       "      <th>Avg. engagement per post</th>\n",
       "      <th>Avg. comments per post</th>\n",
       "      <th>Avg. views per video</th>\n",
       "      <th>Relevant tags</th>\n",
       "      <th>Audience credibility</th>\n",
       "      <th>label</th>\n",
       "    </tr>\n",
       "  </thead>\n",
       "  <tbody>\n",
       "    <tr>\n",
       "      <th>8401</th>\n",
       "      <td>8637</td>\n",
       "      <td>Instagram</td>\n",
       "      <td>wordtomother</td>\n",
       "      <td>wordtomother</td>\n",
       "      <td>400.0</td>\n",
       "      <td>46.0</td>\n",
       "      <td>NaN</td>\n",
       "      <td>NaN</td>\n",
       "      <td>22184.0</td>\n",
       "      <td>0.0</td>\n",
       "      <td>...</td>\n",
       "      <td>12080</td>\n",
       "      <td>1</td>\n",
       "      <td>1</td>\n",
       "      <td>527.0</td>\n",
       "      <td>536.0</td>\n",
       "      <td>9.0</td>\n",
       "      <td>0.0</td>\n",
       "      <td>0</td>\n",
       "      <td>NaN</td>\n",
       "      <td>Account:8637</td>\n",
       "    </tr>\n",
       "  </tbody>\n",
       "</table>\n",
       "<p>1 rows × 23 columns</p>\n",
       "</div>"
      ],
      "text/plain": [
       "        Id Social network      Username          Name  Country id  City id  \\\n",
       "8401  8637      Instagram  wordtomother  wordtomother       400.0     46.0   \n",
       "\n",
       "     Birthdate Gender  Followers  Following  ...  Estimated impressions  \\\n",
       "8401       NaN    NaN    22184.0        0.0  ...                  12080   \n",
       "\n",
       "      Avg. posts per week  Avg. posts per month  Avg. likes per post  \\\n",
       "8401                    1                     1                527.0   \n",
       "\n",
       "      Avg. engagement per post  Avg. comments per post  Avg. views per video  \\\n",
       "8401                     536.0                     9.0                   0.0   \n",
       "\n",
       "      Relevant tags  Audience credibility         label  \n",
       "8401              0                   NaN  Account:8637  \n",
       "\n",
       "[1 rows x 23 columns]"
      ]
     },
     "execution_count": 18,
     "metadata": {},
     "output_type": "execute_result"
    }
   ],
   "source": [
    "users[users.Id == 8637]"
   ]
  },
  {
   "cell_type": "code",
   "execution_count": 15,
   "id": "f85717c6-dc3e-491a-98d9-f84f9d17d694",
   "metadata": {},
   "outputs": [
    {
     "data": {
      "text/html": [
       "<div>\n",
       "<style scoped>\n",
       "    .dataframe tbody tr th:only-of-type {\n",
       "        vertical-align: middle;\n",
       "    }\n",
       "\n",
       "    .dataframe tbody tr th {\n",
       "        vertical-align: top;\n",
       "    }\n",
       "\n",
       "    .dataframe thead th {\n",
       "        text-align: right;\n",
       "    }\n",
       "</style>\n",
       "<table border=\"1\" class=\"dataframe\">\n",
       "  <thead>\n",
       "    <tr style=\"text-align: right;\">\n",
       "      <th></th>\n",
       "      <th>Id</th>\n",
       "      <th>Social network</th>\n",
       "      <th>Username</th>\n",
       "      <th>Name</th>\n",
       "      <th>Country id</th>\n",
       "      <th>City id</th>\n",
       "      <th>Birthdate</th>\n",
       "      <th>Gender</th>\n",
       "      <th>Followers</th>\n",
       "      <th>Following</th>\n",
       "      <th>...</th>\n",
       "      <th>Estimated impressions</th>\n",
       "      <th>Avg. posts per week</th>\n",
       "      <th>Avg. posts per month</th>\n",
       "      <th>Avg. likes per post</th>\n",
       "      <th>Avg. engagement per post</th>\n",
       "      <th>Avg. comments per post</th>\n",
       "      <th>Avg. views per video</th>\n",
       "      <th>Relevant tags</th>\n",
       "      <th>Audience credibility</th>\n",
       "      <th>label</th>\n",
       "    </tr>\n",
       "  </thead>\n",
       "  <tbody>\n",
       "    <tr>\n",
       "      <th>11341</th>\n",
       "      <td>11577</td>\n",
       "      <td>Instagram</td>\n",
       "      <td>marcfc12</td>\n",
       "      <td>Marc 🍭💀</td>\n",
       "      <td>400.0</td>\n",
       "      <td>NaN</td>\n",
       "      <td>NaN</td>\n",
       "      <td>Male</td>\n",
       "      <td>10517.0</td>\n",
       "      <td>0.0</td>\n",
       "      <td>...</td>\n",
       "      <td>7020</td>\n",
       "      <td>1</td>\n",
       "      <td>1</td>\n",
       "      <td>723.0</td>\n",
       "      <td>696.0</td>\n",
       "      <td>35.0</td>\n",
       "      <td>0.0</td>\n",
       "      <td>0</td>\n",
       "      <td>NaN</td>\n",
       "      <td>Account:11577</td>\n",
       "    </tr>\n",
       "  </tbody>\n",
       "</table>\n",
       "<p>1 rows × 23 columns</p>\n",
       "</div>"
      ],
      "text/plain": [
       "          Id Social network  Username     Name  Country id  City id Birthdate  \\\n",
       "11341  11577      Instagram  marcfc12  Marc 🍭💀       400.0      NaN       NaN   \n",
       "\n",
       "      Gender  Followers  Following  ...  Estimated impressions  \\\n",
       "11341   Male    10517.0        0.0  ...                   7020   \n",
       "\n",
       "       Avg. posts per week  Avg. posts per month  Avg. likes per post  \\\n",
       "11341                    1                     1                723.0   \n",
       "\n",
       "       Avg. engagement per post  Avg. comments per post  Avg. views per video  \\\n",
       "11341                     696.0                    35.0                   0.0   \n",
       "\n",
       "       Relevant tags  Audience credibility          label  \n",
       "11341              0                   NaN  Account:11577  \n",
       "\n",
       "[1 rows x 23 columns]"
      ]
     },
     "execution_count": 15,
     "metadata": {},
     "output_type": "execute_result"
    }
   ],
   "source": [
    "users[users.Name == 'Marc 🍭💀']"
   ]
  },
  {
   "cell_type": "code",
   "execution_count": null,
   "id": "58c2d3ae-fbaf-467d-93ab-e4d013b12438",
   "metadata": {},
   "outputs": [],
   "source": []
  }
 ],
 "metadata": {
  "kernelspec": {
   "display_name": "Python 3",
   "language": "python",
   "name": "python3"
  },
  "language_info": {
   "codemirror_mode": {
    "name": "ipython",
    "version": 3
   },
   "file_extension": ".py",
   "mimetype": "text/x-python",
   "name": "python",
   "nbconvert_exporter": "python",
   "pygments_lexer": "ipython3",
   "version": "3.7.12"
  }
 },
 "nbformat": 4,
 "nbformat_minor": 5
}
