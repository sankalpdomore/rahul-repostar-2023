{
 "cells": [
  {
   "cell_type": "code",
   "execution_count": 228,
   "id": "9bc14e7e-23d1-46e3-bee7-5a876da73fd0",
   "metadata": {},
   "outputs": [],
   "source": [
    "import numpy as np\n",
    "import h5py\n",
    "import os\n",
    "import requests\n",
    "import tempfile\n",
    "import time\n",
    "\n",
    "import scann"
   ]
  },
  {
   "cell_type": "code",
   "execution_count": 3,
   "id": "03ec87a0-8aa5-4a98-a2b5-2b84b53d0019",
   "metadata": {},
   "outputs": [],
   "source": [
    "with tempfile.TemporaryDirectory() as tmp:\n",
    "    response = requests.get(\"http://ann-benchmarks.com/glove-100-angular.hdf5\")\n",
    "    loc = os.path.join(tmp, \"glove.hdf5\")\n",
    "    with open(loc, 'wb') as f:\n",
    "        f.write(response.content)\n",
    "    \n",
    "    glove_h5py = h5py.File(loc, \"r\")"
   ]
  },
  {
   "cell_type": "code",
   "execution_count": 4,
   "id": "aee2da2c-8bc1-4a65-8bd3-cab0c5a5ce05",
   "metadata": {},
   "outputs": [
    {
     "data": {
      "text/plain": [
       "['distances', 'neighbors', 'test', 'train']"
      ]
     },
     "execution_count": 4,
     "metadata": {},
     "output_type": "execute_result"
    }
   ],
   "source": [
    "list(glove_h5py.keys())"
   ]
  },
  {
   "cell_type": "code",
   "execution_count": 5,
   "id": "72ac5dac-6bec-4a8b-be5b-cc041d96d324",
   "metadata": {},
   "outputs": [
    {
     "name": "stdout",
     "output_type": "stream",
     "text": [
      "(1183514, 100)\n",
      "(10000, 100)\n"
     ]
    }
   ],
   "source": [
    "dataset = glove_h5py['train']\n",
    "queries = glove_h5py['test']\n",
    "print(dataset.shape)\n",
    "print(queries.shape)"
   ]
  },
  {
   "cell_type": "code",
   "execution_count": 6,
   "id": "aa387dca-e854-44ab-a472-87eda4a1b65e",
   "metadata": {},
   "outputs": [],
   "source": [
    "normalized_dataset = dataset / np.linalg.norm(dataset, axis=1)[:, np.newaxis]"
   ]
  },
  {
   "cell_type": "code",
   "execution_count": 7,
   "id": "248a41e1-8e67-4f9e-b3a4-f16a17cacb37",
   "metadata": {},
   "outputs": [
    {
     "name": "stderr",
     "output_type": "stream",
     "text": [
      "2023-05-02 16:04:17.226730: I scann/partitioning/partitioner_factory_base.cc:59] Size of sampled dataset for training partition: 249797\n",
      "2023-05-02 16:04:23.961219: I ./scann/partitioning/kmeans_tree_partitioner_utils.h:88] PartitionerFactory ran in 6.734385881s.\n"
     ]
    }
   ],
   "source": [
    "searcher = scann.scann_ops_pybind.builder(normalized_dataset, 10, \"dot_product\").tree(\n",
    "    num_leaves=2000, num_leaves_to_search=100, training_sample_size=250000).score_ah(\n",
    "    2, anisotropic_quantization_threshold=0.2).reorder(100).build()"
   ]
  },
  {
   "cell_type": "code",
   "execution_count": 8,
   "id": "d4cf5109-792c-4af3-bdec-9b4e2ab9a44b",
   "metadata": {},
   "outputs": [],
   "source": [
    "def compute_recall(neighbors, true_neighbors):\n",
    "    total = 0\n",
    "    for gt_row, row in zip(true_neighbors, neighbors):\n",
    "        total += np.intersect1d(gt_row, row).shape[0]\n",
    "    return total / true_neighbors.size"
   ]
  },
  {
   "cell_type": "code",
   "execution_count": 9,
   "id": "fa9b87b4-bbf7-4b8d-b672-4f376b66f6fa",
   "metadata": {},
   "outputs": [
    {
     "name": "stdout",
     "output_type": "stream",
     "text": [
      "Recall: 0.90015\n",
      "Time: 1.807617425918579\n"
     ]
    }
   ],
   "source": [
    "start = time.time()\n",
    "neighbors, distances = searcher.search_batched(queries)\n",
    "end = time.time()\n",
    "\n",
    "# we are given top 100 neighbors in the ground truth, so select top 10\n",
    "print(\"Recall:\", compute_recall(neighbors, glove_h5py['neighbors'][:, :10]))\n",
    "print(\"Time:\", end - start)"
   ]
  },
  {
   "cell_type": "code",
   "execution_count": 15,
   "id": "2507eab6-0dbd-4f0a-88ee-357da00ae5ed",
   "metadata": {},
   "outputs": [
    {
     "data": {
      "text/plain": [
       "(10000, 10)"
      ]
     },
     "execution_count": 15,
     "metadata": {},
     "output_type": "execute_result"
    }
   ],
   "source": [
    "distances.shape"
   ]
  },
  {
   "cell_type": "code",
   "execution_count": 16,
   "id": "64f7bbcf-0ef1-4d02-8f90-ae93bc596586",
   "metadata": {},
   "outputs": [
    {
     "name": "stdout",
     "output_type": "stream",
     "text": [
      "[ 97478 846101 671078 727732 544474]\n",
      "[2.5518737 2.539792  2.5383418 2.5097368 2.4656374]\n",
      "Latency (ms): 0.9369850158691406\n"
     ]
    }
   ],
   "source": [
    "start = time.time()\n",
    "neighbors, distances = searcher.search(queries[0], final_num_neighbors=5)\n",
    "end = time.time()\n",
    "\n",
    "print(neighbors)\n",
    "print(distances)\n",
    "print(\"Latency (ms):\", 1000*(end - start))"
   ]
  },
  {
   "cell_type": "code",
   "execution_count": 46,
   "id": "adab1354-143d-4e37-b0cf-27a119b6414f",
   "metadata": {},
   "outputs": [
    {
     "data": {
      "text/plain": [
       "((1183514, 100), (100,))"
      ]
     },
     "execution_count": 46,
     "metadata": {},
     "output_type": "execute_result"
    }
   ],
   "source": [
    "normalized_dataset.shape,queries[0].shape"
   ]
  },
  {
   "cell_type": "markdown",
   "id": "5f0131e4-c465-4d6c-a8fe-b826fbcc26a2",
   "metadata": {},
   "source": [
    "## For graph embeddings"
   ]
  },
  {
   "cell_type": "code",
   "execution_count": 137,
   "id": "7ae73d57-fe03-4e74-87c4-08ea08d25e33",
   "metadata": {},
   "outputs": [],
   "source": [
    "from gensim.models import KeyedVectors"
   ]
  },
  {
   "cell_type": "code",
   "execution_count": 138,
   "id": "327780b2-0bfd-4361-8fcd-b475f8ad2a82",
   "metadata": {},
   "outputs": [],
   "source": [
    "#loading model\n",
    "model = KeyedVectors.load_word2vec_format('GGvec_model_v1.bin')"
   ]
  },
  {
   "cell_type": "code",
   "execution_count": 139,
   "id": "956a529d-8ded-4f14-9343-0c3f91322e37",
   "metadata": {},
   "outputs": [],
   "source": [
    "emb = model.vectors\n",
    "normalized_dataset = emb / np.linalg.norm(emb, axis=1)[:, np.newaxis]"
   ]
  },
  {
   "cell_type": "code",
   "execution_count": 162,
   "id": "299b5ae1-6991-46fc-863e-b8bac6002a66",
   "metadata": {},
   "outputs": [
    {
     "name": "stderr",
     "output_type": "stream",
     "text": [
      "2023-05-03 14:01:31.590085: I scann/base/single_machine_factory_scann.cc:113] Single-machine AH training with dataset size = 24523, 8 thread(s).\n"
     ]
    }
   ],
   "source": [
    "searcher = scann.scann_ops_pybind.builder(normalized_dataset, 100, \"dot_product\").score_ah(\n",
    "    2, anisotropic_quantization_threshold=0.2).reorder(100000).build()"
   ]
  },
  {
   "cell_type": "code",
   "execution_count": 216,
   "id": "743b4b08-17e1-433c-bffb-28947f989ea5",
   "metadata": {},
   "outputs": [],
   "source": [
    "selections_dict = {}\n",
    "positive_list = ['City:London']\n",
    "negative_list = ['Gender:Male']\n",
    "selections_dict['positive'] = positive_list\n",
    "selections_dict['negative'] = negative_list"
   ]
  },
  {
   "cell_type": "code",
   "execution_count": 217,
   "id": "c3bc9086-09f8-40b8-a179-022ea862bf83",
   "metadata": {},
   "outputs": [],
   "source": [
    "def get_vector(word,model):\n",
    "    return model.wv[word]"
   ]
  },
  {
   "cell_type": "code",
   "execution_count": 218,
   "id": "0379d0ba-fdcc-4101-9e97-2bb72327f963",
   "metadata": {},
   "outputs": [],
   "source": [
    "def get_single_vector(selections_dict):\n",
    "    positive = get_vector(selections_dict['positive'],model).sum(axis = 0)\n",
    "    negative = get_vector(selections_dict['negative'],model).sum(axis = 0)\n",
    "    return positive-negative"
   ]
  },
  {
   "cell_type": "code",
   "execution_count": 227,
   "id": "0a1cc5e5-62e1-4bb2-926d-9bc3bf3e0570",
   "metadata": {},
   "outputs": [],
   "source": [
    "def get_most_similar(selections_dict,model):\n",
    "    query = get_single_vector(selections_dict)\n",
    "    neighbors, distances = searcher.search(query, final_num_neighbors=2900000)\n",
    "    return np.array(list(model.wv.vocab))[neighbors]"
   ]
  },
  {
   "cell_type": "markdown",
   "id": "a080de31-f4f9-4e40-bc2f-8a05cb008fa3",
   "metadata": {
    "jp-MarkdownHeadingCollapsed": true,
    "tags": []
   },
   "source": [
    "## Checking for speed"
   ]
  },
  {
   "cell_type": "code",
   "execution_count": 220,
   "id": "67010a94-6734-4f7e-89a3-f657535e0484",
   "metadata": {},
   "outputs": [
    {
     "name": "stdout",
     "output_type": "stream",
     "text": [
      "Latency (ms): 12.449026107788086\n"
     ]
    },
    {
     "name": "stderr",
     "output_type": "stream",
     "text": [
      "/opt/conda/lib/python3.7/site-packages/ipykernel_launcher.py:2: DeprecationWarning: Call to deprecated `wv` (Attribute will be removed in 4.0.0, use self instead).\n",
      "  \n",
      "/opt/conda/lib/python3.7/site-packages/ipykernel_launcher.py:4: DeprecationWarning: Call to deprecated `wv` (Attribute will be removed in 4.0.0, use self instead).\n",
      "  after removing the cwd from sys.path.\n"
     ]
    }
   ],
   "source": [
    "start = time.time()\n",
    "ids = get_most_similar(selections_dict,model)\n",
    "end = time.time()\n",
    "print(\"Latency (ms):\", 1000*(end - start))"
   ]
  },
  {
   "cell_type": "code",
   "execution_count": null,
   "id": "968699e5-376b-46ad-8fd7-9e4c7851dafa",
   "metadata": {},
   "outputs": [
    {
     "name": "stdout",
     "output_type": "stream",
     "text": [
      "Latency (ms): 44.86966133117676\n"
     ]
    }
   ],
   "source": [
    "start = time.time()\n",
    "p = model.most_similar_cosmul(**selections_dict, topn=1000000)\n",
    "end = time.time()\n",
    "print(\"Latency (ms):\", 1000*(end - start))"
   ]
  },
  {
   "cell_type": "markdown",
   "id": "e3800bc3-bfb0-44bc-b4e7-98b17f668e4f",
   "metadata": {
    "jp-MarkdownHeadingCollapsed": true,
    "tags": []
   },
   "source": [
    "## Checking for memory"
   ]
  },
  {
   "cell_type": "code",
   "execution_count": 235,
   "id": "d4e95425-8176-4e19-9b36-11d922ab0d53",
   "metadata": {},
   "outputs": [],
   "source": [
    "import os\n",
    "import psutil\n",
    " \n",
    "# inner psutil function\n",
    "def process_memory():\n",
    "    process = psutil.Process(os.getpid())\n",
    "    mem_info = process.memory_info()\n",
    "    return mem_info.rss\n",
    " \n",
    "# decorator function\n",
    "def profile(func):\n",
    "    def wrapper(*args, **kwargs):\n",
    " \n",
    "        mem_before = process_memory()\n",
    "        result = func(*args, **kwargs)\n",
    "        mem_after = process_memory()\n",
    "        print(\"{}:consumed memory: {:,}\".format(\n",
    "            func.__name__,\n",
    "            mem_before, mem_after, mem_after - mem_before))\n",
    " \n",
    "        return result\n",
    "    return wrapper"
   ]
  },
  {
   "cell_type": "code",
   "execution_count": 236,
   "id": "2cf205a5-dc30-407d-b0f5-b6f7a252e11a",
   "metadata": {},
   "outputs": [],
   "source": [
    "@profile\n",
    "def get_most_similar(selections_dict,model):\n",
    "    query = get_single_vector(selections_dict)\n",
    "    neighbors, distances = searcher.search(query, final_num_neighbors=2900000)\n",
    "    return np.array(list(model.wv.vocab))[neighbors]"
   ]
  },
  {
   "cell_type": "code",
   "execution_count": 242,
   "id": "89c110c2-22a4-4788-a0ec-3fcfe8460963",
   "metadata": {},
   "outputs": [
    {
     "name": "stdout",
     "output_type": "stream",
     "text": [
      "get_most_similar:consumed memory: 2,220,281,856\n"
     ]
    },
    {
     "name": "stderr",
     "output_type": "stream",
     "text": [
      "/opt/conda/lib/python3.7/site-packages/ipykernel_launcher.py:2: DeprecationWarning: Call to deprecated `wv` (Attribute will be removed in 4.0.0, use self instead).\n",
      "  \n",
      "/opt/conda/lib/python3.7/site-packages/ipykernel_launcher.py:5: DeprecationWarning: Call to deprecated `wv` (Attribute will be removed in 4.0.0, use self instead).\n",
      "  \"\"\"\n"
     ]
    }
   ],
   "source": [
    "ids = get_most_similar(selections_dict,model)"
   ]
  },
  {
   "cell_type": "code",
   "execution_count": 238,
   "id": "0f967617-1a37-422f-bd0d-73e0dd2f199c",
   "metadata": {},
   "outputs": [],
   "source": [
    "@profile\n",
    "def cosmul_similar(selections_dict,model):\n",
    "    return model.most_similar_cosmul(**selections_dict, topn=1000000)"
   ]
  },
  {
   "cell_type": "code",
   "execution_count": 243,
   "id": "88f2fa2d-86a3-4944-8da6-6792ce93b11a",
   "metadata": {},
   "outputs": [
    {
     "name": "stdout",
     "output_type": "stream",
     "text": [
      "cosmul_similar:consumed memory: 2,219,188,224\n"
     ]
    }
   ],
   "source": [
    "ids = cosmul_similar(selections_dict,model)"
   ]
  },
  {
   "cell_type": "code",
   "execution_count": null,
   "id": "f56175b2-8d94-4561-bf61-f5027acbfea9",
   "metadata": {},
   "outputs": [],
   "source": []
  }
 ],
 "metadata": {
  "kernelspec": {
   "display_name": "Python 3",
   "language": "python",
   "name": "python3"
  },
  "language_info": {
   "codemirror_mode": {
    "name": "ipython",
    "version": 3
   },
   "file_extension": ".py",
   "mimetype": "text/x-python",
   "name": "python",
   "nbconvert_exporter": "python",
   "pygments_lexer": "ipython3",
   "version": "3.7.12"
  }
 },
 "nbformat": 4,
 "nbformat_minor": 5
}
