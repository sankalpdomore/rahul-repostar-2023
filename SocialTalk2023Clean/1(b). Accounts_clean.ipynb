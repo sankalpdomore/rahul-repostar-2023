{
 "cells": [
  {
   "cell_type": "code",
   "execution_count": 17,
   "id": "253c297f-4ffb-4961-ab06-dfb10772d5b9",
   "metadata": {},
   "outputs": [],
   "source": [
    "import pandas as pd\n",
    "import numpy as np"
   ]
  },
  {
   "cell_type": "code",
   "execution_count": 18,
   "id": "f6f3d111-7d07-4c57-8611-e4ffd0d1fc41",
   "metadata": {},
   "outputs": [],
   "source": [
    "# Shape (2931112, 23)\n",
    "users  = pd.read_csv('../SocialTalk 2023/accounts.csv', on_bad_lines='skip', low_memory=False) #We are encoutering some bad lines creating some error so we skip over them\n",
    "users['label'] = users['Id'].apply(lambda x: f'Account:{x}') #adding label here\n",
    "users['Social network'] = users['Social network'].replace(['None'],np.nan) # replacing 'None' in Social network with np.nan"
   ]
  },
  {
   "cell_type": "code",
   "execution_count": 19,
   "id": "25ec5206-1c7f-4ecb-819f-8da5dabbe2f1",
   "metadata": {},
   "outputs": [
    {
     "data": {
      "text/plain": [
       "Id                            int64\n",
       "Social network               object\n",
       "Username                     object\n",
       "Name                         object\n",
       "Country id                   object\n",
       "City id                     float64\n",
       "Birthdate                    object\n",
       "Gender                       object\n",
       "Followers                    object\n",
       "Following                     int64\n",
       "Posts                         int64\n",
       "Engagement                    int64\n",
       "Estimated reach               int64\n",
       "Estimated impressions         int64\n",
       "Avg. posts per week           int64\n",
       "Avg. posts per month          int64\n",
       "Avg. likes per post         float64\n",
       "Avg. engagement per post    float64\n",
       "Avg. comments per post      float64\n",
       "Avg. views per video        float64\n",
       "Relevant tags                object\n",
       "Audience credibility        float64\n",
       "label                        object\n",
       "dtype: object"
      ]
     },
     "execution_count": 19,
     "metadata": {},
     "output_type": "execute_result"
    }
   ],
   "source": [
    "#checking the datatypes of each column\n",
    "users.dtypes"
   ]
  },
  {
   "cell_type": "code",
   "execution_count": 4,
   "id": "4ebcedd5-d169-4ef0-81d3-404056f54a4e",
   "metadata": {},
   "outputs": [
    {
     "data": {
      "text/plain": [
       "Id                                0\n",
       "Social network                    7\n",
       "Username                          1\n",
       "Name                             17\n",
       "Country id                   159358\n",
       "City id                     1009427\n",
       "Birthdate                   2930113\n",
       "Gender                      1043111\n",
       "Followers                        11\n",
       "Following                         0\n",
       "Posts                             0\n",
       "Engagement                        0\n",
       "Estimated reach                   0\n",
       "Estimated impressions             0\n",
       "Avg. posts per week               0\n",
       "Avg. posts per month              0\n",
       "Avg. likes per post               2\n",
       "Avg. engagement per post          2\n",
       "Avg. comments per post            2\n",
       "Avg. views per video              4\n",
       "Relevant tags                262299\n",
       "Audience credibility        2927542\n",
       "label                             0\n",
       "dtype: int64"
      ]
     },
     "execution_count": 4,
     "metadata": {},
     "output_type": "execute_result"
    }
   ],
   "source": [
    "#checking the nan values in each column\n",
    "users.isna().sum()"
   ]
  },
  {
   "cell_type": "code",
   "execution_count": 20,
   "id": "68a5d07b-bd72-4f96-a699-3b38c043227f",
   "metadata": {},
   "outputs": [],
   "source": [
    "#Extracting categorical and numerical columns\n",
    "#users=users.set_index(\"Id\")\n",
    "cat=[\"label\", \"Relevant tags\", \"Gender\", \"Birthdate\", \"Name\", \"Username\", \"Social network\"]\n",
    "num= list(set(users.columns)-set(cat))"
   ]
  },
  {
   "cell_type": "code",
   "execution_count": 23,
   "id": "2dc39369-66e3-42d0-8346-ef599e828d51",
   "metadata": {},
   "outputs": [],
   "source": [
    "#replacing non numeric values to Nan\n",
    "users[num] = users[num].apply(lambda col:pd.to_numeric(col, errors='coerce'))"
   ]
  },
  {
   "cell_type": "code",
   "execution_count": 6,
   "id": "8b036d39-c756-4601-8768-0e3cd6ec66c8",
   "metadata": {},
   "outputs": [],
   "source": [
    "#replacing non numeric values to Nan\n",
    "users[num] = users[num].apply(lambda col:pd.to_numeric(col, errors='coerce'))\n",
    "\n",
    "#Replacing Nan in categorical columns with \"Unkown\"\n",
    "#Replacing non numeric values to Nan\n",
    "for i in users.columns:\n",
    "    if i in cat:\n",
    "        users[i].replace(np.nan,\"Unkown\",inplace=True)\n",
    "    else:\n",
    "        users[i].replace(np.nan,-1,inplace=True)"
   ]
  },
  {
   "cell_type": "code",
   "execution_count": 7,
   "id": "19148e41-92b0-42c0-b7f4-63cc95ea8b5c",
   "metadata": {},
   "outputs": [
    {
     "data": {
      "text/plain": [
       "Id                          0\n",
       "Following                   0\n",
       "City id                     0\n",
       "Avg. posts per week         0\n",
       "Followers                   0\n",
       "Avg. posts per month        0\n",
       "Country id                  0\n",
       "Engagement                  0\n",
       "Avg. comments per post      0\n",
       "Audience credibility        0\n",
       "Posts                       0\n",
       "Estimated reach             0\n",
       "Avg. engagement per post    0\n",
       "Avg. likes per post         0\n",
       "Estimated impressions       0\n",
       "Avg. views per video        0\n",
       "dtype: int64"
      ]
     },
     "execution_count": 7,
     "metadata": {},
     "output_type": "execute_result"
    }
   ],
   "source": [
    "users[num].isna().sum()"
   ]
  },
  {
   "cell_type": "code",
   "execution_count": 8,
   "id": "50bbfcac-5613-401a-b8cf-d7ad7bd399a5",
   "metadata": {},
   "outputs": [
    {
     "data": {
      "text/plain": [
       "label             0\n",
       "Relevant tags     0\n",
       "Gender            0\n",
       "Birthdate         0\n",
       "Social network    0\n",
       "Birthdate         0\n",
       "Name              0\n",
       "Username          0\n",
       "Social network    0\n",
       "dtype: int64"
      ]
     },
     "execution_count": 8,
     "metadata": {},
     "output_type": "execute_result"
    }
   ],
   "source": [
    "users[cat].isna().sum()"
   ]
  },
  {
   "cell_type": "code",
   "execution_count": 9,
   "id": "f500d9b8-5a49-4b00-937b-5310de9679d1",
   "metadata": {},
   "outputs": [
    {
     "data": {
      "text/plain": [
       "Id                            int64\n",
       "Following                     int64\n",
       "City id                     float64\n",
       "Avg. posts per week           int64\n",
       "Followers                   float64\n",
       "Avg. posts per month          int64\n",
       "Country id                  float64\n",
       "Engagement                    int64\n",
       "Avg. comments per post      float64\n",
       "Audience credibility        float64\n",
       "Posts                         int64\n",
       "Estimated reach               int64\n",
       "Avg. engagement per post    float64\n",
       "Avg. likes per post         float64\n",
       "Estimated impressions         int64\n",
       "Avg. views per video        float64\n",
       "dtype: object"
      ]
     },
     "execution_count": 9,
     "metadata": {},
     "output_type": "execute_result"
    }
   ],
   "source": [
    "users[num].dtypes"
   ]
  },
  {
   "cell_type": "code",
   "execution_count": 11,
   "id": "35e51468-4392-4f13-8d41-c62b2905fb24",
   "metadata": {},
   "outputs": [
    {
     "data": {
      "text/plain": [
       "Index(['Id', 'Social network', 'Username', 'Name', 'Country id', 'City id',\n",
       "       'Birthdate', 'Gender', 'Followers', 'Following', 'Posts', 'Engagement',\n",
       "       'Estimated reach', 'Estimated impressions', 'Avg. posts per week',\n",
       "       'Avg. posts per month', 'Avg. likes per post',\n",
       "       'Avg. engagement per post', 'Avg. comments per post',\n",
       "       'Avg. views per video', 'Relevant tags', 'Audience credibility',\n",
       "       'label'],\n",
       "      dtype='object')"
      ]
     },
     "execution_count": 11,
     "metadata": {},
     "output_type": "execute_result"
    }
   ],
   "source": [
    "users.columns"
   ]
  },
  {
   "cell_type": "code",
   "execution_count": 24,
   "id": "97a1a42d-d0c5-47a7-b209-34807a82bf08",
   "metadata": {},
   "outputs": [],
   "source": [
    "#converting city id, country id and followers to int\n",
    "users[\"Country id\"] = users[\"Country id\"].astype(\"float64\")\n",
    "users[\"City id\"] = users[\"City id\"].astype(\"float64\")\n",
    "users[\"Followers\"] = users[\"Followers\"].astype(\"float64\")\n",
    "users[\"Following\"] = users[\"Following\"].astype(\"float64\")\n",
    "\n",
    "users.to_csv(\"clean/accounts.csv\",index=False)"
   ]
  },
  {
   "cell_type": "code",
   "execution_count": 16,
   "id": "745a6a26-caf6-4148-8fa5-234e573c1632",
   "metadata": {},
   "outputs": [
    {
     "data": {
      "text/plain": [
       "Id                           object\n",
       "Social network               object\n",
       "Username                     object\n",
       "Name                         object\n",
       "Country id                   object\n",
       "City id                     float64\n",
       "Birthdate                    object\n",
       "Gender                       object\n",
       "Followers                   float64\n",
       "Following                   float64\n",
       "Posts                       float64\n",
       "Engagement                  float64\n",
       "Estimated reach             float64\n",
       "Estimated impressions       float64\n",
       "Avg. posts per week         float64\n",
       "Avg. posts per month        float64\n",
       "Avg. likes per post         float64\n",
       "Avg. engagement per post     object\n",
       "Avg. comments per post      float64\n",
       "Avg. views per video         object\n",
       "Relevant tags                object\n",
       "Audience credibility        float64\n",
       "label                        object\n",
       "dtype: object"
      ]
     },
     "execution_count": 16,
     "metadata": {},
     "output_type": "execute_result"
    }
   ],
   "source": [
    "pd.read_csv(\"clean/accounts.csv\").dtypes"
   ]
  },
  {
   "cell_type": "code",
   "execution_count": null,
   "id": "6d3ac1cb-e2a2-40a7-a6ec-d671dc5714f6",
   "metadata": {},
   "outputs": [],
   "source": []
  }
 ],
 "metadata": {
  "kernelspec": {
   "display_name": "Python 3",
   "language": "python",
   "name": "python3"
  },
  "language_info": {
   "codemirror_mode": {
    "name": "ipython",
    "version": 3
   },
   "file_extension": ".py",
   "mimetype": "text/x-python",
   "name": "python",
   "nbconvert_exporter": "python",
   "pygments_lexer": "ipython3",
   "version": "3.7.12"
  }
 },
 "nbformat": 4,
 "nbformat_minor": 5
}
