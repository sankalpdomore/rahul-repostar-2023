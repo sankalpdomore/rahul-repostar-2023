{
 "cells": [
  {
   "cell_type": "code",
   "execution_count": 2,
   "id": "993ed188-267c-408a-a953-ff0cfe901e1f",
   "metadata": {},
   "outputs": [],
   "source": [
    "import pandas as pd\n",
    "import numpy as np"
   ]
  },
  {
   "cell_type": "code",
   "execution_count": 3,
   "id": "74f930b3-dc38-4b8d-90b0-08dde3646972",
   "metadata": {},
   "outputs": [],
   "source": [
    "users  = pd.read_csv('../SocialTalk 2023/accounts.csv', on_bad_lines='skip', low_memory=False) #We are encoutering some bad lines creating some error so we skip over them"
   ]
  },
  {
   "cell_type": "code",
   "execution_count": 4,
   "id": "b49f5c6c-9714-4315-b9ae-97b7e1c7eada",
   "metadata": {},
   "outputs": [],
   "source": [
    "sample_accounts = users[:20000]['Id']\n",
    "sample = pd.read_excel('accounts-examples.xlsx')['Account Id']\n",
    "sample_accounts = pd.concat([sample,sample_accounts]).drop_duplicates(keep='first')"
   ]
  },
  {
   "cell_type": "code",
   "execution_count": 9,
   "id": "3c32bdf6-8982-429c-bb38-34c21dc30742",
   "metadata": {},
   "outputs": [],
   "source": [
    "df = users[users['Id'].isin(sample_accounts)]"
   ]
  },
  {
   "cell_type": "code",
   "execution_count": 11,
   "id": "095b0698-deda-4ace-92c0-a8e750a7a8a0",
   "metadata": {},
   "outputs": [],
   "source": [
    "def get_user_lookup(df):\n",
    "    df[['Id','Name','Followers','Estimated reach']].set_index('Id').to_json('user_lookup.json', orient='index')"
   ]
  },
  {
   "cell_type": "code",
   "execution_count": 12,
   "id": "77f4e247-a13e-40c9-87cc-2917a4af0e76",
   "metadata": {},
   "outputs": [],
   "source": [
    "get_user_lookup(df)"
   ]
  },
  {
   "cell_type": "code",
   "execution_count": null,
   "id": "5a8cb43e-2fea-491e-8dbe-8495cf0e3b38",
   "metadata": {},
   "outputs": [],
   "source": []
  }
 ],
 "metadata": {
  "kernelspec": {
   "display_name": "Python 3",
   "language": "python",
   "name": "python3"
  },
  "language_info": {
   "codemirror_mode": {
    "name": "ipython",
    "version": 3
   },
   "file_extension": ".py",
   "mimetype": "text/x-python",
   "name": "python",
   "nbconvert_exporter": "python",
   "pygments_lexer": "ipython3",
   "version": "3.7.12"
  }
 },
 "nbformat": 4,
 "nbformat_minor": 5
}
