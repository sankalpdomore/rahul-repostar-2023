{
 "cells": [
  {
   "cell_type": "code",
   "execution_count": 4,
   "id": "005e47d5-8274-4e06-8441-7bec5db18155",
   "metadata": {},
   "outputs": [],
   "source": [
    "import pandas as pd\n",
    "df = pd.read_csv(\"edge_list_324175.csv\")"
   ]
  },
  {
   "cell_type": "code",
   "execution_count": 5,
   "id": "419961c2-e5cd-4380-ae75-43027743d9a9",
   "metadata": {},
   "outputs": [],
   "source": [
    "final=[]\n",
    "for i in df.values:\n",
    "    if i[0] in [\"Account:160\",\"Account:151\",\"Account:155\"]:\n",
    "        final.append(i)"
   ]
  },
  {
   "cell_type": "code",
   "execution_count": 6,
   "id": "cf4e6a32-73ca-4375-bf3a-c48213c7ce5f",
   "metadata": {},
   "outputs": [],
   "source": [
    "import networkx as nx\n",
    "graph = pd.DataFrame(final, columns=['source', 'target'])\n",
    "G = nx.from_pandas_edgelist(graph)"
   ]
  },
  {
   "cell_type": "code",
   "execution_count": 9,
   "id": "9effd2d8-d8d9-4bef-8eef-6d8534a400ec",
   "metadata": {},
   "outputs": [
    {
     "name": "stdout",
     "output_type": "stream",
     "text": [
      "Warning: When  cdn_resources is 'local' jupyter notebook has issues displaying graphics on chrome/safari. Use cdn_resources='in_line' or cdn_resources='remote' if you have issues viewing graphics in a notebook.\n",
      "structure.html\n"
     ]
    },
    {
     "data": {
      "text/html": [
       "\n",
       "        <iframe\n",
       "            width=\"100%\"\n",
       "            height=\"600px\"\n",
       "            src=\"structure.html\"\n",
       "            frameborder=\"0\"\n",
       "            allowfullscreen\n",
       "            \n",
       "        ></iframe>\n",
       "        "
      ],
      "text/plain": [
       "<IPython.lib.display.IFrame at 0x7fb7efd96b90>"
      ]
     },
     "execution_count": 9,
     "metadata": {},
     "output_type": "execute_result"
    }
   ],
   "source": [
    "from pyvis.network import Network\n",
    "net = Network(notebook=True)\n",
    "net.from_nx(G)\n",
    "net.show(\"structure.html\")"
   ]
  }
 ],
 "metadata": {
  "kernelspec": {
   "display_name": "Python 3",
   "language": "python",
   "name": "python3"
  },
  "language_info": {
   "codemirror_mode": {
    "name": "ipython",
    "version": 3
   },
   "file_extension": ".py",
   "mimetype": "text/x-python",
   "name": "python",
   "nbconvert_exporter": "python",
   "pygments_lexer": "ipython3",
   "version": "3.7.12"
  }
 },
 "nbformat": 4,
 "nbformat_minor": 5
}
