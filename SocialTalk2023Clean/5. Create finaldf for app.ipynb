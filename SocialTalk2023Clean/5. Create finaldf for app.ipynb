{
 "cells": [
  {
   "cell_type": "markdown",
   "id": "0aee0837-8a61-49e4-a3cb-955334e12a76",
   "metadata": {},
   "source": [
    "# Final_app_df.csv creation process"
   ]
  },
  {
   "cell_type": "code",
   "execution_count": 1,
   "id": "511ba416-39b1-4447-a4d5-fde139e3bba6",
   "metadata": {},
   "outputs": [],
   "source": [
    "import pandas as pd\n",
    "import numpy as np\n",
    "import umap\n",
    "import json\n",
    "\n",
    "from gensim.models import KeyedVectors"
   ]
  },
  {
   "cell_type": "code",
   "execution_count": 2,
   "id": "10f34f7d-891f-4509-ab14-cc2f0f2fe694",
   "metadata": {},
   "outputs": [],
   "source": [
    "with open('user_lookup.json', 'r') as f:\n",
    "    user_lookup = json.load(f)"
   ]
  },
  {
   "cell_type": "code",
   "execution_count": 3,
   "id": "e2ad8e14-cf4e-4f4f-aba2-8715458e24c4",
   "metadata": {},
   "outputs": [],
   "source": [
    "def get_visualization_df(embeddings, user_lookup):\n",
    "    visuals = pd.DataFrame(embeddings, index=words, columns=['x', 'y', 'z'])\n",
    "    visuals['size'] = 0.01\n",
    "    visuals['node_type'] = [i.split(':')[0]  for i in visuals.index.tolist()]\n",
    "    visuals = visuals.reset_index()\n",
    "\n",
    "    account_nodes = visuals[visuals['node_type'] == 'Account']\n",
    "    account_ids = account_nodes['index'].apply(lambda x: x.split(':')[1]).astype(str)\n",
    "    account_metadata = pd.DataFrame(account_ids.map(user_lookup).values.tolist(), index=account_ids)\n",
    "    account_metadata.index = [f'Account:{i}' for i in account_metadata.index]\n",
    "    account_metadata = account_metadata.reset_index()\n",
    "\n",
    "    final = visuals.merge(account_metadata, on='index', how='left')\n",
    "    final['Name'] = final['Name'].fillna('')\n",
    "    final['Followers'] = final['Followers'].fillna(0)\n",
    "    final['Estimated reach'] = final['Estimated reach'].fillna(0)\n",
    "\n",
    "    return final"
   ]
  },
  {
   "cell_type": "code",
   "execution_count": 4,
   "id": "214ef92b-fa42-407e-8a34-aaeea0b5f1fd",
   "metadata": {},
   "outputs": [
    {
     "name": "stderr",
     "output_type": "stream",
     "text": [
      "/opt/conda/lib/python3.7/site-packages/ipykernel_launcher.py:2: DeprecationWarning: Call to deprecated `wv` (Attribute will be removed in 4.0.0, use self instead).\n",
      "  \n",
      "/opt/conda/lib/python3.7/site-packages/ipykernel_launcher.py:3: DeprecationWarning: Call to deprecated `wv` (Attribute will be removed in 4.0.0, use self instead).\n",
      "  This is separate from the ipykernel package so we can avoid doing imports until\n"
     ]
    }
   ],
   "source": [
    "model = KeyedVectors.load_word2vec_format(\"GGvec_model_v1.bin\")\n",
    "words = list(model.wv.vocab)\n",
    "g2v_embeds = pd.DataFrame([model.wv[i] for i in words], index=words)\n",
    "\n",
    "reducer = umap.UMAP(n_components=3, min_dist=0.25, n_neighbors=100)\n",
    "embeddings = reducer.fit_transform(g2v_embeds)"
   ]
  },
  {
   "cell_type": "code",
   "execution_count": 5,
   "id": "85f70da2-0f98-4b2e-916e-52596760f7f5",
   "metadata": {},
   "outputs": [],
   "source": [
    "final = get_visualization_df(embeddings, user_lookup)\n",
    "final.to_csv('final_app_input_df_1.csv', index=None)"
   ]
  },
  {
   "cell_type": "code",
   "execution_count": null,
   "id": "90854b21-d600-4452-866f-4805890d9580",
   "metadata": {},
   "outputs": [],
   "source": []
  }
 ],
 "metadata": {
  "kernelspec": {
   "display_name": "Python 3",
   "language": "python",
   "name": "python3"
  },
  "language_info": {
   "codemirror_mode": {
    "name": "ipython",
    "version": 3
   },
   "file_extension": ".py",
   "mimetype": "text/x-python",
   "name": "python",
   "nbconvert_exporter": "python",
   "pygments_lexer": "ipython3",
   "version": "3.7.12"
  }
 },
 "nbformat": 4,
 "nbformat_minor": 5
}
