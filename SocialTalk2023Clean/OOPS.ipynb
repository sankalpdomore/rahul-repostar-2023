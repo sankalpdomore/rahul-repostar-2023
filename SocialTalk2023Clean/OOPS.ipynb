{
 "cells": [
  {
   "cell_type": "code",
   "execution_count": 1,
   "id": "50b0bd03-16cd-40de-8ac3-a2cb992cd673",
   "metadata": {},
   "outputs": [],
   "source": [
    "import pandas as pd"
   ]
  },
  {
   "cell_type": "code",
   "execution_count": 2,
   "id": "2719e49a-851c-4f1f-a2fc-e56690af2d4a",
   "metadata": {},
   "outputs": [],
   "source": [
    "import numpy as np"
   ]
  },
  {
   "cell_type": "code",
   "execution_count": 3,
   "id": "b08a9189-78e6-45c8-bde5-99a0405a3ec5",
   "metadata": {},
   "outputs": [],
   "source": [
    "import os"
   ]
  },
  {
   "cell_type": "markdown",
   "id": "c827dd64-bab2-4867-add4-36961f3e5715",
   "metadata": {
    "jp-MarkdownHeadingCollapsed": true,
    "tags": []
   },
   "source": [
    "## Preprocess and store"
   ]
  },
  {
   "cell_type": "code",
   "execution_count": 37,
   "id": "f8dadc5b-b02e-4932-b97b-6148b5e7e11d",
   "metadata": {
    "tags": []
   },
   "outputs": [],
   "source": [
    "users  = pd.read_csv('./clean/accounts.csv', on_bad_lines='skip', low_memory=False, lineterminator='\\n') #We are encoutering some bad lines creating some error so we skip over them\n",
    "cat=[\"Id\",\"Gender\", \"Social network\"]\n",
    "num=['Country id','City id','Followers',\"Engagement\",\"Posts\",\"Estimated reach\",\"Avg. views per video\", \"Avg. comments per post\", \"Avg. likes per post\", \"Avg. posts per week\"]\n",
    "users = users[cat+num]\n",
    "users = users.rename(columns={'City id': 'City','Country id':'Country'})\n",
    "for i in users.columns:\n",
    "    users = users.rename(columns={i: i.replace(\" \",\"_\")})\n",
    "#Mapping city    \n",
    "city_ids = pd.read_csv('../SocialTalk 2023/cities.csv', low_memory=False) \n",
    "city_ids['Name'] = city_ids['Name'].str.replace(\" \",\"_\")#Replace white space by \"_\"\n",
    "\n",
    "users['City'] = users['City'].map(city_ids.set_index('Id')['Name'].to_dict())\n",
    "\n",
    "#Mapping country\n",
    "country_ids = pd.read_csv('../SocialTalk 2023/countries.csv', low_memory=False)\n",
    "country_ids['Name'] = country_ids['Name'].str.replace(\" \",\"_\")#Replace white space by \"_\"\n",
    "\n",
    "users['Country'] = users['Country'].map(country_ids.set_index('Id')['Name'].to_dict())\n",
    "\n",
    "# Removing outlier\n",
    "users.loc[users['Posts'] == 0,'Posts'] = np.nan \n",
    "users.loc[users['Avg._views_per_video'] == 0,'Avg._views_per_video'] = np.nan\n",
    "users.loc[users['Estimated_reach'] == 0,'Estimated_reach'] = np.nan\n",
    "users.loc[users[\"Avg._comments_per_post\"] == 0 ,\"Avg._comments_per_post\"] = np.nan\n",
    "users.loc[users[\"Avg._likes_per_post\"] == 0 ,\"Avg._likes_per_post\"] = np.nan\n",
    "users.drop(\"Avg._posts_per_week\",axis=1,inplace = True)\n",
    "\n",
    "users.rename(columns = {'Id':'Account Id'}, inplace = True)\n"
   ]
  },
  {
   "cell_type": "code",
   "execution_count": null,
   "id": "93429db3-afcf-4b5e-b65b-7585af31918e",
   "metadata": {},
   "outputs": [],
   "source": [
    "'''\n",
    "q_low = users['Avg._posts_per_week'].quantile(0.01)\n",
    "q_hi  = users['Avg._posts_per_week'].quantile(0.99)\n",
    "print(q_low,q_hi)\n",
    "users[(users['Avg._posts_per_week'] < q_hi) & (users['Avg._posts_per_week'] > q_low)]\n",
    "\n",
    "'''"
   ]
  },
  {
   "cell_type": "code",
   "execution_count": 38,
   "id": "5f937524-28dc-4ea7-9e0d-7e63a3c905f0",
   "metadata": {},
   "outputs": [],
   "source": [
    "users.to_csv('Clean/clean_accounts.csv',index=False)"
   ]
  },
  {
   "cell_type": "code",
   "execution_count": 151,
   "id": "fe47a927-1f8c-4df2-bda0-21718120e1e2",
   "metadata": {},
   "outputs": [],
   "source": [
    "audience_genders = pd.read_csv('./clean/accounts-audience-genders.csv')\n",
    "for i in audience_genders.columns[1:]:\n",
    "    audience_genders.rename(columns = {i:'Audience-Gender-' + i.replace(' ','_')}, inplace = True)\n",
    "    \n",
    "audience_ages = pd.read_csv('./clean/accounts-audience-ages.csv')\n",
    "for i in audience_ages.columns:\n",
    "    if(i != 'Account Id'):\n",
    "        audience_ages.rename(columns = {i:'Audience-Age-' + i.replace(' ','_')}, inplace = True)\n",
    "# Outliers        \n",
    "audience_ages.loc[audience_ages['Audience-Age-65-_%'] == 0,'Audience-Age-65-_%'] = np.nan"
   ]
  },
  {
   "cell_type": "code",
   "execution_count": 152,
   "id": "da9e0f6b-49bd-4d5a-8155-3ba136565467",
   "metadata": {},
   "outputs": [],
   "source": [
    "audience_genders.to_csv('Clean/accounts-audience-genders.csv',index=False)\n",
    "audience_ages.to_csv('Clean/accounts-audience-ages.csv',index=False)"
   ]
  },
  {
   "cell_type": "code",
   "execution_count": 140,
   "id": "c1123b93-89d3-4d84-8ea9-aa380581ff1b",
   "metadata": {},
   "outputs": [],
   "source": [
    "brand_ids = pd.read_csv('../SocialTalk 2023/brands.csv', low_memory=False) # Shape (3792, 2)\n",
    "account_brands = pd.read_csv('../SocialTalk 2023/accounts-brands.csv', low_memory=False)\n",
    "interest_ids = pd.read_csv('../SocialTalk 2023/interests.csv', low_memory=False) # Shape (60, 2)\n",
    "account_interests = pd.read_csv('../SocialTalk 2023/accounts-interests.csv', low_memory=False)"
   ]
  },
  {
   "cell_type": "code",
   "execution_count": 141,
   "id": "4973c352-ee83-4eb7-8979-5b14c754ca38",
   "metadata": {},
   "outputs": [],
   "source": [
    "brand_ids['Name'] = brand_ids['Name'].str.replace(\" \",\"_\")\n",
    "interest_ids['Name'] = interest_ids['Name'].str.replace(\" \",\"_\")"
   ]
  },
  {
   "cell_type": "code",
   "execution_count": 143,
   "id": "c52dca1b-6190-49ef-b662-a856de07cff8",
   "metadata": {},
   "outputs": [],
   "source": [
    "#brand_ids['label'] = 'Brand:' + brand_ids['Name'].astype(str)\n",
    "account_brands['Brand Id'] = account_brands['Brand Id'].map(brand_ids.set_index('Id')['Name'].to_dict())\n",
    "#interest_ids['label'] = 'Interest:' + interest_ids['Name'].astype(str)\n",
    "account_interests['Interest Id'] = account_interests['Interest Id'].map(interest_ids.set_index('Id')['Name'].to_dict())"
   ]
  },
  {
   "cell_type": "code",
   "execution_count": 146,
   "id": "e46d0eae-aa56-42d6-819f-2a52c61bd66e",
   "metadata": {},
   "outputs": [],
   "source": [
    "for i in account_brands.columns:\n",
    "    if(i != 'Account Id'):\n",
    "        account_brands.rename(columns = {i:'Brand'}, inplace = True)\n",
    "        \n",
    "for i in account_interests.columns:\n",
    "    if(i != 'Account Id'):\n",
    "        account_interests.rename(columns = {i:'Interest'}, inplace = True)"
   ]
  },
  {
   "cell_type": "code",
   "execution_count": 147,
   "id": "62212b54-db3b-4cba-b3c0-9d5251f32688",
   "metadata": {},
   "outputs": [],
   "source": [
    "account_brands.to_csv('Clean/accounts-brands.csv',index=False)\n",
    "account_interests.to_csv('Clean/accounts-interests.csv',index=False)"
   ]
  },
  {
   "cell_type": "code",
   "execution_count": 164,
   "id": "02be31cc-d196-4e9d-a643-6559a43d4bd4",
   "metadata": {},
   "outputs": [],
   "source": [
    "audience_brands = pd.read_csv('../SocialTalk 2023/accounts-audience-brands.csv')\n",
    "audience_cities = pd.read_csv('../SocialTalk 2023/accounts-audience-cities.csv')\n",
    "audience_countries = pd.read_csv('../SocialTalk 2023/accounts-audience-countries.csv')\n",
    "audience_interests = pd.read_csv('../SocialTalk 2023/accounts-audience-interests.csv')"
   ]
  },
  {
   "cell_type": "code",
   "execution_count": 165,
   "id": "79334d5d-e685-4cf9-9cd1-0bbee024eacb",
   "metadata": {},
   "outputs": [],
   "source": [
    "audience_brands['Brand Id'] = audience_brands['Brand Id'].map(brand_ids.set_index('Id')['Name'].to_dict())\n",
    "audience_cities['City Id'] = audience_cities['City Id'].map(city_ids.set_index('Id')['Name'].to_dict())\n",
    "audience_countries['Country Id'] = audience_countries['Country Id'].map(country_ids.set_index('Id')['Name'].to_dict())\n",
    "audience_interests['Interest Id'] = audience_interests['Interest Id'].map(interest_ids.set_index('Id')['Name'].to_dict())"
   ]
  },
  {
   "cell_type": "code",
   "execution_count": 169,
   "id": "19c60a68-8d18-4aae-ad3f-4aea75562d89",
   "metadata": {},
   "outputs": [],
   "source": [
    "audience_brands['label'] = 'Audience_Brand_'+audience_brands['Brand Id'].astype(str) \n",
    "audience_cities['label'] = 'Audience_City_'+audience_cities['City Id'].astype(str) \n",
    "audience_countries['label'] = 'Audience_Country_'+audience_countries['Country Id'].astype(str)\n",
    "audience_interests['label'] = 'Audience_Interest_'+audience_interests['Interest Id'].astype(str) "
   ]
  },
  {
   "cell_type": "code",
   "execution_count": 173,
   "id": "af7b91dc-7c6e-4419-abbf-a847ebe966b8",
   "metadata": {},
   "outputs": [],
   "source": [
    "audience_brands.drop(['Brand Id'],axis=1,inplace=True)\n",
    "audience_cities.drop(['City Id'],axis=1,inplace=True)\n",
    "audience_countries.drop(['Country Id'],axis=1,inplace=True)\n",
    "audience_interests.drop(['Interest Id'],axis=1,inplace=True)"
   ]
  },
  {
   "cell_type": "code",
   "execution_count": 175,
   "id": "28882f3f-7532-4a42-9919-3676d3d2bc39",
   "metadata": {},
   "outputs": [],
   "source": [
    "audience_brands.to_csv('Clean/Audience/accounts-audience-brands.csv',index=False)\n",
    "audience_cities.to_csv('Clean/Audience/accounts-audience-cities.csv',index=False) \n",
    "audience_countries.to_csv('Clean/Audience/accounts-audience-countries.csv',index=False) \n",
    "audience_interests.to_csv('Clean/Audience/accounts-audience-interests.csv',index=False) "
   ]
  },
  {
   "cell_type": "markdown",
   "id": "e486a3a1-15bb-43ae-bbf0-dce1a325c1ab",
   "metadata": {
    "tags": []
   },
   "source": [
    "## Graph Class"
   ]
  },
  {
   "cell_type": "code",
   "execution_count": 4,
   "id": "dd260406-9aea-40b7-8fe5-e029fa2a50cb",
   "metadata": {},
   "outputs": [],
   "source": [
    "class Graph:\n",
    "    def __init__(self,data_path,primary_column,sample_accounts=None):\n",
    "        self.sample_accounts = sample_accounts\n",
    "        self.path = data_path # path to data folder\n",
    "        self.Id = primary_column # Account ID\n",
    " \n",
    "    def process_data(self):\n",
    "        # Clean Folder\n",
    "        data_files = []\n",
    "        for i in os.listdir(self.path):\n",
    "            if(i != '.ipynb_checkpoints' and i != 'Audience'):\n",
    "                data_files.append(pd.read_csv(self.path + i))\n",
    "                \n",
    "        if(isinstance(self.sample_accounts, pd.Series)): # Sampling\n",
    "            for i in range(len(data_files)):\n",
    "                #print(\"Sampling\")\n",
    "                data_files[i] = data_files[i][data_files[i][self.Id].isin(self.sample_accounts)]\n",
    "                #print(data_files[i].shape)\n",
    "        \n",
    "        numerics = ['int16', 'int32', 'int64', 'float16', 'float32', 'float64']\n",
    "        edges = []\n",
    "        for i in range(len(data_files)):\n",
    "            numeric_columns = data_files[i].select_dtypes(include=numerics).columns\n",
    "            #print(numeric_columns)\n",
    "            for j in numeric_columns:\n",
    "                if(j != self.Id):\n",
    "                    #print(\"Bining\",j)\n",
    "                    #print(data_files[i][j].shape)\n",
    "                    print(j)\n",
    "                    Quartiles = data_files[i][j].describe()\n",
    "                    print(Quartiles['min'],Quartiles['25%'],Quartiles['75%'],Quartiles['max'])\n",
    "                    print()\n",
    "                    data_files[i][j] = pd.qcut(data_files[i][j],q=[0, .25, .75, 1], labels=['Low', 'Medium', 'High'],duplicates='drop') #Binning Numerical\n",
    "                    \n",
    "            data_files[i][self.Id] = 'Account:' + data_files[i][self.Id].astype(str)\n",
    "            data_files[i] = data_files[i].set_index(self.Id)\n",
    "            \n",
    "            for column in data_files[i].columns:\n",
    "                #print(column)\n",
    "                series_tuples = [\n",
    "                    (account, f'{column}:{value}') for account, value in data_files[i][data_files[i][column].notna()][column].items()\n",
    "                    ]\n",
    "                edges.extend(series_tuples)\n",
    "                \n",
    "        #Audience Folder inside Clean Folder\n",
    "        audience_files = []\n",
    "        for i in os.listdir(self.path + 'Audience'):\n",
    "            if(i != '.ipynb_checkpoints'):\n",
    "                audience_files.append(pd.read_csv(self.path + 'Audience/' + i))\n",
    "        \n",
    "        if(isinstance(self.sample_accounts, pd.Series)): # Sampling\n",
    "            for i in range(len(audience_files)):\n",
    "                #print(\"Sampling\")\n",
    "                audience_files[i] = audience_files[i][audience_files[i][self.Id].isin(self.sample_accounts)]\n",
    "                #print(audience_files[i].shape)\n",
    "        \n",
    "        for i in range(len(audience_files)):\n",
    "            numeric_columns = audience_files[i].select_dtypes(include=numerics).columns\n",
    "            #print(numeric_columns)\n",
    "            for j in numeric_columns:\n",
    "                if(j != self.Id):\n",
    "                    #print(\"Bining\",j)\n",
    "                    #print(audience_files[i][j].shape)\n",
    "                    print(j)\n",
    "                    Quartiles = audience_files[i][j].describe()\n",
    "                    print(Quartiles['min'],Quartiles['25%'],Quartiles['75%'],Quartiles['max'])\n",
    "                    print()\n",
    "                    audience_files[i][j] = pd.qcut(audience_files[i][j],q=[0, .25, .75, 1], labels=['Low', 'Medium', 'High'],duplicates='drop') #Binning Numerical\n",
    "            \n",
    "            audience_files[i]['label'] = audience_files[i]['label'].astype(str) +\":\"+ audience_files[i]['%'].astype(str)\n",
    "            audience_files[i][self.Id] = 'Account:' + audience_files[i][self.Id].astype(str)\n",
    "            \n",
    "            edges += [k for k in audience_files[i].set_index(self.Id)['label'].items()]\n",
    "            \n",
    "        \n",
    "                \n",
    "        temp = pd.DataFrame(edges, columns=['source', 'target'])\n",
    "        print(temp.shape)\n",
    "        print(temp['source'].nunique() + temp['target'].nunique())\n",
    "        temp.to_csv(f'edge_list_{len(edges)}.csv',index=False)\n",
    "        return temp     "
   ]
  },
  {
   "cell_type": "code",
   "execution_count": 5,
   "id": "571ddb86",
   "metadata": {},
   "outputs": [],
   "source": [
    "users  = pd.read_csv('Clean/accounts.csv', on_bad_lines='skip', low_memory=False, lineterminator='\\n')"
   ]
  },
  {
   "cell_type": "code",
   "execution_count": 18,
   "id": "0cf42e20",
   "metadata": {},
   "outputs": [],
   "source": [
    "sample_accounts = users[:20000]['Account Id']"
   ]
  },
  {
   "cell_type": "code",
   "execution_count": 6,
   "id": "5e3d4a45-5d8d-4cb2-a47e-b8c8d31936d9",
   "metadata": {},
   "outputs": [],
   "source": [
    "a = Graph(data_path = 'Clean/',primary_column='Account Id')"
   ]
  },
  {
   "cell_type": "code",
   "execution_count": 7,
   "id": "dc35b283-94b2-45ae-a00a-417ff107b9df",
   "metadata": {
    "scrolled": false,
    "tags": []
   },
   "outputs": [
    {
     "name": "stdout",
     "output_type": "stream",
     "text": [
      "Followers\n",
      "0.0 4570.0 37345.0 608766764.0\n",
      "\n",
      "Engagement\n",
      "0.0 32.0 606.0 1032630249.0\n",
      "\n",
      "Posts\n",
      "-5.0 13.0 487.0 51076407815.0\n",
      "\n",
      "Estimated_reach\n",
      "1.0 1243.0 29003.75 190103038.0\n",
      "\n",
      "Avg._views_per_video\n",
      "1.0 215.0 16062.25 190103037.0\n",
      "\n",
      "Avg._comments_per_post\n",
      "1.0 3.0 45.0 229034.0\n",
      "\n",
      "Avg._likes_per_post\n",
      "-1.0 23.0 742.0 12791640.0\n",
      "\n",
      "Audience-Gender-MALE_%\n",
      "0.0 0.24129324732889168 0.638936438718986 1.0\n",
      "\n",
      "Audience-Gender-FEMALE_%\n",
      "0.0 0.361063561281014 0.7587067526711083 1.0\n",
      "\n",
      "Audience-Age-13-17_%\n",
      "-0.4605052024406861 0.02172259053470365 0.06394121123492782 0.4944444444444444\n",
      "\n",
      "Audience-Age-18-24_%\n",
      "0.0091023212139123 0.20589263981138162 0.4493649011884784 0.8746982353294148\n",
      "\n",
      "Audience-Age-25-34_%\n",
      "0.0317081952845224 0.34735377358245967 0.4666721578618893 0.7847846624062238\n",
      "\n",
      "Audience-Age-35-44_%\n",
      "0.0 0.07381590124313282 0.22576910648354517 0.5082787582787583\n",
      "\n",
      "Audience-Age-45-64_%\n",
      "0.0 0.01706027167596575 0.08558834457341218 0.7788613136170139\n",
      "\n",
      "Audience-Age-65-_%\n",
      "5.70287995437696e-05 0.00035334751528765 0.001440080096593 0.1086457810595741\n",
      "\n",
      "%\n",
      "0.005 0.006649 0.016401 0.60787\n",
      "\n",
      "%\n",
      "0.001026 0.015546410608139 0.0725099601593625 1.0\n",
      "\n",
      "%\n",
      "0.002105 0.006228 0.0148305 0.630769\n",
      "\n",
      "%\n",
      "0.0 0.0830972615675165 0.2496451383960255 0.9797558337196725\n",
      "\n",
      "(109794293, 2)\n",
      "2947940\n"
     ]
    }
   ],
   "source": [
    "temp = a.process_data()"
   ]
  },
  {
   "cell_type": "code",
   "execution_count": 8,
   "id": "fbbd0066-f986-4a58-96fb-5b10cf1fa3f4",
   "metadata": {},
   "outputs": [
    {
     "data": {
      "text/html": [
       "<div>\n",
       "<style scoped>\n",
       "    .dataframe tbody tr th:only-of-type {\n",
       "        vertical-align: middle;\n",
       "    }\n",
       "\n",
       "    .dataframe tbody tr th {\n",
       "        vertical-align: top;\n",
       "    }\n",
       "\n",
       "    .dataframe thead th {\n",
       "        text-align: right;\n",
       "    }\n",
       "</style>\n",
       "<table border=\"1\" class=\"dataframe\">\n",
       "  <thead>\n",
       "    <tr style=\"text-align: right;\">\n",
       "      <th></th>\n",
       "      <th>source</th>\n",
       "      <th>target</th>\n",
       "    </tr>\n",
       "  </thead>\n",
       "  <tbody>\n",
       "    <tr>\n",
       "      <th>0</th>\n",
       "      <td>Account:151</td>\n",
       "      <td>Gender:Male</td>\n",
       "    </tr>\n",
       "    <tr>\n",
       "      <th>1</th>\n",
       "      <td>Account:152</td>\n",
       "      <td>Gender:Male</td>\n",
       "    </tr>\n",
       "    <tr>\n",
       "      <th>2</th>\n",
       "      <td>Account:153</td>\n",
       "      <td>Gender:Male</td>\n",
       "    </tr>\n",
       "    <tr>\n",
       "      <th>3</th>\n",
       "      <td>Account:154</td>\n",
       "      <td>Gender:Male</td>\n",
       "    </tr>\n",
       "    <tr>\n",
       "      <th>4</th>\n",
       "      <td>Account:155</td>\n",
       "      <td>Gender:Female</td>\n",
       "    </tr>\n",
       "    <tr>\n",
       "      <th>...</th>\n",
       "      <td>...</td>\n",
       "      <td>...</td>\n",
       "    </tr>\n",
       "    <tr>\n",
       "      <th>109794288</th>\n",
       "      <td>Account:2936784</td>\n",
       "      <td>Audience_Interest_Restaurants,_Food_&amp;_Grocery:...</td>\n",
       "    </tr>\n",
       "    <tr>\n",
       "      <th>109794289</th>\n",
       "      <td>Account:2936784</td>\n",
       "      <td>Audience_Interest_Toys,_Children_&amp;_Baby:High</td>\n",
       "    </tr>\n",
       "    <tr>\n",
       "      <th>109794290</th>\n",
       "      <td>Account:2936784</td>\n",
       "      <td>Audience_Interest_Pets:Medium</td>\n",
       "    </tr>\n",
       "    <tr>\n",
       "      <th>109794291</th>\n",
       "      <td>Account:2936784</td>\n",
       "      <td>Audience_Interest_Healthy_Lifestyle:High</td>\n",
       "    </tr>\n",
       "    <tr>\n",
       "      <th>109794292</th>\n",
       "      <td>Account:2936784</td>\n",
       "      <td>Audience_Interest_Friends,_Family_&amp;_Relationsh...</td>\n",
       "    </tr>\n",
       "  </tbody>\n",
       "</table>\n",
       "<p>109794293 rows × 2 columns</p>\n",
       "</div>"
      ],
      "text/plain": [
       "                    source                                             target\n",
       "0              Account:151                                        Gender:Male\n",
       "1              Account:152                                        Gender:Male\n",
       "2              Account:153                                        Gender:Male\n",
       "3              Account:154                                        Gender:Male\n",
       "4              Account:155                                      Gender:Female\n",
       "...                    ...                                                ...\n",
       "109794288  Account:2936784  Audience_Interest_Restaurants,_Food_&_Grocery:...\n",
       "109794289  Account:2936784       Audience_Interest_Toys,_Children_&_Baby:High\n",
       "109794290  Account:2936784                      Audience_Interest_Pets:Medium\n",
       "109794291  Account:2936784           Audience_Interest_Healthy_Lifestyle:High\n",
       "109794292  Account:2936784  Audience_Interest_Friends,_Family_&_Relationsh...\n",
       "\n",
       "[109794293 rows x 2 columns]"
      ]
     },
     "execution_count": 8,
     "metadata": {},
     "output_type": "execute_result"
    }
   ],
   "source": [
    "temp"
   ]
  },
  {
   "cell_type": "code",
   "execution_count": 9,
   "id": "0c34565f-74c7-46d2-909e-aaebfbadace5",
   "metadata": {},
   "outputs": [
    {
     "data": {
      "text/plain": [
       "2947940"
      ]
     },
     "execution_count": 9,
     "metadata": {},
     "output_type": "execute_result"
    }
   ],
   "source": [
    "temp['source'].nunique() + temp['target'].nunique()"
   ]
  },
  {
   "cell_type": "code",
   "execution_count": null,
   "id": "bf281363",
   "metadata": {},
   "outputs": [],
   "source": []
  }
 ],
 "metadata": {
  "kernelspec": {
   "display_name": "Python 3 (ipykernel)",
   "language": "python",
   "name": "python3"
  },
  "language_info": {
   "codemirror_mode": {
    "name": "ipython",
    "version": 3
   },
   "file_extension": ".py",
   "mimetype": "text/x-python",
   "name": "python",
   "nbconvert_exporter": "python",
   "pygments_lexer": "ipython3",
   "version": "3.7.16"
  }
 },
 "nbformat": 4,
 "nbformat_minor": 5
}
