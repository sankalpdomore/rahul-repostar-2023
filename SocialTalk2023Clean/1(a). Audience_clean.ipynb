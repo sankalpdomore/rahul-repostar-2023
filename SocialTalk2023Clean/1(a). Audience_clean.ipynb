{
 "cells": [
  {
   "cell_type": "code",
   "execution_count": 5,
   "id": "8705be64-5bdb-4cba-86ef-51d923046b6c",
   "metadata": {},
   "outputs": [],
   "source": [
    "import pandas as pd\n",
    "import numpy as np"
   ]
  },
  {
   "cell_type": "markdown",
   "id": "7e4cbd86-5210-4679-94a2-6ce787ae2d44",
   "metadata": {
    "tags": []
   },
   "source": [
    "## Audience Age data"
   ]
  },
  {
   "cell_type": "code",
   "execution_count": 6,
   "id": "239d7050-d1a7-4099-9c7f-8de3d32fb30c",
   "metadata": {},
   "outputs": [],
   "source": [
    "age = pd.read_csv(\"../SocialTalk 2023/accounts-audience-ages.csv\")"
   ]
  },
  {
   "cell_type": "code",
   "execution_count": 7,
   "id": "2bb328e8-36ce-4583-bb65-3436bc5def90",
   "metadata": {},
   "outputs": [
    {
     "data": {
      "text/plain": [
       "Account Id          0\n",
       "13-17 %       2653339\n",
       "18-24 %             0\n",
       "25-34 %             0\n",
       "35-44 %             0\n",
       "45-64 %             0\n",
       "65- %               0\n",
       "dtype: int64"
      ]
     },
     "execution_count": 7,
     "metadata": {},
     "output_type": "execute_result"
    }
   ],
   "source": [
    "#only 13-17% age group has nan values\n",
    "age.isna().sum()"
   ]
  },
  {
   "cell_type": "code",
   "execution_count": 8,
   "id": "cef04b2d-618e-4870-8bee-d63cd408cdd2",
   "metadata": {},
   "outputs": [],
   "source": [
    "#replacing nan values in \"13 - 17 %\" by 1-sum(<rest of the columns>)\n",
    "def result(a):\n",
    "    return 1 - a.values.sum()\n",
    "age[\"13-17 %\"] = age.apply(lambda row : result(row[2:]),axis=1)"
   ]
  },
  {
   "cell_type": "code",
   "execution_count": 9,
   "id": "84bf8e41-3741-4bd6-be04-6244c6bb5d40",
   "metadata": {},
   "outputs": [
    {
     "data": {
      "text/plain": [
       "Account Id    0\n",
       "13-17 %       0\n",
       "18-24 %       0\n",
       "25-34 %       0\n",
       "35-44 %       0\n",
       "45-64 %       0\n",
       "65- %         0\n",
       "dtype: int64"
      ]
     },
     "execution_count": 9,
     "metadata": {},
     "output_type": "execute_result"
    }
   ],
   "source": [
    "age.isna().sum()"
   ]
  },
  {
   "cell_type": "code",
   "execution_count": 10,
   "id": "3092abc6-9482-476e-a1ae-d87685cc2bc9",
   "metadata": {},
   "outputs": [],
   "source": [
    "age.to_csv(\"clean/accounts-audience-ages.csv\",index=False)"
   ]
  },
  {
   "cell_type": "markdown",
   "id": "e6816120-686c-4f10-941f-93be47dc5a75",
   "metadata": {
    "tags": []
   },
   "source": [
    "## Audience Gender data"
   ]
  },
  {
   "cell_type": "code",
   "execution_count": 10,
   "id": "afa56755-5bdc-409c-aec8-1e27b3e63faa",
   "metadata": {},
   "outputs": [],
   "source": [
    "gender = pd.read_csv(\"../SocialTalk 2023/accounts-audience-genders.csv\")"
   ]
  },
  {
   "cell_type": "code",
   "execution_count": 13,
   "id": "5c465730-740f-4a16-bdd5-5eb6d8b2499f",
   "metadata": {},
   "outputs": [
    {
     "data": {
      "text/plain": [
       "Account Id    0\n",
       "MALE %        0\n",
       "FEMALE %      0\n",
       "dtype: int64"
      ]
     },
     "execution_count": 13,
     "metadata": {},
     "output_type": "execute_result"
    }
   ],
   "source": [
    "gender.isna().sum()"
   ]
  },
  {
   "cell_type": "code",
   "execution_count": 15,
   "id": "60771a0d-7edb-413d-942e-46b7c9dd8bc9",
   "metadata": {},
   "outputs": [],
   "source": [
    "# no null values \n",
    "gender.to_csv(\"clean/accounts-audience-genders.csv\",index=False)"
   ]
  },
  {
   "cell_type": "code",
   "execution_count": null,
   "id": "1e43186d-351a-4a3c-a30b-b4059167cd1e",
   "metadata": {},
   "outputs": [],
   "source": []
  }
 ],
 "metadata": {
  "kernelspec": {
   "display_name": "Python 3",
   "language": "python",
   "name": "python3"
  },
  "language_info": {
   "codemirror_mode": {
    "name": "ipython",
    "version": 3
   },
   "file_extension": ".py",
   "mimetype": "text/x-python",
   "name": "python",
   "nbconvert_exporter": "python",
   "pygments_lexer": "ipython3",
   "version": "3.7.12"
  }
 },
 "nbformat": 4,
 "nbformat_minor": 5
}
